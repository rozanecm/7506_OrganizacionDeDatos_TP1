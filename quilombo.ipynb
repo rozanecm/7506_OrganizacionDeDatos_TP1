{
 "cells": [
  {
   "cell_type": "code",
   "execution_count": 114,
   "metadata": {},
   "outputs": [],
   "source": [
    "import pandas as pd\n",
    "import numpy as np\n",
    "import matplotlib.pyplot as plt\n",
    "import seaborn as sns"
   ]
  },
  {
   "cell_type": "code",
   "execution_count": 115,
   "metadata": {},
   "outputs": [],
   "source": [
    "%matplotlib inline\n",
    "\n",
    "#plt.style.use('default') # haciendo los graficos un poco mas bonitos en matplotlib\n",
    "#plt.rcParams['figure.figsize'] = (20, 10)\n",
    "\n",
    "sns.set(style=\"whitegrid\") # seteando tipo de grid en seaborn\n",
    "\n",
    "pd.options.display.float_format = '{:20,.2f}'.format # suprimimos la notacion cientifica en los outputs"
   ]
  },
  {
   "cell_type": "code",
   "execution_count": 116,
   "metadata": {},
   "outputs": [],
   "source": [
    "eventos_raw = pd.read_csv('data/events.csv', low_memory = False)"
   ]
  },
  {
   "cell_type": "code",
   "execution_count": 117,
   "metadata": {},
   "outputs": [
    {
     "data": {
      "text/html": [
       "<div>\n",
       "<style scoped>\n",
       "    .dataframe tbody tr th:only-of-type {\n",
       "        vertical-align: middle;\n",
       "    }\n",
       "\n",
       "    .dataframe tbody tr th {\n",
       "        vertical-align: top;\n",
       "    }\n",
       "\n",
       "    .dataframe thead th {\n",
       "        text-align: right;\n",
       "    }\n",
       "</style>\n",
       "<table border=\"1\" class=\"dataframe\">\n",
       "  <thead>\n",
       "    <tr style=\"text-align: right;\">\n",
       "      <th></th>\n",
       "      <th>timestamp</th>\n",
       "      <th>event</th>\n",
       "      <th>person</th>\n",
       "      <th>url</th>\n",
       "      <th>sku</th>\n",
       "      <th>model</th>\n",
       "      <th>condition</th>\n",
       "      <th>storage</th>\n",
       "      <th>color</th>\n",
       "      <th>skus</th>\n",
       "      <th>...</th>\n",
       "      <th>search_engine</th>\n",
       "      <th>channel</th>\n",
       "      <th>new_vs_returning</th>\n",
       "      <th>city</th>\n",
       "      <th>region</th>\n",
       "      <th>country</th>\n",
       "      <th>device_type</th>\n",
       "      <th>screen_resolution</th>\n",
       "      <th>operating_system_version</th>\n",
       "      <th>browser_version</th>\n",
       "    </tr>\n",
       "  </thead>\n",
       "  <tbody>\n",
       "    <tr>\n",
       "      <th>0</th>\n",
       "      <td>2018-05-31 23:38:05</td>\n",
       "      <td>ad campaign hit</td>\n",
       "      <td>0004b0a2</td>\n",
       "      <td>/comprar/iphone/iphone-5s</td>\n",
       "      <td>NaN</td>\n",
       "      <td>NaN</td>\n",
       "      <td>NaN</td>\n",
       "      <td>NaN</td>\n",
       "      <td>NaN</td>\n",
       "      <td>NaN</td>\n",
       "      <td>...</td>\n",
       "      <td>NaN</td>\n",
       "      <td>NaN</td>\n",
       "      <td>NaN</td>\n",
       "      <td>NaN</td>\n",
       "      <td>NaN</td>\n",
       "      <td>NaN</td>\n",
       "      <td>NaN</td>\n",
       "      <td>NaN</td>\n",
       "      <td>NaN</td>\n",
       "      <td>NaN</td>\n",
       "    </tr>\n",
       "    <tr>\n",
       "      <th>1</th>\n",
       "      <td>2018-05-31 23:38:05</td>\n",
       "      <td>visited site</td>\n",
       "      <td>0004b0a2</td>\n",
       "      <td>NaN</td>\n",
       "      <td>NaN</td>\n",
       "      <td>NaN</td>\n",
       "      <td>NaN</td>\n",
       "      <td>NaN</td>\n",
       "      <td>NaN</td>\n",
       "      <td>NaN</td>\n",
       "      <td>...</td>\n",
       "      <td>NaN</td>\n",
       "      <td>Paid</td>\n",
       "      <td>New</td>\n",
       "      <td>Camaragibe</td>\n",
       "      <td>Pernambuco</td>\n",
       "      <td>Brazil</td>\n",
       "      <td>Smartphone</td>\n",
       "      <td>360x640</td>\n",
       "      <td>Android 6</td>\n",
       "      <td>Chrome Mobile 39</td>\n",
       "    </tr>\n",
       "    <tr>\n",
       "      <th>2</th>\n",
       "      <td>2018-05-31 23:38:09</td>\n",
       "      <td>viewed product</td>\n",
       "      <td>0004b0a2</td>\n",
       "      <td>NaN</td>\n",
       "      <td>2694.0</td>\n",
       "      <td>iPhone 5s</td>\n",
       "      <td>Bom</td>\n",
       "      <td>32GB</td>\n",
       "      <td>Cinza espacial</td>\n",
       "      <td>NaN</td>\n",
       "      <td>...</td>\n",
       "      <td>NaN</td>\n",
       "      <td>NaN</td>\n",
       "      <td>NaN</td>\n",
       "      <td>NaN</td>\n",
       "      <td>NaN</td>\n",
       "      <td>NaN</td>\n",
       "      <td>NaN</td>\n",
       "      <td>NaN</td>\n",
       "      <td>NaN</td>\n",
       "      <td>NaN</td>\n",
       "    </tr>\n",
       "    <tr>\n",
       "      <th>3</th>\n",
       "      <td>2018-05-31 23:38:40</td>\n",
       "      <td>checkout</td>\n",
       "      <td>0004b0a2</td>\n",
       "      <td>NaN</td>\n",
       "      <td>2694.0</td>\n",
       "      <td>iPhone 5s</td>\n",
       "      <td>Bom</td>\n",
       "      <td>32GB</td>\n",
       "      <td>Cinza espacial</td>\n",
       "      <td>NaN</td>\n",
       "      <td>...</td>\n",
       "      <td>NaN</td>\n",
       "      <td>NaN</td>\n",
       "      <td>NaN</td>\n",
       "      <td>NaN</td>\n",
       "      <td>NaN</td>\n",
       "      <td>NaN</td>\n",
       "      <td>NaN</td>\n",
       "      <td>NaN</td>\n",
       "      <td>NaN</td>\n",
       "      <td>NaN</td>\n",
       "    </tr>\n",
       "    <tr>\n",
       "      <th>4</th>\n",
       "      <td>2018-05-29 13:29:25</td>\n",
       "      <td>viewed product</td>\n",
       "      <td>0006a21a</td>\n",
       "      <td>NaN</td>\n",
       "      <td>15338.0</td>\n",
       "      <td>Samsung Galaxy S8</td>\n",
       "      <td>Bom</td>\n",
       "      <td>64GB</td>\n",
       "      <td>Dourado</td>\n",
       "      <td>NaN</td>\n",
       "      <td>...</td>\n",
       "      <td>NaN</td>\n",
       "      <td>NaN</td>\n",
       "      <td>NaN</td>\n",
       "      <td>NaN</td>\n",
       "      <td>NaN</td>\n",
       "      <td>NaN</td>\n",
       "      <td>NaN</td>\n",
       "      <td>NaN</td>\n",
       "      <td>NaN</td>\n",
       "      <td>NaN</td>\n",
       "    </tr>\n",
       "  </tbody>\n",
       "</table>\n",
       "<p>5 rows × 23 columns</p>\n",
       "</div>"
      ],
      "text/plain": [
       "             timestamp            event    person                        url  \\\n",
       "0  2018-05-31 23:38:05  ad campaign hit  0004b0a2  /comprar/iphone/iphone-5s   \n",
       "1  2018-05-31 23:38:05     visited site  0004b0a2                        NaN   \n",
       "2  2018-05-31 23:38:09   viewed product  0004b0a2                        NaN   \n",
       "3  2018-05-31 23:38:40         checkout  0004b0a2                        NaN   \n",
       "4  2018-05-29 13:29:25   viewed product  0006a21a                        NaN   \n",
       "\n",
       "       sku              model condition storage           color skus  \\\n",
       "0      NaN                NaN       NaN     NaN             NaN  NaN   \n",
       "1      NaN                NaN       NaN     NaN             NaN  NaN   \n",
       "2   2694.0          iPhone 5s       Bom    32GB  Cinza espacial  NaN   \n",
       "3   2694.0          iPhone 5s       Bom    32GB  Cinza espacial  NaN   \n",
       "4  15338.0  Samsung Galaxy S8       Bom    64GB         Dourado  NaN   \n",
       "\n",
       "         ...        search_engine channel new_vs_returning        city  \\\n",
       "0        ...                  NaN     NaN              NaN         NaN   \n",
       "1        ...                  NaN    Paid              New  Camaragibe   \n",
       "2        ...                  NaN     NaN              NaN         NaN   \n",
       "3        ...                  NaN     NaN              NaN         NaN   \n",
       "4        ...                  NaN     NaN              NaN         NaN   \n",
       "\n",
       "       region country device_type screen_resolution operating_system_version  \\\n",
       "0         NaN     NaN         NaN               NaN                      NaN   \n",
       "1  Pernambuco  Brazil  Smartphone           360x640                Android 6   \n",
       "2         NaN     NaN         NaN               NaN                      NaN   \n",
       "3         NaN     NaN         NaN               NaN                      NaN   \n",
       "4         NaN     NaN         NaN               NaN                      NaN   \n",
       "\n",
       "    browser_version  \n",
       "0               NaN  \n",
       "1  Chrome Mobile 39  \n",
       "2               NaN  \n",
       "3               NaN  \n",
       "4               NaN  \n",
       "\n",
       "[5 rows x 23 columns]"
      ]
     },
     "execution_count": 117,
     "metadata": {},
     "output_type": "execute_result"
    }
   ],
   "source": [
    "eventos_raw.head()"
   ]
  },
  {
   "cell_type": "code",
   "execution_count": 118,
   "metadata": {},
   "outputs": [
    {
     "data": {
      "text/plain": [
       "(1011288, 23)"
      ]
     },
     "execution_count": 118,
     "metadata": {},
     "output_type": "execute_result"
    }
   ],
   "source": [
    "eventos_raw.shape"
   ]
  },
  {
   "cell_type": "code",
   "execution_count": 119,
   "metadata": {},
   "outputs": [
    {
     "data": {
      "text/plain": [
       "Index(['timestamp', 'event', 'person', 'url', 'sku', 'model', 'condition',\n",
       "       'storage', 'color', 'skus', 'search_term', 'staticpage',\n",
       "       'campaign_source', 'search_engine', 'channel', 'new_vs_returning',\n",
       "       'city', 'region', 'country', 'device_type', 'screen_resolution',\n",
       "       'operating_system_version', 'browser_version'],\n",
       "      dtype='object')"
      ]
     },
     "execution_count": 119,
     "metadata": {},
     "output_type": "execute_result"
    }
   ],
   "source": [
    "eventos_raw.columns"
   ]
  },
  {
   "cell_type": "code",
   "execution_count": 120,
   "metadata": {},
   "outputs": [
    {
     "data": {
      "text/html": [
       "<div>\n",
       "<style scoped>\n",
       "    .dataframe tbody tr th:only-of-type {\n",
       "        vertical-align: middle;\n",
       "    }\n",
       "\n",
       "    .dataframe tbody tr th {\n",
       "        vertical-align: top;\n",
       "    }\n",
       "\n",
       "    .dataframe thead th {\n",
       "        text-align: right;\n",
       "    }\n",
       "</style>\n",
       "<table border=\"1\" class=\"dataframe\">\n",
       "  <thead>\n",
       "    <tr style=\"text-align: right;\">\n",
       "      <th></th>\n",
       "      <th>timestamp</th>\n",
       "      <th>event</th>\n",
       "      <th>person</th>\n",
       "      <th>url</th>\n",
       "      <th>sku</th>\n",
       "      <th>model</th>\n",
       "      <th>condition</th>\n",
       "      <th>storage</th>\n",
       "      <th>color</th>\n",
       "      <th>skus</th>\n",
       "      <th>...</th>\n",
       "      <th>search_engine</th>\n",
       "      <th>channel</th>\n",
       "      <th>new_vs_returning</th>\n",
       "      <th>city</th>\n",
       "      <th>region</th>\n",
       "      <th>country</th>\n",
       "      <th>device_type</th>\n",
       "      <th>screen_resolution</th>\n",
       "      <th>operating_system_version</th>\n",
       "      <th>browser_version</th>\n",
       "    </tr>\n",
       "  </thead>\n",
       "  <tbody>\n",
       "    <tr>\n",
       "      <th>count</th>\n",
       "      <td>1011288</td>\n",
       "      <td>1011288</td>\n",
       "      <td>1011288</td>\n",
       "      <td>82756</td>\n",
       "      <td>563838</td>\n",
       "      <td>564284</td>\n",
       "      <td>563836</td>\n",
       "      <td>563836</td>\n",
       "      <td>563836</td>\n",
       "      <td>221699</td>\n",
       "      <td>...</td>\n",
       "      <td>50957</td>\n",
       "      <td>87378</td>\n",
       "      <td>87378</td>\n",
       "      <td>87378</td>\n",
       "      <td>87378</td>\n",
       "      <td>87378</td>\n",
       "      <td>87378</td>\n",
       "      <td>87378</td>\n",
       "      <td>87378</td>\n",
       "      <td>87378</td>\n",
       "    </tr>\n",
       "    <tr>\n",
       "      <th>unique</th>\n",
       "      <td>793805</td>\n",
       "      <td>11</td>\n",
       "      <td>27624</td>\n",
       "      <td>227</td>\n",
       "      <td>3574</td>\n",
       "      <td>202</td>\n",
       "      <td>5</td>\n",
       "      <td>8</td>\n",
       "      <td>63</td>\n",
       "      <td>35310</td>\n",
       "      <td>...</td>\n",
       "      <td>4</td>\n",
       "      <td>7</td>\n",
       "      <td>2</td>\n",
       "      <td>1939</td>\n",
       "      <td>93</td>\n",
       "      <td>46</td>\n",
       "      <td>4</td>\n",
       "      <td>282</td>\n",
       "      <td>121</td>\n",
       "      <td>343</td>\n",
       "    </tr>\n",
       "    <tr>\n",
       "      <th>top</th>\n",
       "      <td>2018-05-15 15:56:06</td>\n",
       "      <td>viewed product</td>\n",
       "      <td>71492f2b</td>\n",
       "      <td>/</td>\n",
       "      <td>2830.0</td>\n",
       "      <td>iPhone 6</td>\n",
       "      <td>Bom</td>\n",
       "      <td>16GB</td>\n",
       "      <td>Preto</td>\n",
       "      <td>2820,6706,6720,2750,6649,7251,6663,12604,7224,...</td>\n",
       "      <td>...</td>\n",
       "      <td>Google</td>\n",
       "      <td>Paid</td>\n",
       "      <td>Returning</td>\n",
       "      <td>Unknown</td>\n",
       "      <td>Sao Paulo</td>\n",
       "      <td>Brazil</td>\n",
       "      <td>Smartphone</td>\n",
       "      <td>360x640</td>\n",
       "      <td>Windows 7</td>\n",
       "      <td>Chrome 66.0</td>\n",
       "    </tr>\n",
       "    <tr>\n",
       "      <th>freq</th>\n",
       "      <td>11</td>\n",
       "      <td>528931</td>\n",
       "      <td>2771</td>\n",
       "      <td>28323</td>\n",
       "      <td>4282</td>\n",
       "      <td>50916</td>\n",
       "      <td>243014</td>\n",
       "      <td>190833</td>\n",
       "      <td>132960</td>\n",
       "      <td>594</td>\n",
       "      <td>...</td>\n",
       "      <td>50240</td>\n",
       "      <td>44193</td>\n",
       "      <td>60480</td>\n",
       "      <td>15819</td>\n",
       "      <td>24996</td>\n",
       "      <td>84308</td>\n",
       "      <td>44239</td>\n",
       "      <td>30009</td>\n",
       "      <td>19675</td>\n",
       "      <td>22611</td>\n",
       "    </tr>\n",
       "  </tbody>\n",
       "</table>\n",
       "<p>4 rows × 23 columns</p>\n",
       "</div>"
      ],
      "text/plain": [
       "                  timestamp           event    person    url     sku  \\\n",
       "count               1011288         1011288   1011288  82756  563838   \n",
       "unique               793805              11     27624    227    3574   \n",
       "top     2018-05-15 15:56:06  viewed product  71492f2b      /  2830.0   \n",
       "freq                     11          528931      2771  28323    4282   \n",
       "\n",
       "           model condition storage   color  \\\n",
       "count     564284    563836  563836  563836   \n",
       "unique       202         5       8      63   \n",
       "top     iPhone 6       Bom    16GB   Preto   \n",
       "freq       50916    243014  190833  132960   \n",
       "\n",
       "                                                     skus       ...        \\\n",
       "count                                              221699       ...         \n",
       "unique                                              35310       ...         \n",
       "top     2820,6706,6720,2750,6649,7251,6663,12604,7224,...       ...         \n",
       "freq                                                  594       ...         \n",
       "\n",
       "       search_engine channel new_vs_returning     city     region country  \\\n",
       "count          50957   87378            87378    87378      87378   87378   \n",
       "unique             4       7                2     1939         93      46   \n",
       "top           Google    Paid        Returning  Unknown  Sao Paulo  Brazil   \n",
       "freq           50240   44193            60480    15819      24996   84308   \n",
       "\n",
       "       device_type screen_resolution operating_system_version browser_version  \n",
       "count        87378             87378                    87378           87378  \n",
       "unique           4               282                      121             343  \n",
       "top     Smartphone           360x640               Windows 7      Chrome 66.0  \n",
       "freq         44239             30009                    19675           22611  \n",
       "\n",
       "[4 rows x 23 columns]"
      ]
     },
     "execution_count": 120,
     "metadata": {},
     "output_type": "execute_result"
    }
   ],
   "source": [
    "eventos_raw.describe()"
   ]
  },
  {
   "cell_type": "markdown",
   "metadata": {},
   "source": [
    "# Análisis de la presencia de NANS"
   ]
  },
  {
   "cell_type": "code",
   "execution_count": 121,
   "metadata": {},
   "outputs": [
    {
     "name": "stdout",
     "output_type": "stream",
     "text": [
      "<class 'pandas.core.frame.DataFrame'>\n",
      "RangeIndex: 1011288 entries, 0 to 1011287\n",
      "Data columns (total 23 columns):\n",
      "timestamp                   1011288 non-null object\n",
      "event                       1011288 non-null object\n",
      "person                      1011288 non-null object\n",
      "url                         82756 non-null object\n",
      "sku                         563838 non-null object\n",
      "model                       564284 non-null object\n",
      "condition                   563836 non-null object\n",
      "storage                     563836 non-null object\n",
      "color                       563836 non-null object\n",
      "skus                        221699 non-null object\n",
      "search_term                 48967 non-null object\n",
      "staticpage                  3598 non-null object\n",
      "campaign_source             82796 non-null object\n",
      "search_engine               50957 non-null object\n",
      "channel                     87378 non-null object\n",
      "new_vs_returning            87378 non-null object\n",
      "city                        87378 non-null object\n",
      "region                      87378 non-null object\n",
      "country                     87378 non-null object\n",
      "device_type                 87378 non-null object\n",
      "screen_resolution           87378 non-null object\n",
      "operating_system_version    87378 non-null object\n",
      "browser_version             87378 non-null object\n",
      "dtypes: object(23)\n",
      "memory usage: 177.5+ MB\n"
     ]
    }
   ],
   "source": [
    "eventos_raw.info()"
   ]
  },
  {
   "cell_type": "markdown",
   "metadata": {},
   "source": [
    "Con lo que nos tira el info  podemos ver que hay algunas columnas que no tienen ningún NAN, estas son:\n",
    "    \n",
    "- timestamp\n",
    "- event\n",
    "- person\n",
    "    \n",
    "Tiene sentido que ninguna tenga ningún NAN, ya que en todos los casos corresponde tener esa información.\n",
    "\n",
    "Ahora, veamos las columnas que tienen alguna densidad de NAN. En principio puede haber NANs porque esa\n",
    "información no corresponde, podemos pensar que el tipo de evento es el que define qué valores\n",
    "corresponden y cuales no. Recordemos los tipos de eventos que teníamos:"
   ]
  },
  {
   "cell_type": "code",
   "execution_count": 122,
   "metadata": {},
   "outputs": [
    {
     "data": {
      "text/plain": [
       "viewed product       528931\n",
       "brand listing         98635\n",
       "visited site          87378\n",
       "ad campaign hit       82827\n",
       "generic listing       67534\n",
       "searched products     56073\n",
       "search engine hit     50957\n",
       "checkout              33735\n",
       "staticpage             3598\n",
       "conversion             1172\n",
       "lead                    448\n",
       "Name: event, dtype: int64"
      ]
     },
     "execution_count": 122,
     "metadata": {},
     "output_type": "execute_result"
    }
   ],
   "source": [
    "eventos_raw.event.value_counts()"
   ]
  },
  {
   "cell_type": "markdown",
   "metadata": {},
   "source": [
    "Por ejemplo, vemos que tenemos 50957 eventos que corresponden al _search engine hit_ y viendo devuelta\n",
    "lo que obtuvimos con `info()` también podemos apreciar que hay en la columna de _search_engine_ la \n",
    "misma cantidad de no NANs. Esto se corresponde con lo que habíamos pensado de que a determinados\n",
    "eventos le corresponden determinada información, y por eso en este caso en todas las demás entradas habría NANs,\n",
    "ya que realmente no corresponde."
   ]
  },
  {
   "cell_type": "markdown",
   "metadata": {},
   "source": [
    "Estudiemos más a fondo esto. Primero veamos correspondencias entre _event_ y la información en ciertas columnas."
   ]
  },
  {
   "cell_type": "markdown",
   "metadata": {},
   "source": [
    "## Correspondencia _event_-información"
   ]
  },
  {
   "cell_type": "code",
   "execution_count": 123,
   "metadata": {},
   "outputs": [],
   "source": [
    "# Saco las columnas que no me interesan.\n",
    "filtered = eventos_raw.drop(['timestamp','person'], axis='columns')"
   ]
  },
  {
   "cell_type": "code",
   "execution_count": 124,
   "metadata": {},
   "outputs": [],
   "source": [
    "def columnas_sin_nans_para_event(dataframe, event):\n",
    "    return dataframe.loc[dataframe.event == event].iloc[0].dropna().index"
   ]
  },
  {
   "cell_type": "code",
   "execution_count": 125,
   "metadata": {},
   "outputs": [
    {
     "name": "stdout",
     "output_type": "stream",
     "text": [
      "ad campaign hit: ['url', 'campaign_source']\n",
      "visited site: ['channel', 'new_vs_returning', 'city', 'region', 'country', 'device_type', 'screen_resolution', 'operating_system_version', 'browser_version']\n",
      "viewed product: ['sku', 'model', 'condition', 'storage', 'color']\n",
      "checkout: ['sku', 'model', 'condition', 'storage', 'color']\n",
      "generic listing: ['skus']\n",
      "search engine hit: ['search_engine']\n",
      "brand listing: ['skus']\n",
      "searched products: ['skus', 'search_term']\n",
      "conversion: ['sku', 'model', 'condition', 'storage', 'color']\n",
      "staticpage: ['staticpage']\n",
      "lead: ['model']\n"
     ]
    }
   ],
   "source": [
    "# Vemos las columnas que tienen información (ningún NAN) para cada tipo de evento\n",
    "\n",
    "for event in eventos_raw.event.unique():\n",
    "    print(event + ': ' + str(list(columnas_sin_nans_para_event(filtered, event).drop('event'))))"
   ]
  },
  {
   "cell_type": "markdown",
   "metadata": {},
   "source": [
    "- [ ] TODO: ver una forma más linda y más \"pandezca\" de filtrar esta información y de mostrarla."
   ]
  },
  {
   "cell_type": "markdown",
   "metadata": {},
   "source": [
    "Vemos que para cada evento tenemos cierta información que tiene sentido tener y cierta que no. De ahí\n",
    "varios NANs que nos aparecen en algunas columnas.\n",
    "\n",
    "Pero ahora veamos si todos los NANs en las columnas son porque no corresponde tener esa info para el \n",
    "evento o si hay alguna clase de \"fuga\" de NANs donde sí corresponde tener la información."
   ]
  },
  {
   "cell_type": "markdown",
   "metadata": {},
   "source": [
    "- [ ] TODO: hacer lo que digo que voy a hacer en el anterior párrafo. Me retiro a estudiar otra cosa. (?)"
   ]
  },
  {
   "cell_type": "code",
   "execution_count": 126,
   "metadata": {},
   "outputs": [
    {
     "data": {
      "text/plain": [
       "2018-05-15 15:56:06    11\n",
       "2018-06-05 14:23:13     9\n",
       "2018-06-14 15:43:38     9\n",
       "2018-05-30 21:14:12     9\n",
       "2018-06-15 14:05:11     9\n",
       "Name: timestamp, dtype: int64"
      ]
     },
     "execution_count": 126,
     "metadata": {},
     "output_type": "execute_result"
    }
   ],
   "source": [
    "eventos_raw.timestamp.value_counts().head()"
   ]
  },
  {
   "cell_type": "code",
   "execution_count": 127,
   "metadata": {},
   "outputs": [
    {
     "name": "stdout",
     "output_type": "stream",
     "text": [
      "Cantidad de nans: 0\n"
     ]
    }
   ],
   "source": [
    "# Quiero ver si hay algún nan\n",
    "print(\"Cantidad de nans: \" + str(eventos_raw.timestamp.size - eventos_raw.timestamp.count()))"
   ]
  },
  {
   "cell_type": "code",
   "execution_count": 128,
   "metadata": {},
   "outputs": [
    {
     "data": {
      "text/plain": [
       "viewed product       528931\n",
       "brand listing         98635\n",
       "visited site          87378\n",
       "ad campaign hit       82827\n",
       "generic listing       67534\n",
       "searched products     56073\n",
       "search engine hit     50957\n",
       "checkout              33735\n",
       "staticpage             3598\n",
       "conversion             1172\n",
       "lead                    448\n",
       "Name: event, dtype: int64"
      ]
     },
     "execution_count": 128,
     "metadata": {},
     "output_type": "execute_result"
    }
   ],
   "source": [
    "eventos_raw.event.value_counts()"
   ]
  },
  {
   "cell_type": "code",
   "execution_count": 129,
   "metadata": {},
   "outputs": [
    {
     "data": {
      "text/plain": [
       "Brazil           84308\n",
       "Unknown           2313\n",
       "United States      465\n",
       "Argentina           94\n",
       "Canada              35\n",
       "Name: country, dtype: int64"
      ]
     },
     "execution_count": 129,
     "metadata": {},
     "output_type": "execute_result"
    }
   ],
   "source": [
    "# Hay varios Unknown, sería interesante ver si les corresponden alguna city conocida (si supieramos la \n",
    "# ciudad podríamos ver qué país realmente es) o Unknowns (no podríamos definir país) también.\n",
    "\n",
    "# Por otra parte vemos que tenemos la gran mayoría de es de Brasil, tener en cuenta a la hora \n",
    "# de usar los timespam, que corresponden a horario Brasil/Argentina.\n",
    "\n",
    "countrys = eventos_raw.country\n",
    "countrys.value_counts().head()"
   ]
  },
  {
   "cell_type": "code",
   "execution_count": 130,
   "metadata": {},
   "outputs": [
    {
     "data": {
      "text/plain": [
       "Brazil                          0.96\n",
       "Unknown                         0.03\n",
       "United States                   0.01\n",
       "Argentina                       0.00\n",
       "Canada                          0.00\n",
       "Name: country, dtype: float64"
      ]
     },
     "execution_count": 130,
     "metadata": {},
     "output_type": "execute_result"
    }
   ],
   "source": [
    "# De hecho vemos que alrededor del 96% es de Brasil.\n",
    "\n",
    "countrys.value_counts(normalize = True).head()"
   ]
  },
  {
   "cell_type": "code",
   "execution_count": 131,
   "metadata": {},
   "outputs": [
    {
     "data": {
      "text/plain": [
       "Unknown           15819\n",
       "São Paulo         11711\n",
       "Rio de Janeiro     3538\n",
       "Belo Horizonte     2568\n",
       "Salvador           2314\n",
       "Name: city, dtype: int64"
      ]
     },
     "execution_count": 131,
     "metadata": {},
     "output_type": "execute_result"
    }
   ],
   "source": [
    "eventos_raw.city.value_counts().head()"
   ]
  },
  {
   "cell_type": "code",
   "execution_count": 132,
   "metadata": {},
   "outputs": [
    {
     "name": "stdout",
     "output_type": "stream",
     "text": [
      "Cantidad de citys unknown: 15819\n",
      "['Brazil' 'Unknown' 'Netherlands' 'Argentina' 'France' 'Russia' 'Paraguay'\n",
      " 'Mozambique' 'United States' 'Canada' 'Philippines' 'Israel'\n",
      " 'United Kingdom' 'Angola' 'Italy' 'Uzbekistan' 'Belize' 'Colombia'\n",
      " 'French Guiana' 'Algeria' 'Bangladesh' 'Ireland' 'Zimbabwe' 'Germany'\n",
      " 'Rwanda' 'Saudi Arabia' 'Cape Verde' 'Denmark' 'Peru' 'Guadeloupe'\n",
      " 'Morocco' 'Spain']\n"
     ]
    }
   ],
   "source": [
    "# Vemos a qué paisees corresponden las citys Unknown.\n",
    "country_with_city_unknown = eventos_raw.loc[eventos_raw.city == 'Unknown']['country']\n",
    "print(\"Cantidad de citys unknown: \" + str(country_with_city_unknown.size))\n",
    "print(country_with_city_unknown.unique())"
   ]
  },
  {
   "cell_type": "code",
   "execution_count": 133,
   "metadata": {},
   "outputs": [
    {
     "name": "stdout",
     "output_type": "stream",
     "text": [
      "Cantidad de countrys unknown: 2313\n",
      "['Unknown']\n"
     ]
    }
   ],
   "source": [
    "# Acá podemos ver que a los paises Unknown les corresponden todas citys Unknown. \n",
    "city_with_country_unknown = eventos_raw.loc[eventos_raw.country == 'Unknown']['city']\n",
    "print(\"Cantidad de countrys unknown: \" + str(city_with_country_unknown.size))\n",
    "print(city_with_country_unknown.unique())"
   ]
  },
  {
   "cell_type": "code",
   "execution_count": 134,
   "metadata": {},
   "outputs": [],
   "source": [
    "eventos_raw['timestamp'] = pd.to_datetime(eventos_raw['timestamp'])\n",
    "# separemos las cosas para que quede algo manejable; no tiene sentido tener el timestamp todo junto\n",
    "eventos_raw['year'] = eventos_raw['timestamp'].dt.year\n",
    "eventos_raw['month'] = eventos_raw['timestamp'].dt.month\n",
    "eventos_raw['day'] = eventos_raw['timestamp'].dt.day\n",
    "eventos_raw['weekday'] = eventos_raw['timestamp'].dt.day_name()\n",
    "eventos_raw['hour'] = eventos_raw['timestamp'].dt.hour"
   ]
  },
  {
   "cell_type": "code",
   "execution_count": 135,
   "metadata": {},
   "outputs": [],
   "source": [
    "#Se obtiene el día de la semana, se cuenta y se vuelca en un gráfico\n",
    "days = {0: \"Domingo\",1: \"Lunes\",2:\"Martes\",3: \"Miércoles\",4: \"Jueves\",5: \"Viernes\",6: \"Sábado\"}\n",
    "\n",
    "sorter = [\"Domingo\", \"Lunes\", \"Martes\", \"Miércoles\", \"Jueves\", \"Viernes\", \"Sábado\"]\n",
    "sorterIndex = dict(zip(sorter,range(len(sorter))))\n",
    "\n",
    "eventos_raw[\"dia_semana\"] = eventos_raw[\"timestamp\"].dt.dayofweek\n",
    "eventos_raw[\"dia_semana\"] = eventos_raw[\"dia_semana\"].apply(lambda x: days[x])"
   ]
  },
  {
   "cell_type": "code",
   "execution_count": 136,
   "metadata": {},
   "outputs": [],
   "source": [
    "# Como vimos que el 96% de las entradas son desde Brasil y considerando el timstamp está\n",
    "# en zona horaria BRT/ART vamos a manejar los horarios como están, sin verificar la zona horaria\n",
    "# del evento (sería una muy poca cantidad la que estaría \"mal\" y que habría que hacer\n",
    "# un pase a la zona horaria correspondiente)."
   ]
  },
  {
   "cell_type": "code",
   "execution_count": 137,
   "metadata": {},
   "outputs": [
    {
     "data": {
      "text/plain": [
       "2018    1011288\n",
       "Name: year, dtype: int64"
      ]
     },
     "execution_count": 137,
     "metadata": {},
     "output_type": "execute_result"
    }
   ],
   "source": [
    "# Vemos que solo tenemos información de eventos del año 2018.\n",
    "\n",
    "eventos_raw.year.value_counts()"
   ]
  },
  {
   "cell_type": "markdown",
   "metadata": {},
   "source": [
    "# Análisis de los eventos *'conversion'*"
   ]
  },
  {
   "cell_type": "code",
   "execution_count": 138,
   "metadata": {},
   "outputs": [
    {
     "data": {
      "text/plain": [
       "(1172, 29)"
      ]
     },
     "execution_count": 138,
     "metadata": {},
     "output_type": "execute_result"
    }
   ],
   "source": [
    "eventos_conversion = eventos_raw.loc[eventos_raw.event == 'conversion']\n",
    "eventos_conversion.shape"
   ]
  },
  {
   "cell_type": "markdown",
   "metadata": {},
   "source": [
    "## Cantidad de conversiones durante el año"
   ]
  },
  {
   "cell_type": "code",
   "execution_count": 139,
   "metadata": {},
   "outputs": [],
   "source": [
    "conversion_per_date = eventos_conversion.timestamp.dt.date.value_counts()"
   ]
  },
  {
   "cell_type": "code",
   "execution_count": 140,
   "metadata": {},
   "outputs": [
    {
     "data": {
      "image/png": "[encoded data removed]",
      "text/plain": [
       "<matplotlib.figure.Figure at 0x7f7b1e7d0c88>"
      ]
     },
     "metadata": {},
     "output_type": "display_data"
    }
   ],
   "source": [
    "g = plt.hist(x = conversion_per_date.index, weights = conversion_per_date.values)"
   ]
  },
  {
   "cell_type": "markdown",
   "metadata": {},
   "source": [
    "## Cantidad de conversiones que hay por mes"
   ]
  },
  {
   "cell_type": "code",
   "execution_count": 141,
   "metadata": {},
   "outputs": [
    {
     "data": {
      "text/plain": [
       "5    351\n",
       "4    316\n",
       "3    265\n",
       "6    103\n",
       "2     74\n",
       "1     63\n",
       "Name: month, dtype: int64"
      ]
     },
     "execution_count": 141,
     "metadata": {},
     "output_type": "execute_result"
    }
   ],
   "source": [
    "conversion_per_month = eventos_conversion.month.value_counts()\n",
    "conversion_per_month"
   ]
  },
  {
   "cell_type": "code",
   "execution_count": 142,
   "metadata": {},
   "outputs": [
    {
     "data": {
      "text/plain": [
       "<matplotlib.text.Text at 0x7f7b25657a20>"
      ]
     },
     "execution_count": 142,
     "metadata": {},
     "output_type": "execute_result"
    },
    {
     "data": {
      "image/png": "[encoded data removed]",
      "text/plain": [
       "<matplotlib.figure.Figure at 0x7f7b256de588>"
      ]
     },
     "metadata": {},
     "output_type": "display_data"
    }
   ],
   "source": [
    "g = sns.barplot(x=conversion_per_month.values, y=conversion_per_month.index, orient='h')\n",
    "g.set_title(\"Conversion per month\", fontsize=15)\n",
    "g.set_xlabel(\"Number of conversions\", fontsize=12)\n",
    "g.set_ylabel(\"Month\", fontsize=12)"
   ]
  },
  {
   "cell_type": "markdown",
   "metadata": {},
   "source": [
    "Con lo anterior vemos que durante los **meses 3-5** son los que se tuvo más eventos de conversion."
   ]
  },
  {
   "cell_type": "markdown",
   "metadata": {},
   "source": [
    "## Cantidad de conversiones según día de la semana y hora"
   ]
  },
  {
   "cell_type": "markdown",
   "metadata": {},
   "source": [
    "- [ ] TODO! Ordenar weekday por orden de día de la semana, no alfabéticamente."
   ]
  },
  {
   "cell_type": "code",
   "execution_count": 143,
   "metadata": {},
   "outputs": [
    {
     "data": {
      "text/html": [
       "<div>\n",
       "<style scoped>\n",
       "    .dataframe tbody tr th:only-of-type {\n",
       "        vertical-align: middle;\n",
       "    }\n",
       "\n",
       "    .dataframe tbody tr th {\n",
       "        vertical-align: top;\n",
       "    }\n",
       "\n",
       "    .dataframe thead th {\n",
       "        text-align: right;\n",
       "    }\n",
       "</style>\n",
       "<table border=\"1\" class=\"dataframe\">\n",
       "  <thead>\n",
       "    <tr style=\"text-align: right;\">\n",
       "      <th>weekday</th>\n",
       "      <th>Friday</th>\n",
       "      <th>Monday</th>\n",
       "      <th>Saturday</th>\n",
       "      <th>Sunday</th>\n",
       "      <th>Thursday</th>\n",
       "      <th>Tuesday</th>\n",
       "      <th>Wednesday</th>\n",
       "    </tr>\n",
       "    <tr>\n",
       "      <th>hour</th>\n",
       "      <th></th>\n",
       "      <th></th>\n",
       "      <th></th>\n",
       "      <th></th>\n",
       "      <th></th>\n",
       "      <th></th>\n",
       "      <th></th>\n",
       "    </tr>\n",
       "  </thead>\n",
       "  <tbody>\n",
       "    <tr>\n",
       "      <th>0</th>\n",
       "      <td>12.00</td>\n",
       "      <td>6.00</td>\n",
       "      <td>6.00</td>\n",
       "      <td>4.00</td>\n",
       "      <td>6.00</td>\n",
       "      <td>14.00</td>\n",
       "      <td>6.00</td>\n",
       "    </tr>\n",
       "    <tr>\n",
       "      <th>1</th>\n",
       "      <td>16.00</td>\n",
       "      <td>5.00</td>\n",
       "      <td>6.00</td>\n",
       "      <td>4.00</td>\n",
       "      <td>6.00</td>\n",
       "      <td>10.00</td>\n",
       "      <td>18.00</td>\n",
       "    </tr>\n",
       "    <tr>\n",
       "      <th>2</th>\n",
       "      <td>4.00</td>\n",
       "      <td>5.00</td>\n",
       "      <td>6.00</td>\n",
       "      <td>6.00</td>\n",
       "      <td>9.00</td>\n",
       "      <td>13.00</td>\n",
       "      <td>4.00</td>\n",
       "    </tr>\n",
       "    <tr>\n",
       "      <th>3</th>\n",
       "      <td>7.00</td>\n",
       "      <td>4.00</td>\n",
       "      <td>8.00</td>\n",
       "      <td>3.00</td>\n",
       "      <td>4.00</td>\n",
       "      <td>12.00</td>\n",
       "      <td>6.00</td>\n",
       "    </tr>\n",
       "    <tr>\n",
       "      <th>4</th>\n",
       "      <td>3.00</td>\n",
       "      <td>nan</td>\n",
       "      <td>3.00</td>\n",
       "      <td>1.00</td>\n",
       "      <td>1.00</td>\n",
       "      <td>1.00</td>\n",
       "      <td>3.00</td>\n",
       "    </tr>\n",
       "    <tr>\n",
       "      <th>5</th>\n",
       "      <td>2.00</td>\n",
       "      <td>2.00</td>\n",
       "      <td>1.00</td>\n",
       "      <td>3.00</td>\n",
       "      <td>1.00</td>\n",
       "      <td>nan</td>\n",
       "      <td>2.00</td>\n",
       "    </tr>\n",
       "    <tr>\n",
       "      <th>6</th>\n",
       "      <td>nan</td>\n",
       "      <td>nan</td>\n",
       "      <td>1.00</td>\n",
       "      <td>nan</td>\n",
       "      <td>1.00</td>\n",
       "      <td>2.00</td>\n",
       "      <td>1.00</td>\n",
       "    </tr>\n",
       "    <tr>\n",
       "      <th>7</th>\n",
       "      <td>nan</td>\n",
       "      <td>nan</td>\n",
       "      <td>nan</td>\n",
       "      <td>nan</td>\n",
       "      <td>1.00</td>\n",
       "      <td>2.00</td>\n",
       "      <td>nan</td>\n",
       "    </tr>\n",
       "    <tr>\n",
       "      <th>8</th>\n",
       "      <td>1.00</td>\n",
       "      <td>1.00</td>\n",
       "      <td>nan</td>\n",
       "      <td>1.00</td>\n",
       "      <td>1.00</td>\n",
       "      <td>1.00</td>\n",
       "      <td>1.00</td>\n",
       "    </tr>\n",
       "    <tr>\n",
       "      <th>9</th>\n",
       "      <td>1.00</td>\n",
       "      <td>2.00</td>\n",
       "      <td>3.00</td>\n",
       "      <td>1.00</td>\n",
       "      <td>nan</td>\n",
       "      <td>nan</td>\n",
       "      <td>2.00</td>\n",
       "    </tr>\n",
       "    <tr>\n",
       "      <th>10</th>\n",
       "      <td>nan</td>\n",
       "      <td>1.00</td>\n",
       "      <td>1.00</td>\n",
       "      <td>nan</td>\n",
       "      <td>3.00</td>\n",
       "      <td>1.00</td>\n",
       "      <td>4.00</td>\n",
       "    </tr>\n",
       "    <tr>\n",
       "      <th>11</th>\n",
       "      <td>1.00</td>\n",
       "      <td>11.00</td>\n",
       "      <td>3.00</td>\n",
       "      <td>5.00</td>\n",
       "      <td>4.00</td>\n",
       "      <td>4.00</td>\n",
       "      <td>4.00</td>\n",
       "    </tr>\n",
       "    <tr>\n",
       "      <th>12</th>\n",
       "      <td>6.00</td>\n",
       "      <td>4.00</td>\n",
       "      <td>3.00</td>\n",
       "      <td>nan</td>\n",
       "      <td>10.00</td>\n",
       "      <td>13.00</td>\n",
       "      <td>6.00</td>\n",
       "    </tr>\n",
       "    <tr>\n",
       "      <th>13</th>\n",
       "      <td>13.00</td>\n",
       "      <td>10.00</td>\n",
       "      <td>9.00</td>\n",
       "      <td>7.00</td>\n",
       "      <td>15.00</td>\n",
       "      <td>12.00</td>\n",
       "      <td>8.00</td>\n",
       "    </tr>\n",
       "    <tr>\n",
       "      <th>14</th>\n",
       "      <td>10.00</td>\n",
       "      <td>12.00</td>\n",
       "      <td>6.00</td>\n",
       "      <td>6.00</td>\n",
       "      <td>12.00</td>\n",
       "      <td>6.00</td>\n",
       "      <td>5.00</td>\n",
       "    </tr>\n",
       "    <tr>\n",
       "      <th>15</th>\n",
       "      <td>10.00</td>\n",
       "      <td>8.00</td>\n",
       "      <td>10.00</td>\n",
       "      <td>7.00</td>\n",
       "      <td>20.00</td>\n",
       "      <td>10.00</td>\n",
       "      <td>9.00</td>\n",
       "    </tr>\n",
       "    <tr>\n",
       "      <th>16</th>\n",
       "      <td>9.00</td>\n",
       "      <td>15.00</td>\n",
       "      <td>5.00</td>\n",
       "      <td>9.00</td>\n",
       "      <td>10.00</td>\n",
       "      <td>16.00</td>\n",
       "      <td>8.00</td>\n",
       "    </tr>\n",
       "    <tr>\n",
       "      <th>17</th>\n",
       "      <td>14.00</td>\n",
       "      <td>12.00</td>\n",
       "      <td>8.00</td>\n",
       "      <td>9.00</td>\n",
       "      <td>12.00</td>\n",
       "      <td>19.00</td>\n",
       "      <td>10.00</td>\n",
       "    </tr>\n",
       "    <tr>\n",
       "      <th>18</th>\n",
       "      <td>9.00</td>\n",
       "      <td>13.00</td>\n",
       "      <td>3.00</td>\n",
       "      <td>5.00</td>\n",
       "      <td>15.00</td>\n",
       "      <td>11.00</td>\n",
       "      <td>18.00</td>\n",
       "    </tr>\n",
       "    <tr>\n",
       "      <th>19</th>\n",
       "      <td>12.00</td>\n",
       "      <td>22.00</td>\n",
       "      <td>8.00</td>\n",
       "      <td>11.00</td>\n",
       "      <td>11.00</td>\n",
       "      <td>12.00</td>\n",
       "      <td>21.00</td>\n",
       "    </tr>\n",
       "    <tr>\n",
       "      <th>20</th>\n",
       "      <td>8.00</td>\n",
       "      <td>10.00</td>\n",
       "      <td>4.00</td>\n",
       "      <td>6.00</td>\n",
       "      <td>18.00</td>\n",
       "      <td>14.00</td>\n",
       "      <td>11.00</td>\n",
       "    </tr>\n",
       "    <tr>\n",
       "      <th>21</th>\n",
       "      <td>9.00</td>\n",
       "      <td>14.00</td>\n",
       "      <td>4.00</td>\n",
       "      <td>4.00</td>\n",
       "      <td>15.00</td>\n",
       "      <td>17.00</td>\n",
       "      <td>14.00</td>\n",
       "    </tr>\n",
       "    <tr>\n",
       "      <th>22</th>\n",
       "      <td>14.00</td>\n",
       "      <td>16.00</td>\n",
       "      <td>8.00</td>\n",
       "      <td>7.00</td>\n",
       "      <td>11.00</td>\n",
       "      <td>10.00</td>\n",
       "      <td>7.00</td>\n",
       "    </tr>\n",
       "    <tr>\n",
       "      <th>23</th>\n",
       "      <td>14.00</td>\n",
       "      <td>11.00</td>\n",
       "      <td>nan</td>\n",
       "      <td>4.00</td>\n",
       "      <td>14.00</td>\n",
       "      <td>15.00</td>\n",
       "      <td>21.00</td>\n",
       "    </tr>\n",
       "  </tbody>\n",
       "</table>\n",
       "</div>"
      ],
      "text/plain": [
       "weekday               Friday               Monday             Saturday  \\\n",
       "hour                                                                     \n",
       "0                      12.00                 6.00                 6.00   \n",
       "1                      16.00                 5.00                 6.00   \n",
       "2                       4.00                 5.00                 6.00   \n",
       "3                       7.00                 4.00                 8.00   \n",
       "4                       3.00                  nan                 3.00   \n",
       "5                       2.00                 2.00                 1.00   \n",
       "6                        nan                  nan                 1.00   \n",
       "7                        nan                  nan                  nan   \n",
       "8                       1.00                 1.00                  nan   \n",
       "9                       1.00                 2.00                 3.00   \n",
       "10                       nan                 1.00                 1.00   \n",
       "11                      1.00                11.00                 3.00   \n",
       "12                      6.00                 4.00                 3.00   \n",
       "13                     13.00                10.00                 9.00   \n",
       "14                     10.00                12.00                 6.00   \n",
       "15                     10.00                 8.00                10.00   \n",
       "16                      9.00                15.00                 5.00   \n",
       "17                     14.00                12.00                 8.00   \n",
       "18                      9.00                13.00                 3.00   \n",
       "19                     12.00                22.00                 8.00   \n",
       "20                      8.00                10.00                 4.00   \n",
       "21                      9.00                14.00                 4.00   \n",
       "22                     14.00                16.00                 8.00   \n",
       "23                     14.00                11.00                  nan   \n",
       "\n",
       "weekday               Sunday             Thursday              Tuesday  \\\n",
       "hour                                                                     \n",
       "0                       4.00                 6.00                14.00   \n",
       "1                       4.00                 6.00                10.00   \n",
       "2                       6.00                 9.00                13.00   \n",
       "3                       3.00                 4.00                12.00   \n",
       "4                       1.00                 1.00                 1.00   \n",
       "5                       3.00                 1.00                  nan   \n",
       "6                        nan                 1.00                 2.00   \n",
       "7                        nan                 1.00                 2.00   \n",
       "8                       1.00                 1.00                 1.00   \n",
       "9                       1.00                  nan                  nan   \n",
       "10                       nan                 3.00                 1.00   \n",
       "11                      5.00                 4.00                 4.00   \n",
       "12                       nan                10.00                13.00   \n",
       "13                      7.00                15.00                12.00   \n",
       "14                      6.00                12.00                 6.00   \n",
       "15                      7.00                20.00                10.00   \n",
       "16                      9.00                10.00                16.00   \n",
       "17                      9.00                12.00                19.00   \n",
       "18                      5.00                15.00                11.00   \n",
       "19                     11.00                11.00                12.00   \n",
       "20                      6.00                18.00                14.00   \n",
       "21                      4.00                15.00                17.00   \n",
       "22                      7.00                11.00                10.00   \n",
       "23                      4.00                14.00                15.00   \n",
       "\n",
       "weekday            Wednesday  \n",
       "hour                          \n",
       "0                       6.00  \n",
       "1                      18.00  \n",
       "2                       4.00  \n",
       "3                       6.00  \n",
       "4                       3.00  \n",
       "5                       2.00  \n",
       "6                       1.00  \n",
       "7                        nan  \n",
       "8                       1.00  \n",
       "9                       2.00  \n",
       "10                      4.00  \n",
       "11                      4.00  \n",
       "12                      6.00  \n",
       "13                      8.00  \n",
       "14                      5.00  \n",
       "15                      9.00  \n",
       "16                      8.00  \n",
       "17                     10.00  \n",
       "18                     18.00  \n",
       "19                     21.00  \n",
       "20                     11.00  \n",
       "21                     14.00  \n",
       "22                      7.00  \n",
       "23                     21.00  "
      ]
     },
     "execution_count": 143,
     "metadata": {},
     "output_type": "execute_result"
    }
   ],
   "source": [
    "table = eventos_conversion.pivot_table(index = 'hour', columns = 'weekday', values = 'day', aggfunc = 'count')\n",
    "table"
   ]
  },
  {
   "cell_type": "code",
   "execution_count": 144,
   "metadata": {},
   "outputs": [
    {
     "data": {
      "text/plain": [
       "<matplotlib.text.Text at 0x7f7b255e3ba8>"
      ]
     },
     "execution_count": 144,
     "metadata": {},
     "output_type": "execute_result"
    },
    {
     "data": {
      "image/png": "[encoded data removed]",
      "text/plain": [
       "<matplotlib.figure.Figure at 0x7f7b25666518>"
      ]
     },
     "metadata": {},
     "output_type": "display_data"
    }
   ],
   "source": [
    "g = sns.heatmap(table,  cmap=\"YlGnBu\")\n",
    "g.set_title(\"Eventos de conversion (compra) por día de la semana y hora\", fontsize=22)\n",
    "g.set_xlabel(\"Día de la semana\",fontsize=18)\n",
    "g.set_ylabel(\"Hora del día\", fontsize=18)"
   ]
  },
  {
   "cell_type": "markdown",
   "metadata": {},
   "source": [
    "Acá vemos:\n",
    "- Como se puede esperar dentro de las horas de la mañana 3-11 hay casi nada de actividad.\n",
    "- Los días de fin de semana hay menos actividad."
   ]
  },
  {
   "cell_type": "markdown",
   "metadata": {},
   "source": [
    "## Conversiones según el modelo"
   ]
  },
  {
   "cell_type": "code",
   "execution_count": 145,
   "metadata": {},
   "outputs": [
    {
     "name": "stdout",
     "output_type": "stream",
     "text": [
      "Cantidad de nans para eventos de compra: 0\n"
     ]
    }
   ],
   "source": [
    "# Quiero ver si hay algún nan\n",
    "print(\"Cantidad de nans para eventos de compra: \" + str(eventos_conversion.model.size - eventos_conversion.model.count()))"
   ]
  },
  {
   "cell_type": "markdown",
   "metadata": {},
   "source": [
    "Genial, no hay ningún nan en modelos en los eventos de conversion. No tendría sentido que aparezca alguno."
   ]
  },
  {
   "cell_type": "markdown",
   "metadata": {},
   "source": [
    "Veamos los **10 modelos más comúnes en el evento conversion**.\n",
    "Hay demasiados modelos como para enfocarnos en ver todos los modelos y las distribuciones\n",
    "de cantidad de veces que aparecen en el evento."
   ]
  },
  {
   "cell_type": "code",
   "execution_count": 146,
   "metadata": {},
   "outputs": [
    {
     "data": {
      "text/plain": [
       "Samsung Galaxy J5         88\n",
       "iPhone 5s                 84\n",
       "iPhone 6                  71\n",
       "Samsung Galaxy S6 Flat    39\n",
       "iPhone 6S                 37\n",
       "iPhone 5c                 33\n",
       "Motorola Moto G3 4G       30\n",
       "Motorola Moto G4 Plus     30\n",
       "Samsung Galaxy J7         28\n",
       "Samsung Galaxy A5         27\n",
       "Name: model, dtype: int64"
      ]
     },
     "execution_count": 146,
     "metadata": {},
     "output_type": "execute_result"
    }
   ],
   "source": [
    "conversion_per_model = eventos_conversion.model.value_counts().head(10)\n",
    "conversion_per_model"
   ]
  },
  {
   "cell_type": "code",
   "execution_count": 147,
   "metadata": {},
   "outputs": [
    {
     "data": {
      "text/plain": [
       "Samsung Galaxy J5                        0.08\n",
       "iPhone 5s                                0.07\n",
       "iPhone 6                                 0.06\n",
       "Samsung Galaxy S6 Flat                   0.03\n",
       "iPhone 6S                                0.03\n",
       "iPhone 5c                                0.03\n",
       "Motorola Moto G3 4G                      0.03\n",
       "Motorola Moto G4 Plus                    0.03\n",
       "Samsung Galaxy J7                        0.02\n",
       "Samsung Galaxy A5                        0.02\n",
       "Name: model, dtype: float64"
      ]
     },
     "execution_count": 147,
     "metadata": {},
     "output_type": "execute_result"
    }
   ],
   "source": [
    "eventos_conversion.model.value_counts(normalize = True).head(10)"
   ]
  },
  {
   "cell_type": "code",
   "execution_count": 148,
   "metadata": {},
   "outputs": [
    {
     "data": {
      "text/plain": [
       "<matplotlib.text.Text at 0x7f7b2552f898>"
      ]
     },
     "execution_count": 148,
     "metadata": {},
     "output_type": "execute_result"
    },
    {
     "data": {
      "image/png": "[encoded data removed]",
      "text/plain": [
       "<matplotlib.figure.Figure at 0x7f7b255f4ef0>"
      ]
     },
     "metadata": {},
     "output_type": "display_data"
    }
   ],
   "source": [
    "g = sns.barplot(x=conversion_per_model.values, y=conversion_per_model.index, orient='h')\n",
    "g.set_title(\"Conversion per model (10 best)\", fontsize=15)\n",
    "g.set_xlabel(\"Number of conversions\", fontsize=12)\n",
    "g.set_ylabel(\"Model\", fontsize=12)"
   ]
  },
  {
   "cell_type": "markdown",
   "metadata": {},
   "source": [
    "Vemos que los tres primeros difieren por bastante de los otros.\n",
    "De hecho el cuarto mejor aparece un poco más de la mitad de veces que el tercero.\n",
    "Y viendo los porcentajes el cuarto está con un 30%, mientras que el tercero llega al 60% ya."
   ]
  },
  {
   "cell_type": "markdown",
   "metadata": {},
   "source": [
    "# Análisis por características de celulares"
   ]
  },
  {
   "cell_type": "markdown",
   "metadata": {},
   "source": [
    "## Storage"
   ]
  },
  {
   "cell_type": "code",
   "execution_count": 151,
   "metadata": {},
   "outputs": [
    {
     "data": {
      "text/plain": [
       "16GB     12462\n",
       "32GB      9729\n",
       "64GB      5436\n",
       "8GB       3638\n",
       "128GB     1840\n",
       "4GB        295\n",
       "256GB      270\n",
       "512MB       63\n",
       "Name: storage, dtype: int64"
      ]
     },
     "execution_count": 151,
     "metadata": {},
     "output_type": "execute_result"
    }
   ],
   "source": [
    "check_out_per_storage = eventos_check_out.storage.value_counts()\n",
    "check_out_per_storage"
   ]
  },
  {
   "cell_type": "code",
   "execution_count": 152,
   "metadata": {},
   "outputs": [
    {
     "data": {
      "text/plain": [
       "<matplotlib.text.Text at 0x7f7b254694a8>"
      ]
     },
     "execution_count": 152,
     "metadata": {},
     "output_type": "execute_result"
    },
    {
     "data": {
      "image/png": "[encoded data removed]",
      "text/plain": [
       "<matplotlib.figure.Figure at 0x7f7b25526358>"
      ]
     },
     "metadata": {},
     "output_type": "display_data"
    }
   ],
   "source": [
    "g = sns.barplot(x=check_out_per_storage.values, y=check_out_per_storage.index, orient='h')\n",
    "g.set_title(\"Checkout per storage\", fontsize=15)\n",
    "g.set_xlabel(\"Number of checkouts\", fontsize=12)\n",
    "g.set_ylabel(\"Storage\", fontsize=12)"
   ]
  },
  {
   "cell_type": "code",
   "execution_count": 153,
   "metadata": {},
   "outputs": [
    {
     "data": {
      "text/plain": [
       "16GB     552\n",
       "32GB     265\n",
       "8GB      205\n",
       "64GB     102\n",
       "128GB     27\n",
       "4GB       17\n",
       "512MB      3\n",
       "256GB      1\n",
       "Name: storage, dtype: int64"
      ]
     },
     "execution_count": 153,
     "metadata": {},
     "output_type": "execute_result"
    }
   ],
   "source": [
    "conversion_per_storage = eventos_conversion.storage.value_counts()\n",
    "conversion_per_storage"
   ]
  },
  {
   "cell_type": "code",
   "execution_count": 154,
   "metadata": {},
   "outputs": [
    {
     "data": {
      "text/plain": [
       "<matplotlib.text.Text at 0x7f7b256eca58>"
      ]
     },
     "execution_count": 154,
     "metadata": {},
     "output_type": "execute_result"
    },
    {
     "data": {
      "image/png": "[encoded data removed]",
      "text/plain": [
       "<matplotlib.figure.Figure at 0x7f7b253f69b0>"
      ]
     },
     "metadata": {},
     "output_type": "display_data"
    }
   ],
   "source": [
    "g = sns.barplot(x=conversion_per_storage.values, y=conversion_per_storage.index, orient='h')\n",
    "g.set_title(\"Conversion per storage\", fontsize=15)\n",
    "g.set_xlabel(\"Number of conversions\", fontsize=12)\n",
    "g.set_ylabel(\"Storage\", fontsize=12)"
   ]
  },
  {
   "cell_type": "code",
   "execution_count": 158,
   "metadata": {},
   "outputs": [
    {
     "data": {
      "text/plain": [
       "16GB     177819\n",
       "32GB     174461\n",
       "64GB      94486\n",
       "128GB     38938\n",
       "8GB       34338\n",
       "256GB      6550\n",
       "4GB        1840\n",
       "512MB       499\n",
       "Name: storage, dtype: int64"
      ]
     },
     "execution_count": 158,
     "metadata": {},
     "output_type": "execute_result"
    }
   ],
   "source": [
    "viewed_product_per_storage = eventos_viewed_product.storage.value_counts()\n",
    "viewed_product_per_storage"
   ]
  },
  {
   "cell_type": "code",
   "execution_count": 159,
   "metadata": {},
   "outputs": [
    {
     "data": {
      "text/plain": [
       "<matplotlib.text.Text at 0x7f7b29d77780>"
      ]
     },
     "execution_count": 159,
     "metadata": {},
     "output_type": "execute_result"
    },
    {
     "data": {
      "image/png": "[encoded data removed]",
      "text/plain": [
       "<matplotlib.figure.Figure at 0x7f7b254cba90>"
      ]
     },
     "metadata": {},
     "output_type": "display_data"
    }
   ],
   "source": [
    "g = sns.barplot(x=viewed_product_per_storage.values, y=viewed_product_per_storage.index, orient='h')\n",
    "g.set_title(\"Viewed product per storage\", fontsize=15)\n",
    "g.set_xlabel(\"Number of viewed products\", fontsize=12)\n",
    "g.set_ylabel(\"Storage\", fontsize=12)"
   ]
  },
  {
   "cell_type": "markdown",
   "metadata": {},
   "source": [
    "## Condition"
   ]
  },
  {
   "cell_type": "code",
   "execution_count": 160,
   "metadata": {},
   "outputs": [
    {
     "data": {
      "text/plain": [
       "Bom                   538\n",
       "Muito Bom             352\n",
       "Excelente             258\n",
       "Bom - Sem Touch ID     22\n",
       "Novo                    2\n",
       "Name: condition, dtype: int64"
      ]
     },
     "execution_count": 160,
     "metadata": {},
     "output_type": "execute_result"
    }
   ],
   "source": [
    "conversion_per_condition = eventos_conversion.condition.value_counts()\n",
    "conversion_per_condition"
   ]
  },
  {
   "cell_type": "code",
   "execution_count": 161,
   "metadata": {},
   "outputs": [
    {
     "data": {
      "text/plain": [
       "<matplotlib.text.Text at 0x7f7b29661b00>"
      ]
     },
     "execution_count": 161,
     "metadata": {},
     "output_type": "execute_result"
    },
    {
     "data": {
      "image/png": "[encoded data removed]",
      "text/plain": [
       "<matplotlib.figure.Figure at 0x7f7b29541198>"
      ]
     },
     "metadata": {},
     "output_type": "display_data"
    }
   ],
   "source": [
    "g = sns.barplot(x=conversion_per_condition.values, y=conversion_per_condition.index, orient='h')\n",
    "g.set_title(\"Conversion per condition\", fontsize=15)\n",
    "g.set_xlabel(\"Number of conversions\", fontsize=12)\n",
    "g.set_ylabel(\"Condition\", fontsize=12)"
   ]
  },
  {
   "cell_type": "code",
   "execution_count": 162,
   "metadata": {},
   "outputs": [
    {
     "data": {
      "text/plain": [
       "Bom                   15305\n",
       "Excelente              9141\n",
       "Muito Bom              8184\n",
       "Bom - Sem Touch ID     1090\n",
       "Novo                     13\n",
       "Name: condition, dtype: int64"
      ]
     },
     "execution_count": 162,
     "metadata": {},
     "output_type": "execute_result"
    }
   ],
   "source": [
    "check_out_per_condition = eventos_check_out.condition.value_counts()\n",
    "check_out_per_condition"
   ]
  },
  {
   "cell_type": "code",
   "execution_count": 163,
   "metadata": {},
   "outputs": [
    {
     "data": {
      "text/plain": [
       "<matplotlib.text.Text at 0x7f7b295ebc50>"
      ]
     },
     "execution_count": 163,
     "metadata": {},
     "output_type": "execute_result"
    },
    {
     "data": {
      "image/png": "[encoded data removed]",
      "text/plain": [
       "<matplotlib.figure.Figure at 0x7f7b29693550>"
      ]
     },
     "metadata": {},
     "output_type": "display_data"
    }
   ],
   "source": [
    "g = sns.barplot(x=check_out_per_condition.values, y=check_out_per_condition.index, orient='h')\n",
    "g.set_title(\"Check out per condition\", fontsize=15)\n",
    "g.set_xlabel(\"Number of check outs\", fontsize=12)\n",
    "g.set_ylabel(\"Condition\", fontsize=12)"
   ]
  },
  {
   "cell_type": "code",
   "execution_count": 164,
   "metadata": {},
   "outputs": [
    {
     "data": {
      "text/plain": [
       "Bom                   227171\n",
       "Excelente             143578\n",
       "Muito Bom             142823\n",
       "Bom - Sem Touch ID     14183\n",
       "Novo                    1176\n",
       "Name: condition, dtype: int64"
      ]
     },
     "execution_count": 164,
     "metadata": {},
     "output_type": "execute_result"
    }
   ],
   "source": [
    "viewed_product_per_condition = eventos_viewed_product.condition.value_counts()\n",
    "viewed_product_per_condition"
   ]
  },
  {
   "cell_type": "code",
   "execution_count": 165,
   "metadata": {},
   "outputs": [
    {
     "data": {
      "text/plain": [
       "<matplotlib.text.Text at 0x7f7b25716e80>"
      ]
     },
     "execution_count": 165,
     "metadata": {},
     "output_type": "execute_result"
    },
    {
     "data": {
      "image/png": "[encoded data removed]",
      "text/plain": [
       "<matplotlib.figure.Figure at 0x7f7b296f3ef0>"
      ]
     },
     "metadata": {},
     "output_type": "display_data"
    }
   ],
   "source": [
    "g = sns.barplot(x=viewed_product_per_condition.values, y=viewed_product_per_condition.index, orient='h')\n",
    "g.set_title(\"Viewed product per condition\", fontsize=15)\n",
    "g.set_xlabel(\"Number of viewed products\", fontsize=12)\n",
    "g.set_ylabel(\"Condition\", fontsize=12)"
   ]
  },
  {
   "cell_type": "markdown",
   "metadata": {},
   "source": [
    "# Conversion por colores del modelo más frecuente\n",
    "\n",
    "Un análisis aburrida que hice en unos minutos libres y sin ideas."
   ]
  },
  {
   "cell_type": "code",
   "execution_count": 166,
   "metadata": {},
   "outputs": [
    {
     "data": {
      "text/plain": [
       "Preto              368\n",
       "Dourado            269\n",
       "Branco             216\n",
       "Cinza espacial      89\n",
       "Prateado            51\n",
       "Ouro Rosa           32\n",
       "Rosa                30\n",
       "Cinza               23\n",
       "Azul                22\n",
       "Preto Vermelho      11\n",
       "Prata                8\n",
       "Platinum             7\n",
       "Branco Vermelho      6\n",
       "Preto Matte          6\n",
       "Verde                5\n",
       "Ametista             4\n",
       "Titânio              4\n",
       "Ouro                 4\n",
       "Preto Brilhante      3\n",
       "Indigo               3\n",
       "Bambu                2\n",
       "Cabernet             2\n",
       "Vermelho             2\n",
       "Amarelo              2\n",
       "Preto Azul           1\n",
       "Couro Vintage        1\n",
       "Azul Topázio         1\n",
       "Name: color, dtype: int64"
      ]
     },
     "execution_count": 166,
     "metadata": {},
     "output_type": "execute_result"
    }
   ],
   "source": [
    "conversion_per_color = eventos_conversion.color.value_counts()\n",
    "conversion_per_color"
   ]
  },
  {
   "cell_type": "markdown",
   "metadata": {},
   "source": [
    "Fijemosnos en los 5 primeros, que son los que tienen mayor porcentaje."
   ]
  },
  {
   "cell_type": "code",
   "execution_count": 167,
   "metadata": {},
   "outputs": [],
   "source": [
    "conversion_per_color = conversion_per_color.head(5)"
   ]
  },
  {
   "cell_type": "code",
   "execution_count": 168,
   "metadata": {},
   "outputs": [
    {
     "data": {
      "text/plain": [
       "<matplotlib.text.Text at 0x7f7b253d1dd8>"
      ]
     },
     "execution_count": 168,
     "metadata": {},
     "output_type": "execute_result"
    },
    {
     "data": {
      "image/png": "[encoded data removed]",
      "text/plain": [
       "<matplotlib.figure.Figure at 0x7f7b257160b8>"
      ]
     },
     "metadata": {},
     "output_type": "display_data"
    }
   ],
   "source": [
    "g = sns.barplot(x=conversion_per_color.values, y=conversion_per_color.index, orient='h')\n",
    "g.set_title(\"Conversion per color\", fontsize=15)\n",
    "g.set_xlabel(\"Number of conversions\", fontsize=12)\n",
    "g.set_ylabel(\"Color\", fontsize=12)"
   ]
  },
  {
   "cell_type": "code",
   "execution_count": 169,
   "metadata": {},
   "outputs": [
    {
     "data": {
      "text/plain": [
       "Dourado    52\n",
       "Preto      21\n",
       "Branco     15\n",
       "Name: color, dtype: int64"
      ]
     },
     "execution_count": 169,
     "metadata": {},
     "output_type": "execute_result"
    }
   ],
   "source": [
    "# Esto no es muy interesante realmente, tal vez con más de los \"mejores\" modelos sea más interesante.\n",
    "# Igual, no se que tanto aporta.\n",
    "\n",
    "conversion_per_color = eventos_conversion.loc[eventos_conversion.model == 'Samsung Galaxy J5'].color.value_counts().head(10)\n",
    "conversion_per_color"
   ]
  },
  {
   "cell_type": "code",
   "execution_count": 170,
   "metadata": {},
   "outputs": [
    {
     "data": {
      "text/plain": [
       "<matplotlib.text.Text at 0x7f7b25355cf8>"
      ]
     },
     "execution_count": 170,
     "metadata": {},
     "output_type": "execute_result"
    },
    {
     "data": {
      "image/png": "[encoded data removed]",
      "text/plain": [
       "<matplotlib.figure.Figure at 0x7f7b253d3ba8>"
      ]
     },
     "metadata": {},
     "output_type": "display_data"
    }
   ],
   "source": [
    "g = sns.barplot(x=conversion_per_color.values, y=conversion_per_color.index, orient='h')\n",
    "g.set_title(\"Conversion per color for most 'conversion' model\", fontsize=15)\n",
    "g.set_xlabel(\"Number of conversions\", fontsize=12)\n",
    "g.set_ylabel(\"Color\", fontsize=12)"
   ]
  },
  {
   "cell_type": "markdown",
   "metadata": {},
   "source": [
    "# Análisis de los eventos de *'search\\_engine\\_hit'*"
   ]
  },
  {
   "cell_type": "code",
   "execution_count": 171,
   "metadata": {},
   "outputs": [
    {
     "data": {
      "text/html": [
       "<div>\n",
       "<style scoped>\n",
       "    .dataframe tbody tr th:only-of-type {\n",
       "        vertical-align: middle;\n",
       "    }\n",
       "\n",
       "    .dataframe tbody tr th {\n",
       "        vertical-align: top;\n",
       "    }\n",
       "\n",
       "    .dataframe thead th {\n",
       "        text-align: right;\n",
       "    }\n",
       "</style>\n",
       "<table border=\"1\" class=\"dataframe\">\n",
       "  <thead>\n",
       "    <tr style=\"text-align: right;\">\n",
       "      <th></th>\n",
       "      <th>timestamp</th>\n",
       "      <th>event</th>\n",
       "      <th>person</th>\n",
       "      <th>url</th>\n",
       "      <th>sku</th>\n",
       "      <th>model</th>\n",
       "      <th>condition</th>\n",
       "      <th>storage</th>\n",
       "      <th>color</th>\n",
       "      <th>skus</th>\n",
       "      <th>...</th>\n",
       "      <th>device_type</th>\n",
       "      <th>screen_resolution</th>\n",
       "      <th>operating_system_version</th>\n",
       "      <th>browser_version</th>\n",
       "      <th>year</th>\n",
       "      <th>month</th>\n",
       "      <th>day</th>\n",
       "      <th>weekday</th>\n",
       "      <th>hour</th>\n",
       "      <th>dia_semana</th>\n",
       "    </tr>\n",
       "  </thead>\n",
       "  <tbody>\n",
       "    <tr>\n",
       "      <th>10</th>\n",
       "      <td>2018-04-09 20:12:31</td>\n",
       "      <td>search engine hit</td>\n",
       "      <td>000a54b2</td>\n",
       "      <td>NaN</td>\n",
       "      <td>NaN</td>\n",
       "      <td>NaN</td>\n",
       "      <td>NaN</td>\n",
       "      <td>NaN</td>\n",
       "      <td>NaN</td>\n",
       "      <td>NaN</td>\n",
       "      <td>...</td>\n",
       "      <td>NaN</td>\n",
       "      <td>NaN</td>\n",
       "      <td>NaN</td>\n",
       "      <td>NaN</td>\n",
       "      <td>2018</td>\n",
       "      <td>4</td>\n",
       "      <td>9</td>\n",
       "      <td>Monday</td>\n",
       "      <td>20</td>\n",
       "      <td>Domingo</td>\n",
       "    </tr>\n",
       "    <tr>\n",
       "      <th>17</th>\n",
       "      <td>2018-05-24 11:21:07</td>\n",
       "      <td>search engine hit</td>\n",
       "      <td>000a54b2</td>\n",
       "      <td>NaN</td>\n",
       "      <td>NaN</td>\n",
       "      <td>NaN</td>\n",
       "      <td>NaN</td>\n",
       "      <td>NaN</td>\n",
       "      <td>NaN</td>\n",
       "      <td>NaN</td>\n",
       "      <td>...</td>\n",
       "      <td>NaN</td>\n",
       "      <td>NaN</td>\n",
       "      <td>NaN</td>\n",
       "      <td>NaN</td>\n",
       "      <td>2018</td>\n",
       "      <td>5</td>\n",
       "      <td>24</td>\n",
       "      <td>Thursday</td>\n",
       "      <td>11</td>\n",
       "      <td>Miércoles</td>\n",
       "    </tr>\n",
       "    <tr>\n",
       "      <th>47</th>\n",
       "      <td>2018-04-06 05:12:05</td>\n",
       "      <td>search engine hit</td>\n",
       "      <td>00184bf9</td>\n",
       "      <td>NaN</td>\n",
       "      <td>NaN</td>\n",
       "      <td>NaN</td>\n",
       "      <td>NaN</td>\n",
       "      <td>NaN</td>\n",
       "      <td>NaN</td>\n",
       "      <td>NaN</td>\n",
       "      <td>...</td>\n",
       "      <td>NaN</td>\n",
       "      <td>NaN</td>\n",
       "      <td>NaN</td>\n",
       "      <td>NaN</td>\n",
       "      <td>2018</td>\n",
       "      <td>4</td>\n",
       "      <td>6</td>\n",
       "      <td>Friday</td>\n",
       "      <td>5</td>\n",
       "      <td>Jueves</td>\n",
       "    </tr>\n",
       "    <tr>\n",
       "      <th>62</th>\n",
       "      <td>2018-04-06 05:12:59</td>\n",
       "      <td>search engine hit</td>\n",
       "      <td>00184bf9</td>\n",
       "      <td>NaN</td>\n",
       "      <td>NaN</td>\n",
       "      <td>NaN</td>\n",
       "      <td>NaN</td>\n",
       "      <td>NaN</td>\n",
       "      <td>NaN</td>\n",
       "      <td>NaN</td>\n",
       "      <td>...</td>\n",
       "      <td>NaN</td>\n",
       "      <td>NaN</td>\n",
       "      <td>NaN</td>\n",
       "      <td>NaN</td>\n",
       "      <td>2018</td>\n",
       "      <td>4</td>\n",
       "      <td>6</td>\n",
       "      <td>Friday</td>\n",
       "      <td>5</td>\n",
       "      <td>Jueves</td>\n",
       "    </tr>\n",
       "    <tr>\n",
       "      <th>97</th>\n",
       "      <td>2018-05-17 00:08:56</td>\n",
       "      <td>search engine hit</td>\n",
       "      <td>0019c395</td>\n",
       "      <td>NaN</td>\n",
       "      <td>NaN</td>\n",
       "      <td>NaN</td>\n",
       "      <td>NaN</td>\n",
       "      <td>NaN</td>\n",
       "      <td>NaN</td>\n",
       "      <td>NaN</td>\n",
       "      <td>...</td>\n",
       "      <td>NaN</td>\n",
       "      <td>NaN</td>\n",
       "      <td>NaN</td>\n",
       "      <td>NaN</td>\n",
       "      <td>2018</td>\n",
       "      <td>5</td>\n",
       "      <td>17</td>\n",
       "      <td>Thursday</td>\n",
       "      <td>0</td>\n",
       "      <td>Miércoles</td>\n",
       "    </tr>\n",
       "  </tbody>\n",
       "</table>\n",
       "<p>5 rows × 29 columns</p>\n",
       "</div>"
      ],
      "text/plain": [
       "             timestamp              event    person  url  sku model condition  \\\n",
       "10 2018-04-09 20:12:31  search engine hit  000a54b2  NaN  NaN   NaN       NaN   \n",
       "17 2018-05-24 11:21:07  search engine hit  000a54b2  NaN  NaN   NaN       NaN   \n",
       "47 2018-04-06 05:12:05  search engine hit  00184bf9  NaN  NaN   NaN       NaN   \n",
       "62 2018-04-06 05:12:59  search engine hit  00184bf9  NaN  NaN   NaN       NaN   \n",
       "97 2018-05-17 00:08:56  search engine hit  0019c395  NaN  NaN   NaN       NaN   \n",
       "\n",
       "   storage color skus    ...     device_type screen_resolution  \\\n",
       "10     NaN   NaN  NaN    ...             NaN               NaN   \n",
       "17     NaN   NaN  NaN    ...             NaN               NaN   \n",
       "47     NaN   NaN  NaN    ...             NaN               NaN   \n",
       "62     NaN   NaN  NaN    ...             NaN               NaN   \n",
       "97     NaN   NaN  NaN    ...             NaN               NaN   \n",
       "\n",
       "   operating_system_version browser_version  year month day   weekday hour  \\\n",
       "10                      NaN             NaN  2018     4   9    Monday   20   \n",
       "17                      NaN             NaN  2018     5  24  Thursday   11   \n",
       "47                      NaN             NaN  2018     4   6    Friday    5   \n",
       "62                      NaN             NaN  2018     4   6    Friday    5   \n",
       "97                      NaN             NaN  2018     5  17  Thursday    0   \n",
       "\n",
       "   dia_semana  \n",
       "10    Domingo  \n",
       "17  Miércoles  \n",
       "47     Jueves  \n",
       "62     Jueves  \n",
       "97  Miércoles  \n",
       "\n",
       "[5 rows x 29 columns]"
      ]
     },
     "execution_count": 171,
     "metadata": {},
     "output_type": "execute_result"
    }
   ],
   "source": [
    "eventos_search_engine_hit = eventos_raw.loc[eventos_raw.event == 'search engine hit']\n",
    "eventos_search_engine_hit.head()"
   ]
  },
  {
   "cell_type": "code",
   "execution_count": 172,
   "metadata": {},
   "outputs": [
    {
     "data": {
      "text/plain": [
       "Index(['timestamp', 'event', 'person', 'url', 'sku', 'model', 'condition',\n",
       "       'storage', 'color', 'skus', 'search_term', 'staticpage',\n",
       "       'campaign_source', 'search_engine', 'channel', 'new_vs_returning',\n",
       "       'city', 'region', 'country', 'device_type', 'screen_resolution',\n",
       "       'operating_system_version', 'browser_version', 'year', 'month', 'day',\n",
       "       'weekday', 'hour', 'dia_semana'],\n",
       "      dtype='object')"
      ]
     },
     "execution_count": 172,
     "metadata": {},
     "output_type": "execute_result"
    }
   ],
   "source": [
    "eventos_search_engine_hit.columns"
   ]
  },
  {
   "cell_type": "code",
   "execution_count": 173,
   "metadata": {},
   "outputs": [
    {
     "data": {
      "text/plain": [
       "Google    50240\n",
       "Bing        424\n",
       "Yahoo       287\n",
       "Ask           6\n",
       "Name: search_engine, dtype: int64"
      ]
     },
     "execution_count": 173,
     "metadata": {},
     "output_type": "execute_result"
    }
   ],
   "source": [
    "# Google lleva la delantera. (?)\n",
    "\n",
    "search_engine = eventos_search_engine_hit.search_engine.value_counts()\n",
    "search_engine"
   ]
  },
  {
   "cell_type": "code",
   "execution_count": 174,
   "metadata": {},
   "outputs": [
    {
     "data": {
      "text/plain": [
       "Google                   0.99\n",
       "Bing                     0.01\n",
       "Yahoo                    0.01\n",
       "Ask                      0.00\n",
       "Name: search_engine, dtype: float64"
      ]
     },
     "execution_count": 174,
     "metadata": {},
     "output_type": "execute_result"
    }
   ],
   "source": [
    "# Vemos que el 99% de los search engine hit se hacen a traves de Google.\n",
    "# Sinceramente no es algo que no hubiesemos esperado.\n",
    "\n",
    "search_engine_normalize = eventos_search_engine_hit.search_engine.value_counts(normalize=True)\n",
    "search_engine_normalize"
   ]
  },
  {
   "cell_type": "code",
   "execution_count": 175,
   "metadata": {},
   "outputs": [
    {
     "data": {
      "text/plain": [
       "<matplotlib.text.Text at 0x7f7b252c7710>"
      ]
     },
     "execution_count": 175,
     "metadata": {},
     "output_type": "execute_result"
    },
    {
     "data": {
      "image/png": "[encoded data removed]",
      "text/plain": [
       "<matplotlib.figure.Figure at 0x7f7b25351e10>"
      ]
     },
     "metadata": {},
     "output_type": "display_data"
    }
   ],
   "source": [
    "g = sns.barplot(x=search_engine.values, y=search_engine.index, orient='h')\n",
    "g.set_title(\"Search engine in event search engine hit\", fontsize=15)\n",
    "g.set_xlabel(\"Number of hits\", fontsize=12)\n",
    "g.set_ylabel(\"Search engine\", fontsize=12)\n",
    "\n",
    "# Sí, un gráfico sin mucho sentido."
   ]
  },
  {
   "cell_type": "markdown",
   "metadata": {},
   "source": [
    "## Search engine hit por mes"
   ]
  },
  {
   "cell_type": "code",
   "execution_count": 176,
   "metadata": {},
   "outputs": [
    {
     "data": {
      "text/plain": [
       "5    24259\n",
       "6    15429\n",
       "4     5641\n",
       "3     3287\n",
       "2     1338\n",
       "1     1003\n",
       "Name: month, dtype: int64"
      ]
     },
     "execution_count": 176,
     "metadata": {},
     "output_type": "execute_result"
    }
   ],
   "source": [
    "search_engine_hit_per_month = eventos_search_engine_hit.month.value_counts()\n",
    "search_engine_hit_per_month"
   ]
  },
  {
   "cell_type": "code",
   "execution_count": 177,
   "metadata": {},
   "outputs": [
    {
     "data": {
      "text/plain": [
       "<matplotlib.text.Text at 0x7f7b2523f4a8>"
      ]
     },
     "execution_count": 177,
     "metadata": {},
     "output_type": "execute_result"
    },
    {
     "data": {
      "image/png": "[encoded data removed]",
      "text/plain": [
       "<matplotlib.figure.Figure at 0x7f7b252c7438>"
      ]
     },
     "metadata": {},
     "output_type": "display_data"
    }
   ],
   "source": [
    "# Vemos que tenemos más en los meses 5, y 6 aunque menos.\n",
    "\n",
    "g = sns.barplot(x=search_engine_hit_per_month.values, y=search_engine_hit_per_month.index, orient='h')\n",
    "g.set_title(\"Search engine hit per month\", fontsize=15)\n",
    "g.set_xlabel(\"Number of hits\", fontsize=12)\n",
    "g.set_ylabel(\"Month\", fontsize=12)"
   ]
  },
  {
   "cell_type": "markdown",
   "metadata": {},
   "source": [
    "A esta altura deben de estar artos de mis gráficos de barra. :/ **buu**"
   ]
  },
  {
   "cell_type": "markdown",
   "metadata": {},
   "source": [
    "# Análisis según el tipo de dispositivo que usa el usuario"
   ]
  },
  {
   "cell_type": "code",
   "execution_count": 178,
   "metadata": {},
   "outputs": [],
   "source": [
    "## eventos_raw.device_type.value_counts()"
   ]
  },
  {
   "cell_type": "code",
   "execution_count": 179,
   "metadata": {},
   "outputs": [
    {
     "data": {
      "text/plain": [
       "Smartphone                   0.51\n",
       "Computer                     0.48\n",
       "Tablet                       0.01\n",
       "Unknown                      0.00\n",
       "Name: device_type, dtype: float64"
      ]
     },
     "execution_count": 179,
     "metadata": {},
     "output_type": "execute_result"
    }
   ],
   "source": [
    "# Está miti miti entre smartphone y computer.\n",
    "# La diferencia del device con el que ven los productos puede hacer que por la calidad de\n",
    "# como se ve cambie el si compran o no, o qué compran. También qué tanto se quedan\n",
    "# en la página buscando y viendo productos.\n",
    "\n",
    "eventos_raw.device_type.value_counts(normalize = True)"
   ]
  },
  {
   "cell_type": "code",
   "execution_count": 180,
   "metadata": {},
   "outputs": [
    {
     "data": {
      "text/plain": [
       "<pandas.core.groupby.groupby.DataFrameGroupBy object at 0x7f7b25243978>"
      ]
     },
     "execution_count": 180,
     "metadata": {},
     "output_type": "execute_result"
    }
   ],
   "source": [
    "groupby_person_day = eventos_raw.groupby(['person', 'day'])\n",
    "groupby_person_day"
   ]
  },
  {
   "cell_type": "code",
   "execution_count": 181,
   "metadata": {},
   "outputs": [],
   "source": [
    "# Relación: cuantos productos ve un usuario hasta decidir cual comprar."
   ]
  },
  {
   "cell_type": "code",
   "execution_count": 182,
   "metadata": {},
   "outputs": [
    {
     "data": {
      "text/plain": [
       "person    day  event          \n",
       "0004b0a2  31   ad campaign hit    1\n",
       "               checkout           1\n",
       "               viewed product     1\n",
       "               visited site       1\n",
       "0006a21a  29   ad campaign hit    1\n",
       "Name: event, dtype: int64"
      ]
     },
     "execution_count": 182,
     "metadata": {},
     "output_type": "execute_result"
    }
   ],
   "source": [
    "groupby_person_day.event.value_counts().head()"
   ]
  },
  {
   "cell_type": "code",
   "execution_count": 183,
   "metadata": {},
   "outputs": [],
   "source": [
    "# Acá quería ver la cantidad de horas seguidas que está un usuario en la página.\n",
    "# Y relacionarlo con el tipo de dispositivo que estuvieron usando.\n",
    "#groupby_person_day.hour.max() - groupby_person_day.hour.min()"
   ]
  },
  {
   "cell_type": "markdown",
   "metadata": {},
   "source": [
    "# Análisis con el evento *'check-out'*"
   ]
  },
  {
   "cell_type": "code",
   "execution_count": 184,
   "metadata": {},
   "outputs": [
    {
     "data": {
      "text/html": [
       "<div>\n",
       "<style scoped>\n",
       "    .dataframe tbody tr th:only-of-type {\n",
       "        vertical-align: middle;\n",
       "    }\n",
       "\n",
       "    .dataframe tbody tr th {\n",
       "        vertical-align: top;\n",
       "    }\n",
       "\n",
       "    .dataframe thead th {\n",
       "        text-align: right;\n",
       "    }\n",
       "</style>\n",
       "<table border=\"1\" class=\"dataframe\">\n",
       "  <thead>\n",
       "    <tr style=\"text-align: right;\">\n",
       "      <th></th>\n",
       "      <th>timestamp</th>\n",
       "      <th>event</th>\n",
       "      <th>person</th>\n",
       "      <th>url</th>\n",
       "      <th>sku</th>\n",
       "      <th>model</th>\n",
       "      <th>condition</th>\n",
       "      <th>storage</th>\n",
       "      <th>color</th>\n",
       "      <th>skus</th>\n",
       "      <th>...</th>\n",
       "      <th>device_type</th>\n",
       "      <th>screen_resolution</th>\n",
       "      <th>operating_system_version</th>\n",
       "      <th>browser_version</th>\n",
       "      <th>year</th>\n",
       "      <th>month</th>\n",
       "      <th>day</th>\n",
       "      <th>weekday</th>\n",
       "      <th>hour</th>\n",
       "      <th>dia_semana</th>\n",
       "    </tr>\n",
       "  </thead>\n",
       "  <tbody>\n",
       "    <tr>\n",
       "      <th>3</th>\n",
       "      <td>2018-05-31 23:38:40</td>\n",
       "      <td>checkout</td>\n",
       "      <td>0004b0a2</td>\n",
       "      <td>NaN</td>\n",
       "      <td>2694.0</td>\n",
       "      <td>iPhone 5s</td>\n",
       "      <td>Bom</td>\n",
       "      <td>32GB</td>\n",
       "      <td>Cinza espacial</td>\n",
       "      <td>NaN</td>\n",
       "      <td>...</td>\n",
       "      <td>NaN</td>\n",
       "      <td>NaN</td>\n",
       "      <td>NaN</td>\n",
       "      <td>NaN</td>\n",
       "      <td>2018</td>\n",
       "      <td>5</td>\n",
       "      <td>31</td>\n",
       "      <td>Thursday</td>\n",
       "      <td>23</td>\n",
       "      <td>Miércoles</td>\n",
       "    </tr>\n",
       "    <tr>\n",
       "      <th>7</th>\n",
       "      <td>2018-05-29 13:29:35</td>\n",
       "      <td>checkout</td>\n",
       "      <td>0006a21a</td>\n",
       "      <td>NaN</td>\n",
       "      <td>15338.0</td>\n",
       "      <td>Samsung Galaxy S8</td>\n",
       "      <td>Bom</td>\n",
       "      <td>64GB</td>\n",
       "      <td>Dourado</td>\n",
       "      <td>NaN</td>\n",
       "      <td>...</td>\n",
       "      <td>NaN</td>\n",
       "      <td>NaN</td>\n",
       "      <td>NaN</td>\n",
       "      <td>NaN</td>\n",
       "      <td>2018</td>\n",
       "      <td>5</td>\n",
       "      <td>29</td>\n",
       "      <td>Tuesday</td>\n",
       "      <td>13</td>\n",
       "      <td>Lunes</td>\n",
       "    </tr>\n",
       "    <tr>\n",
       "      <th>44</th>\n",
       "      <td>2018-05-24 11:34:32</td>\n",
       "      <td>checkout</td>\n",
       "      <td>000a54b2</td>\n",
       "      <td>NaN</td>\n",
       "      <td>12660.0</td>\n",
       "      <td>Motorola Moto Z Play</td>\n",
       "      <td>Bom</td>\n",
       "      <td>32GB</td>\n",
       "      <td>Preto</td>\n",
       "      <td>NaN</td>\n",
       "      <td>...</td>\n",
       "      <td>NaN</td>\n",
       "      <td>NaN</td>\n",
       "      <td>NaN</td>\n",
       "      <td>NaN</td>\n",
       "      <td>2018</td>\n",
       "      <td>5</td>\n",
       "      <td>24</td>\n",
       "      <td>Thursday</td>\n",
       "      <td>11</td>\n",
       "      <td>Miércoles</td>\n",
       "    </tr>\n",
       "    <tr>\n",
       "      <th>85</th>\n",
       "      <td>2018-04-06 05:14:58</td>\n",
       "      <td>checkout</td>\n",
       "      <td>00184bf9</td>\n",
       "      <td>NaN</td>\n",
       "      <td>6355.0</td>\n",
       "      <td>Samsung Galaxy J5</td>\n",
       "      <td>Excelente</td>\n",
       "      <td>16GB</td>\n",
       "      <td>Preto</td>\n",
       "      <td>NaN</td>\n",
       "      <td>...</td>\n",
       "      <td>NaN</td>\n",
       "      <td>NaN</td>\n",
       "      <td>NaN</td>\n",
       "      <td>NaN</td>\n",
       "      <td>2018</td>\n",
       "      <td>4</td>\n",
       "      <td>6</td>\n",
       "      <td>Friday</td>\n",
       "      <td>5</td>\n",
       "      <td>Jueves</td>\n",
       "    </tr>\n",
       "    <tr>\n",
       "      <th>86</th>\n",
       "      <td>2018-04-06 05:18:15</td>\n",
       "      <td>checkout</td>\n",
       "      <td>00184bf9</td>\n",
       "      <td>NaN</td>\n",
       "      <td>6355.0</td>\n",
       "      <td>Samsung Galaxy J5</td>\n",
       "      <td>Excelente</td>\n",
       "      <td>16GB</td>\n",
       "      <td>Preto</td>\n",
       "      <td>NaN</td>\n",
       "      <td>...</td>\n",
       "      <td>NaN</td>\n",
       "      <td>NaN</td>\n",
       "      <td>NaN</td>\n",
       "      <td>NaN</td>\n",
       "      <td>2018</td>\n",
       "      <td>4</td>\n",
       "      <td>6</td>\n",
       "      <td>Friday</td>\n",
       "      <td>5</td>\n",
       "      <td>Jueves</td>\n",
       "    </tr>\n",
       "  </tbody>\n",
       "</table>\n",
       "<p>5 rows × 29 columns</p>\n",
       "</div>"
      ],
      "text/plain": [
       "             timestamp     event    person  url      sku  \\\n",
       "3  2018-05-31 23:38:40  checkout  0004b0a2  NaN   2694.0   \n",
       "7  2018-05-29 13:29:35  checkout  0006a21a  NaN  15338.0   \n",
       "44 2018-05-24 11:34:32  checkout  000a54b2  NaN  12660.0   \n",
       "85 2018-04-06 05:14:58  checkout  00184bf9  NaN   6355.0   \n",
       "86 2018-04-06 05:18:15  checkout  00184bf9  NaN   6355.0   \n",
       "\n",
       "                   model  condition storage           color skus    ...      \\\n",
       "3              iPhone 5s        Bom    32GB  Cinza espacial  NaN    ...       \n",
       "7      Samsung Galaxy S8        Bom    64GB         Dourado  NaN    ...       \n",
       "44  Motorola Moto Z Play        Bom    32GB           Preto  NaN    ...       \n",
       "85     Samsung Galaxy J5  Excelente    16GB           Preto  NaN    ...       \n",
       "86     Samsung Galaxy J5  Excelente    16GB           Preto  NaN    ...       \n",
       "\n",
       "   device_type screen_resolution operating_system_version browser_version  \\\n",
       "3          NaN               NaN                      NaN             NaN   \n",
       "7          NaN               NaN                      NaN             NaN   \n",
       "44         NaN               NaN                      NaN             NaN   \n",
       "85         NaN               NaN                      NaN             NaN   \n",
       "86         NaN               NaN                      NaN             NaN   \n",
       "\n",
       "    year month day   weekday hour dia_semana  \n",
       "3   2018     5  31  Thursday   23  Miércoles  \n",
       "7   2018     5  29   Tuesday   13      Lunes  \n",
       "44  2018     5  24  Thursday   11  Miércoles  \n",
       "85  2018     4   6    Friday    5     Jueves  \n",
       "86  2018     4   6    Friday    5     Jueves  \n",
       "\n",
       "[5 rows x 29 columns]"
      ]
     },
     "execution_count": 184,
     "metadata": {},
     "output_type": "execute_result"
    }
   ],
   "source": [
    "eventos_check_out = eventos_raw.loc[eventos_raw.event == 'checkout']\n",
    "eventos_check_out.head()"
   ]
  },
  {
   "cell_type": "markdown",
   "metadata": {},
   "source": [
    "## Cantidad de checkouts durante el año"
   ]
  },
  {
   "cell_type": "code",
   "execution_count": 186,
   "metadata": {},
   "outputs": [
    {
     "data": {
      "text/plain": [
       "2018-06-05    1177\n",
       "2018-06-06    1078\n",
       "2018-06-04    1071\n",
       "2018-05-29    1062\n",
       "2018-06-14    1031\n",
       "Name: timestamp, dtype: int64"
      ]
     },
     "execution_count": 186,
     "metadata": {},
     "output_type": "execute_result"
    }
   ],
   "source": [
    "check_out_per_date = eventos_check_out.timestamp.dt.date.value_counts()\n",
    "check_out_per_date.head()"
   ]
  },
  {
   "cell_type": "code",
   "execution_count": 188,
   "metadata": {},
   "outputs": [
    {
     "data": {
      "image/png": "[encoded data removed]",
      "text/plain": [
       "<matplotlib.figure.Figure at 0x7f7b25166940>"
      ]
     },
     "metadata": {},
     "output_type": "display_data"
    }
   ],
   "source": [
    "g = plt.hist(x = check_out_per_date.index, weights = check_out_per_date.values)"
   ]
  },
  {
   "cell_type": "markdown",
   "metadata": {},
   "source": [
    "## Checkouts por mes"
   ]
  },
  {
   "cell_type": "code",
   "execution_count": 62,
   "metadata": {},
   "outputs": [
    {
     "data": {
      "text/plain": [
       "5    15645\n",
       "6    13967\n",
       "4     1965\n",
       "3     1386\n",
       "2      441\n",
       "1      331\n",
       "Name: month, dtype: int64"
      ]
     },
     "execution_count": 62,
     "metadata": {},
     "output_type": "execute_result"
    }
   ],
   "source": [
    "check_out_per_month = eventos_check_out.month.value_counts()\n",
    "check_out_per_month"
   ]
  },
  {
   "cell_type": "code",
   "execution_count": 63,
   "metadata": {},
   "outputs": [
    {
     "data": {
      "text/plain": [
       "<matplotlib.text.Text at 0x7f29f0453c88>"
      ]
     },
     "execution_count": 63,
     "metadata": {},
     "output_type": "execute_result"
    },
    {
     "data": {
      "image/png": "[encoded data removed]",
      "text/plain": [
       "<matplotlib.figure.Figure at 0x7f29f04c45f8>"
      ]
     },
     "metadata": {},
     "output_type": "display_data"
    }
   ],
   "source": [
    "g = sns.barplot(x=check_out_per_month.values, y=check_out_per_month.index, orient='h')\n",
    "g.set_title(\"Checkout per month\", fontsize=15)\n",
    "g.set_xlabel(\"Number of checkout\", fontsize=12)\n",
    "g.set_ylabel(\"Month\", fontsize=12)"
   ]
  },
  {
   "cell_type": "markdown",
   "metadata": {},
   "source": [
    "## Checkouts según día de la semana y hora"
   ]
  },
  {
   "cell_type": "code",
   "execution_count": 64,
   "metadata": {},
   "outputs": [
    {
     "data": {
      "text/html": [
       "<div>\n",
       "<style scoped>\n",
       "    .dataframe tbody tr th:only-of-type {\n",
       "        vertical-align: middle;\n",
       "    }\n",
       "\n",
       "    .dataframe tbody tr th {\n",
       "        vertical-align: top;\n",
       "    }\n",
       "\n",
       "    .dataframe thead th {\n",
       "        text-align: right;\n",
       "    }\n",
       "</style>\n",
       "<table border=\"1\" class=\"dataframe\">\n",
       "  <thead>\n",
       "    <tr style=\"text-align: right;\">\n",
       "      <th>weekday</th>\n",
       "      <th>Friday</th>\n",
       "      <th>Monday</th>\n",
       "      <th>Saturday</th>\n",
       "      <th>Sunday</th>\n",
       "      <th>Thursday</th>\n",
       "      <th>Tuesday</th>\n",
       "      <th>Wednesday</th>\n",
       "    </tr>\n",
       "    <tr>\n",
       "      <th>hour</th>\n",
       "      <th></th>\n",
       "      <th></th>\n",
       "      <th></th>\n",
       "      <th></th>\n",
       "      <th></th>\n",
       "      <th></th>\n",
       "      <th></th>\n",
       "    </tr>\n",
       "  </thead>\n",
       "  <tbody>\n",
       "    <tr>\n",
       "      <th>0</th>\n",
       "      <td>333</td>\n",
       "      <td>218</td>\n",
       "      <td>266</td>\n",
       "      <td>186</td>\n",
       "      <td>333</td>\n",
       "      <td>373</td>\n",
       "      <td>326</td>\n",
       "    </tr>\n",
       "    <tr>\n",
       "      <th>1</th>\n",
       "      <td>295</td>\n",
       "      <td>181</td>\n",
       "      <td>238</td>\n",
       "      <td>186</td>\n",
       "      <td>327</td>\n",
       "      <td>359</td>\n",
       "      <td>338</td>\n",
       "    </tr>\n",
       "    <tr>\n",
       "      <th>2</th>\n",
       "      <td>233</td>\n",
       "      <td>164</td>\n",
       "      <td>192</td>\n",
       "      <td>162</td>\n",
       "      <td>271</td>\n",
       "      <td>296</td>\n",
       "      <td>231</td>\n",
       "    </tr>\n",
       "    <tr>\n",
       "      <th>3</th>\n",
       "      <td>179</td>\n",
       "      <td>86</td>\n",
       "      <td>145</td>\n",
       "      <td>123</td>\n",
       "      <td>159</td>\n",
       "      <td>181</td>\n",
       "      <td>175</td>\n",
       "    </tr>\n",
       "    <tr>\n",
       "      <th>4</th>\n",
       "      <td>107</td>\n",
       "      <td>60</td>\n",
       "      <td>72</td>\n",
       "      <td>80</td>\n",
       "      <td>103</td>\n",
       "      <td>101</td>\n",
       "      <td>102</td>\n",
       "    </tr>\n",
       "    <tr>\n",
       "      <th>5</th>\n",
       "      <td>47</td>\n",
       "      <td>44</td>\n",
       "      <td>61</td>\n",
       "      <td>50</td>\n",
       "      <td>47</td>\n",
       "      <td>64</td>\n",
       "      <td>49</td>\n",
       "    </tr>\n",
       "    <tr>\n",
       "      <th>6</th>\n",
       "      <td>46</td>\n",
       "      <td>24</td>\n",
       "      <td>21</td>\n",
       "      <td>27</td>\n",
       "      <td>38</td>\n",
       "      <td>31</td>\n",
       "      <td>41</td>\n",
       "    </tr>\n",
       "    <tr>\n",
       "      <th>7</th>\n",
       "      <td>25</td>\n",
       "      <td>16</td>\n",
       "      <td>19</td>\n",
       "      <td>24</td>\n",
       "      <td>25</td>\n",
       "      <td>27</td>\n",
       "      <td>17</td>\n",
       "    </tr>\n",
       "    <tr>\n",
       "      <th>8</th>\n",
       "      <td>23</td>\n",
       "      <td>15</td>\n",
       "      <td>19</td>\n",
       "      <td>28</td>\n",
       "      <td>27</td>\n",
       "      <td>25</td>\n",
       "      <td>30</td>\n",
       "    </tr>\n",
       "    <tr>\n",
       "      <th>9</th>\n",
       "      <td>44</td>\n",
       "      <td>26</td>\n",
       "      <td>37</td>\n",
       "      <td>26</td>\n",
       "      <td>44</td>\n",
       "      <td>39</td>\n",
       "      <td>48</td>\n",
       "    </tr>\n",
       "    <tr>\n",
       "      <th>10</th>\n",
       "      <td>98</td>\n",
       "      <td>48</td>\n",
       "      <td>55</td>\n",
       "      <td>44</td>\n",
       "      <td>85</td>\n",
       "      <td>93</td>\n",
       "      <td>100</td>\n",
       "    </tr>\n",
       "    <tr>\n",
       "      <th>11</th>\n",
       "      <td>178</td>\n",
       "      <td>118</td>\n",
       "      <td>94</td>\n",
       "      <td>76</td>\n",
       "      <td>157</td>\n",
       "      <td>216</td>\n",
       "      <td>196</td>\n",
       "    </tr>\n",
       "    <tr>\n",
       "      <th>12</th>\n",
       "      <td>252</td>\n",
       "      <td>211</td>\n",
       "      <td>161</td>\n",
       "      <td>98</td>\n",
       "      <td>260</td>\n",
       "      <td>273</td>\n",
       "      <td>289</td>\n",
       "    </tr>\n",
       "    <tr>\n",
       "      <th>13</th>\n",
       "      <td>292</td>\n",
       "      <td>281</td>\n",
       "      <td>200</td>\n",
       "      <td>152</td>\n",
       "      <td>345</td>\n",
       "      <td>337</td>\n",
       "      <td>337</td>\n",
       "    </tr>\n",
       "    <tr>\n",
       "      <th>14</th>\n",
       "      <td>328</td>\n",
       "      <td>293</td>\n",
       "      <td>223</td>\n",
       "      <td>199</td>\n",
       "      <td>312</td>\n",
       "      <td>367</td>\n",
       "      <td>374</td>\n",
       "    </tr>\n",
       "    <tr>\n",
       "      <th>15</th>\n",
       "      <td>312</td>\n",
       "      <td>283</td>\n",
       "      <td>204</td>\n",
       "      <td>201</td>\n",
       "      <td>324</td>\n",
       "      <td>342</td>\n",
       "      <td>352</td>\n",
       "    </tr>\n",
       "    <tr>\n",
       "      <th>16</th>\n",
       "      <td>347</td>\n",
       "      <td>297</td>\n",
       "      <td>177</td>\n",
       "      <td>182</td>\n",
       "      <td>288</td>\n",
       "      <td>373</td>\n",
       "      <td>408</td>\n",
       "    </tr>\n",
       "    <tr>\n",
       "      <th>17</th>\n",
       "      <td>343</td>\n",
       "      <td>289</td>\n",
       "      <td>221</td>\n",
       "      <td>200</td>\n",
       "      <td>353</td>\n",
       "      <td>375</td>\n",
       "      <td>359</td>\n",
       "    </tr>\n",
       "    <tr>\n",
       "      <th>18</th>\n",
       "      <td>298</td>\n",
       "      <td>334</td>\n",
       "      <td>180</td>\n",
       "      <td>170</td>\n",
       "      <td>346</td>\n",
       "      <td>318</td>\n",
       "      <td>327</td>\n",
       "    </tr>\n",
       "    <tr>\n",
       "      <th>19</th>\n",
       "      <td>306</td>\n",
       "      <td>353</td>\n",
       "      <td>193</td>\n",
       "      <td>187</td>\n",
       "      <td>346</td>\n",
       "      <td>354</td>\n",
       "      <td>344</td>\n",
       "    </tr>\n",
       "    <tr>\n",
       "      <th>20</th>\n",
       "      <td>282</td>\n",
       "      <td>309</td>\n",
       "      <td>179</td>\n",
       "      <td>167</td>\n",
       "      <td>310</td>\n",
       "      <td>317</td>\n",
       "      <td>344</td>\n",
       "    </tr>\n",
       "    <tr>\n",
       "      <th>21</th>\n",
       "      <td>274</td>\n",
       "      <td>313</td>\n",
       "      <td>157</td>\n",
       "      <td>183</td>\n",
       "      <td>329</td>\n",
       "      <td>327</td>\n",
       "      <td>307</td>\n",
       "    </tr>\n",
       "    <tr>\n",
       "      <th>22</th>\n",
       "      <td>292</td>\n",
       "      <td>328</td>\n",
       "      <td>174</td>\n",
       "      <td>188</td>\n",
       "      <td>343</td>\n",
       "      <td>362</td>\n",
       "      <td>322</td>\n",
       "    </tr>\n",
       "    <tr>\n",
       "      <th>23</th>\n",
       "      <td>310</td>\n",
       "      <td>330</td>\n",
       "      <td>186</td>\n",
       "      <td>198</td>\n",
       "      <td>387</td>\n",
       "      <td>378</td>\n",
       "      <td>356</td>\n",
       "    </tr>\n",
       "  </tbody>\n",
       "</table>\n",
       "</div>"
      ],
      "text/plain": [
       "weekday  Friday  Monday  Saturday  Sunday  Thursday  Tuesday  Wednesday\n",
       "hour                                                                   \n",
       "0           333     218       266     186       333      373        326\n",
       "1           295     181       238     186       327      359        338\n",
       "2           233     164       192     162       271      296        231\n",
       "3           179      86       145     123       159      181        175\n",
       "4           107      60        72      80       103      101        102\n",
       "5            47      44        61      50        47       64         49\n",
       "6            46      24        21      27        38       31         41\n",
       "7            25      16        19      24        25       27         17\n",
       "8            23      15        19      28        27       25         30\n",
       "9            44      26        37      26        44       39         48\n",
       "10           98      48        55      44        85       93        100\n",
       "11          178     118        94      76       157      216        196\n",
       "12          252     211       161      98       260      273        289\n",
       "13          292     281       200     152       345      337        337\n",
       "14          328     293       223     199       312      367        374\n",
       "15          312     283       204     201       324      342        352\n",
       "16          347     297       177     182       288      373        408\n",
       "17          343     289       221     200       353      375        359\n",
       "18          298     334       180     170       346      318        327\n",
       "19          306     353       193     187       346      354        344\n",
       "20          282     309       179     167       310      317        344\n",
       "21          274     313       157     183       329      327        307\n",
       "22          292     328       174     188       343      362        322\n",
       "23          310     330       186     198       387      378        356"
      ]
     },
     "execution_count": 64,
     "metadata": {},
     "output_type": "execute_result"
    }
   ],
   "source": [
    "table = eventos_check_out.pivot_table(index = 'hour', columns = 'weekday', values = 'day', aggfunc = 'count')\n",
    "table"
   ]
  },
  {
   "cell_type": "code",
   "execution_count": 65,
   "metadata": {},
   "outputs": [
    {
     "data": {
      "text/plain": [
       "<matplotlib.text.Text at 0x7f29f03e6518>"
      ]
     },
     "execution_count": 65,
     "metadata": {},
     "output_type": "execute_result"
    },
    {
     "data": {
      "image/png": "[encoded data removed]",
      "text/plain": [
       "<matplotlib.figure.Figure at 0x7f29f0446978>"
      ]
     },
     "metadata": {},
     "output_type": "display_data"
    }
   ],
   "source": [
    "g = sns.heatmap(table,  cmap=\"YlGnBu\")\n",
    "g.set_title(\"Eventos de checkout por día de la semana y hora\", fontsize=22)\n",
    "g.set_xlabel(\"Día de la semana\",fontsize=18)\n",
    "g.set_ylabel(\"Hora del día\", fontsize=18)"
   ]
  },
  {
   "cell_type": "markdown",
   "metadata": {},
   "source": [
    "# Viewed product"
   ]
  },
  {
   "cell_type": "code",
   "execution_count": 157,
   "metadata": {},
   "outputs": [
    {
     "data": {
      "text/html": [
       "<div>\n",
       "<style scoped>\n",
       "    .dataframe tbody tr th:only-of-type {\n",
       "        vertical-align: middle;\n",
       "    }\n",
       "\n",
       "    .dataframe tbody tr th {\n",
       "        vertical-align: top;\n",
       "    }\n",
       "\n",
       "    .dataframe thead th {\n",
       "        text-align: right;\n",
       "    }\n",
       "</style>\n",
       "<table border=\"1\" class=\"dataframe\">\n",
       "  <thead>\n",
       "    <tr style=\"text-align: right;\">\n",
       "      <th></th>\n",
       "      <th>timestamp</th>\n",
       "      <th>event</th>\n",
       "      <th>person</th>\n",
       "      <th>url</th>\n",
       "      <th>sku</th>\n",
       "      <th>model</th>\n",
       "      <th>condition</th>\n",
       "      <th>storage</th>\n",
       "      <th>color</th>\n",
       "      <th>skus</th>\n",
       "      <th>...</th>\n",
       "      <th>device_type</th>\n",
       "      <th>screen_resolution</th>\n",
       "      <th>operating_system_version</th>\n",
       "      <th>browser_version</th>\n",
       "      <th>year</th>\n",
       "      <th>month</th>\n",
       "      <th>day</th>\n",
       "      <th>weekday</th>\n",
       "      <th>hour</th>\n",
       "      <th>dia_semana</th>\n",
       "    </tr>\n",
       "  </thead>\n",
       "  <tbody>\n",
       "    <tr>\n",
       "      <th>2</th>\n",
       "      <td>2018-05-31 23:38:09</td>\n",
       "      <td>viewed product</td>\n",
       "      <td>0004b0a2</td>\n",
       "      <td>NaN</td>\n",
       "      <td>2694.0</td>\n",
       "      <td>iPhone 5s</td>\n",
       "      <td>Bom</td>\n",
       "      <td>32GB</td>\n",
       "      <td>Cinza espacial</td>\n",
       "      <td>NaN</td>\n",
       "      <td>...</td>\n",
       "      <td>NaN</td>\n",
       "      <td>NaN</td>\n",
       "      <td>NaN</td>\n",
       "      <td>NaN</td>\n",
       "      <td>2018</td>\n",
       "      <td>5</td>\n",
       "      <td>31</td>\n",
       "      <td>Thursday</td>\n",
       "      <td>23</td>\n",
       "      <td>Miércoles</td>\n",
       "    </tr>\n",
       "    <tr>\n",
       "      <th>4</th>\n",
       "      <td>2018-05-29 13:29:25</td>\n",
       "      <td>viewed product</td>\n",
       "      <td>0006a21a</td>\n",
       "      <td>NaN</td>\n",
       "      <td>15338.0</td>\n",
       "      <td>Samsung Galaxy S8</td>\n",
       "      <td>Bom</td>\n",
       "      <td>64GB</td>\n",
       "      <td>Dourado</td>\n",
       "      <td>NaN</td>\n",
       "      <td>...</td>\n",
       "      <td>NaN</td>\n",
       "      <td>NaN</td>\n",
       "      <td>NaN</td>\n",
       "      <td>NaN</td>\n",
       "      <td>2018</td>\n",
       "      <td>5</td>\n",
       "      <td>29</td>\n",
       "      <td>Tuesday</td>\n",
       "      <td>13</td>\n",
       "      <td>Lunes</td>\n",
       "    </tr>\n",
       "    <tr>\n",
       "      <th>13</th>\n",
       "      <td>2018-04-09 20:13:14</td>\n",
       "      <td>viewed product</td>\n",
       "      <td>000a54b2</td>\n",
       "      <td>NaN</td>\n",
       "      <td>12661.0</td>\n",
       "      <td>Motorola Moto Z Play</td>\n",
       "      <td>Muito Bom</td>\n",
       "      <td>32GB</td>\n",
       "      <td>Preto</td>\n",
       "      <td>NaN</td>\n",
       "      <td>...</td>\n",
       "      <td>NaN</td>\n",
       "      <td>NaN</td>\n",
       "      <td>NaN</td>\n",
       "      <td>NaN</td>\n",
       "      <td>2018</td>\n",
       "      <td>4</td>\n",
       "      <td>9</td>\n",
       "      <td>Monday</td>\n",
       "      <td>20</td>\n",
       "      <td>Domingo</td>\n",
       "    </tr>\n",
       "    <tr>\n",
       "      <th>22</th>\n",
       "      <td>2018-05-24 11:27:47</td>\n",
       "      <td>viewed product</td>\n",
       "      <td>000a54b2</td>\n",
       "      <td>NaN</td>\n",
       "      <td>10254.0</td>\n",
       "      <td>iPhone 7 Plus</td>\n",
       "      <td>Excelente</td>\n",
       "      <td>256GB</td>\n",
       "      <td>Dourado</td>\n",
       "      <td>NaN</td>\n",
       "      <td>...</td>\n",
       "      <td>NaN</td>\n",
       "      <td>NaN</td>\n",
       "      <td>NaN</td>\n",
       "      <td>NaN</td>\n",
       "      <td>2018</td>\n",
       "      <td>5</td>\n",
       "      <td>24</td>\n",
       "      <td>Thursday</td>\n",
       "      <td>11</td>\n",
       "      <td>Miércoles</td>\n",
       "    </tr>\n",
       "    <tr>\n",
       "      <th>26</th>\n",
       "      <td>2018-05-24 11:28:59</td>\n",
       "      <td>viewed product</td>\n",
       "      <td>000a54b2</td>\n",
       "      <td>NaN</td>\n",
       "      <td>6581.0</td>\n",
       "      <td>iPhone 6S</td>\n",
       "      <td>Bom</td>\n",
       "      <td>16GB</td>\n",
       "      <td>Cinza espacial</td>\n",
       "      <td>NaN</td>\n",
       "      <td>...</td>\n",
       "      <td>NaN</td>\n",
       "      <td>NaN</td>\n",
       "      <td>NaN</td>\n",
       "      <td>NaN</td>\n",
       "      <td>2018</td>\n",
       "      <td>5</td>\n",
       "      <td>24</td>\n",
       "      <td>Thursday</td>\n",
       "      <td>11</td>\n",
       "      <td>Miércoles</td>\n",
       "    </tr>\n",
       "  </tbody>\n",
       "</table>\n",
       "<p>5 rows × 29 columns</p>\n",
       "</div>"
      ],
      "text/plain": [
       "             timestamp           event    person  url      sku  \\\n",
       "2  2018-05-31 23:38:09  viewed product  0004b0a2  NaN   2694.0   \n",
       "4  2018-05-29 13:29:25  viewed product  0006a21a  NaN  15338.0   \n",
       "13 2018-04-09 20:13:14  viewed product  000a54b2  NaN  12661.0   \n",
       "22 2018-05-24 11:27:47  viewed product  000a54b2  NaN  10254.0   \n",
       "26 2018-05-24 11:28:59  viewed product  000a54b2  NaN   6581.0   \n",
       "\n",
       "                   model  condition storage           color skus    ...      \\\n",
       "2              iPhone 5s        Bom    32GB  Cinza espacial  NaN    ...       \n",
       "4      Samsung Galaxy S8        Bom    64GB         Dourado  NaN    ...       \n",
       "13  Motorola Moto Z Play  Muito Bom    32GB           Preto  NaN    ...       \n",
       "22         iPhone 7 Plus  Excelente   256GB         Dourado  NaN    ...       \n",
       "26             iPhone 6S        Bom    16GB  Cinza espacial  NaN    ...       \n",
       "\n",
       "   device_type screen_resolution operating_system_version browser_version  \\\n",
       "2          NaN               NaN                      NaN             NaN   \n",
       "4          NaN               NaN                      NaN             NaN   \n",
       "13         NaN               NaN                      NaN             NaN   \n",
       "22         NaN               NaN                      NaN             NaN   \n",
       "26         NaN               NaN                      NaN             NaN   \n",
       "\n",
       "    year month day   weekday hour dia_semana  \n",
       "2   2018     5  31  Thursday   23  Miércoles  \n",
       "4   2018     5  29   Tuesday   13      Lunes  \n",
       "13  2018     4   9    Monday   20    Domingo  \n",
       "22  2018     5  24  Thursday   11  Miércoles  \n",
       "26  2018     5  24  Thursday   11  Miércoles  \n",
       "\n",
       "[5 rows x 29 columns]"
      ]
     },
     "execution_count": 157,
     "metadata": {},
     "output_type": "execute_result"
    }
   ],
   "source": [
    "eventos_viewed_product = eventos_raw.loc[eventos_raw.event == 'viewed product']\n",
    "eventos_viewed_product.head()"
   ]
  },
  {
   "cell_type": "code",
   "execution_count": 67,
   "metadata": {},
   "outputs": [
    {
     "data": {
      "text/plain": [
       "iPhone 6                  47538\n",
       "iPhone 5s                 42045\n",
       "iPhone 6S                 36930\n",
       "iPhone 7                  26330\n",
       "Samsung Galaxy S7 Edge    23062\n",
       "Samsung Galaxy S7         18085\n",
       "iPhone 7 Plus             17853\n",
       "iPhone SE                 15874\n",
       "Samsung Galaxy S8         15868\n",
       "iPhone 6S Plus            12250\n",
       "Name: model, dtype: int64"
      ]
     },
     "execution_count": 67,
     "metadata": {},
     "output_type": "execute_result"
    }
   ],
   "source": [
    "viewed_product_per_model = eventos_viewed_product.model.value_counts().head(10)\n",
    "viewed_product_per_model"
   ]
  },
  {
   "cell_type": "code",
   "execution_count": 68,
   "metadata": {},
   "outputs": [
    {
     "data": {
      "text/plain": [
       "<matplotlib.text.Text at 0x7f29f062ceb8>"
      ]
     },
     "execution_count": 68,
     "metadata": {},
     "output_type": "execute_result"
    },
    {
     "data": {
      "image/png": "[encoded data removed]",
      "text/plain": [
       "<matplotlib.figure.Figure at 0x7f29f03186d8>"
      ]
     },
     "metadata": {},
     "output_type": "display_data"
    }
   ],
   "source": [
    "g = sns.barplot(x=viewed_product_per_model.values, y=viewed_product_per_model.index, orient='h')\n",
    "g.set_title(\"Viewed product per model (10 best)\", fontsize=15)\n",
    "g.set_xlabel(\"Number of viewed\", fontsize=12)\n",
    "g.set_ylabel(\"Model\", fontsize=12)"
   ]
  },
  {
   "cell_type": "markdown",
   "metadata": {},
   "source": [
    "- [ ] TODO: hacer un scatter plot superponiendo el gráfico de compras por modelo y de vistas por modelo.\n",
    "            Habría que pensar en que en ambos aparecen modelos diferentes (tal vez)."
   ]
  },
  {
   "cell_type": "markdown",
   "metadata": {},
   "source": [
    "- Quiero ver por device type y persona cuantas veces se tiene el evento viewed_product.\n",
    "  Contar cuantas veces por persona para sacar un promedio de cuantos de esos eventos se\n",
    "  tienen para cada tipo de dispositivo desde donde se ve."
   ]
  },
  {
   "cell_type": "code",
   "execution_count": 69,
   "metadata": {},
   "outputs": [],
   "source": [
    "#eventos_raw['computer'] = eventos_raw.device_type == 'Computer'\n",
    "#eventos_raw['smartphone'] = eventos_raw.device_type == 'Smartphone'"
   ]
  },
  {
   "cell_type": "code",
   "execution_count": 70,
   "metadata": {},
   "outputs": [
    {
     "data": {
      "text/plain": [
       "event         person    device_type\n",
       "visited site  0004b0a2  Smartphone      1\n",
       "              0006a21a  Smartphone      1\n",
       "              000a54b2  Computer        2\n",
       "              00184bf9  Computer        2\n",
       "              0019c395  Smartphone      1\n",
       "              001bb7eb  Computer        2\n",
       "              001f1653  Smartphone      1\n",
       "              00204059  Computer       12\n",
       "              0024a82b  Computer        1\n",
       "              0024ad28  Computer        3\n",
       "              00269e77  Smartphone      4\n",
       "              0026fd72  Computer        2\n",
       "              0027c344  Computer        3\n",
       "              00283a9e  Smartphone      2\n",
       "              002932b1  Smartphone      4\n",
       "              002cecfa  Computer        1\n",
       "              00300ace  Computer        2\n",
       "              00344c0a  Computer        1\n",
       "              003857f6  Computer        7\n",
       "              003f561a  Smartphone      2\n",
       "              003ff6cd  Computer        3\n",
       "              00420f4e  Smartphone      4\n",
       "              0047c5c6  Computer        1\n",
       "              004bd8f4  Smartphone      2\n",
       "              004e765d  Computer        7\n",
       "              00518ebd  Smartphone      1\n",
       "              0052ea09  Smartphone      1\n",
       "              005cb86a  Smartphone      1\n",
       "              005d0de1  Smartphone      1\n",
       "              005e6716  Smartphone      1\n",
       "                                       ..\n",
       "              ffbae174  Computer        1\n",
       "              ffc0fa7a  Smartphone      1\n",
       "              ffc42079  Smartphone      1\n",
       "              ffcfcbf4  Computer        2\n",
       "              ffcfd168  Smartphone      1\n",
       "              ffd0be6e  Computer        1\n",
       "              ffd33f13  Smartphone      1\n",
       "              ffd85102  Smartphone      2\n",
       "              ffd9b5f9  Computer        1\n",
       "              ffd9e195  Smartphone      2\n",
       "              ffdcf469  Computer        1\n",
       "              ffe006ea  Computer        2\n",
       "                        Smartphone      2\n",
       "              ffe129fe  Smartphone      1\n",
       "              ffe1bfe7  Computer        2\n",
       "              ffe1f855  Computer        1\n",
       "              ffe226f0  Computer        1\n",
       "              ffe741db  Computer        1\n",
       "              ffeaaa70  Computer        3\n",
       "              ffeb3a03  Computer        2\n",
       "              ffef9da6  Computer        1\n",
       "              fff0e00c  Computer        4\n",
       "              fff225f8  Smartphone      1\n",
       "              fff229f7  Computer        2\n",
       "              fff568f7  Computer        3\n",
       "              fff60213  Smartphone      1\n",
       "              fff99b85  Computer        1\n",
       "              ffff8106  Tablet          1\n",
       "              ffffa8d1  Computer        4\n",
       "              ffffac8a  Smartphone      1\n",
       "Name: hour, Length: 27562, dtype: int64"
      ]
     },
     "execution_count": 70,
     "metadata": {},
     "output_type": "execute_result"
    }
   ],
   "source": [
    "eventos_raw.groupby(['event','person' , 'device_type']).hour.count()"
   ]
  },
  {
   "cell_type": "code",
   "execution_count": 71,
   "metadata": {},
   "outputs": [
    {
     "data": {
      "text/plain": [
       "person    event              hour\n",
       "0004b0a2  ad campaign hit    23       1\n",
       "          checkout           23       1\n",
       "          viewed product     23       1\n",
       "          visited site       23       1\n",
       "0006a21a  ad campaign hit    13       1\n",
       "          checkout           13       1\n",
       "          viewed product     13       1\n",
       "          visited site       13       1\n",
       "000a54b2  ad campaign hit    11       1\n",
       "                             20       1\n",
       "          brand listing      11       4\n",
       "                             20       2\n",
       "          checkout           11       1\n",
       "          generic listing    11       4\n",
       "                             20       1\n",
       "          search engine hit  11       1\n",
       "                             20       1\n",
       "          viewed product     11      18\n",
       "                             20       1\n",
       "          visited site       11       1\n",
       "                             20       1\n",
       "00184bf9  brand listing      5        5\n",
       "                             18       2\n",
       "          checkout           5        2\n",
       "                             4        1\n",
       "                             18       1\n",
       "          search engine hit  5        2\n",
       "          viewed product     5       32\n",
       "                             18       4\n",
       "          visited site       5        1\n",
       "                                     ..\n",
       "ffff8106  checkout           18       1\n",
       "          generic listing    18       1\n",
       "          search engine hit  18       1\n",
       "          viewed product     18       3\n",
       "          visited site       18       1\n",
       "ffffa8d1  ad campaign hit    0        1\n",
       "                             12       1\n",
       "                             13       1\n",
       "          checkout           12       1\n",
       "          generic listing    0        1\n",
       "                             12       1\n",
       "                             13       1\n",
       "                             15       1\n",
       "          search engine hit  0        1\n",
       "                             12       1\n",
       "                             13       1\n",
       "          searched products  12       1\n",
       "                             13       1\n",
       "          viewed product     15      10\n",
       "                             0        5\n",
       "                             12       2\n",
       "                             13       2\n",
       "          visited site       0        1\n",
       "                             12       1\n",
       "                             13       1\n",
       "                             15       1\n",
       "ffffac8a  ad campaign hit    23       1\n",
       "          checkout           23       1\n",
       "          viewed product     23       1\n",
       "          visited site       23       1\n",
       "Name: hour, Length: 301292, dtype: int64"
      ]
     },
     "execution_count": 71,
     "metadata": {},
     "output_type": "execute_result"
    }
   ],
   "source": [
    "eventos_raw.groupby(['person','event']).hour.value_counts()"
   ]
  },
  {
   "cell_type": "code",
   "execution_count": 72,
   "metadata": {},
   "outputs": [
    {
     "data": {
      "text/plain": [
       "Index(['timestamp', 'event', 'person', 'url', 'sku', 'model', 'condition',\n",
       "       'storage', 'color', 'skus', 'search_term', 'staticpage',\n",
       "       'campaign_source', 'search_engine', 'channel', 'new_vs_returning',\n",
       "       'city', 'region', 'country', 'device_type', 'screen_resolution',\n",
       "       'operating_system_version', 'browser_version', 'year', 'month', 'day',\n",
       "       'weekday', 'hour'],\n",
       "      dtype='object')"
      ]
     },
     "execution_count": 72,
     "metadata": {},
     "output_type": "execute_result"
    }
   ],
   "source": [
    "eventos_raw.columns"
   ]
  },
  {
   "cell_type": "code",
   "execution_count": 73,
   "metadata": {},
   "outputs": [
    {
     "data": {
      "text/plain": [
       "Paid        44193\n",
       "Direct      18522\n",
       "Organic     12348\n",
       "Referral    11384\n",
       "Social        846\n",
       "Email          76\n",
       "Unknown         9\n",
       "Name: channel, dtype: int64"
      ]
     },
     "execution_count": 73,
     "metadata": {},
     "output_type": "execute_result"
    }
   ],
   "source": [
    "channels = eventos_raw.channel.value_counts()\n",
    "channels"
   ]
  },
  {
   "cell_type": "code",
   "execution_count": 74,
   "metadata": {},
   "outputs": [
    {
     "data": {
      "text/plain": [
       "Paid                       0.51\n",
       "Direct                     0.21\n",
       "Organic                    0.14\n",
       "Referral                   0.13\n",
       "Social                     0.01\n",
       "Email                      0.00\n",
       "Unknown                    0.00\n",
       "Name: channel, dtype: float64"
      ]
     },
     "execution_count": 74,
     "metadata": {},
     "output_type": "execute_result"
    }
   ],
   "source": [
    "eventos_raw.channel.value_counts(normalize = True)"
   ]
  },
  {
   "cell_type": "code",
   "execution_count": 75,
   "metadata": {},
   "outputs": [
    {
     "data": {
      "text/plain": [
       "<matplotlib.text.Text at 0x7f29ea57aa20>"
      ]
     },
     "execution_count": 75,
     "metadata": {},
     "output_type": "execute_result"
    },
    {
     "data": {
      "image/png": "[encoded data removed]",
      "text/plain": [
       "<matplotlib.figure.Figure at 0x7f29ea56d7b8>"
      ]
     },
     "metadata": {},
     "output_type": "display_data"
    }
   ],
   "source": [
    "g = sns.barplot(x=channels.values, y=channels.index, orient='h')\n",
    "g.set_title(\"Types of channels\", fontsize=15)\n",
    "g.set_xlabel(\"Cantidad\", fontsize=12)\n",
    "g.set_ylabel(\"Channel\", fontsize=12)"
   ]
  },
  {
   "cell_type": "markdown",
   "metadata": {},
   "source": [
    "- Casi la mitad de los channels vienen de paid (campaña paga)."
   ]
  },
  {
   "cell_type": "code",
   "execution_count": 76,
   "metadata": {},
   "outputs": [
    {
     "name": "stdout",
     "output_type": "stream",
     "text": [
      "<class 'pandas.core.frame.DataFrame'>\n",
      "Int64Index: 448 entries, 3248 to 1003073\n",
      "Data columns (total 28 columns):\n",
      "timestamp                   448 non-null datetime64[ns]\n",
      "event                       448 non-null object\n",
      "person                      448 non-null object\n",
      "url                         0 non-null object\n",
      "sku                         0 non-null object\n",
      "model                       448 non-null object\n",
      "condition                   0 non-null object\n",
      "storage                     0 non-null object\n",
      "color                       0 non-null object\n",
      "skus                        0 non-null object\n",
      "search_term                 0 non-null object\n",
      "staticpage                  0 non-null object\n",
      "campaign_source             0 non-null object\n",
      "search_engine               0 non-null object\n",
      "channel                     0 non-null object\n",
      "new_vs_returning            0 non-null object\n",
      "city                        0 non-null object\n",
      "region                      0 non-null object\n",
      "country                     0 non-null object\n",
      "device_type                 0 non-null object\n",
      "screen_resolution           0 non-null object\n",
      "operating_system_version    0 non-null object\n",
      "browser_version             0 non-null object\n",
      "year                        448 non-null int64\n",
      "month                       448 non-null int64\n",
      "day                         448 non-null int64\n",
      "weekday                     448 non-null object\n",
      "hour                        448 non-null int64\n",
      "dtypes: datetime64[ns](1), int64(4), object(23)\n",
      "memory usage: 101.5+ KB\n"
     ]
    }
   ],
   "source": [
    "eventos_lead = eventos_raw.loc[eventos_raw.event == 'lead']\n",
    "eventos_lead.info()"
   ]
  },
  {
   "cell_type": "code",
   "execution_count": 77,
   "metadata": {},
   "outputs": [
    {
     "data": {
      "text/plain": [
       "iPhone 6 Plus                 35\n",
       "iPhone 6S Plus                31\n",
       "Samsung Galaxy J7 Prime       26\n",
       "iPhone 6S                     21\n",
       "Motorola Moto G4 Plus         20\n",
       "iPhone 8                      20\n",
       "Motorola Moto G5 Plus         15\n",
       "Samsung Galaxy A9 Pro 2016    15\n",
       "Samsung Galaxy On 7           15\n",
       "LG K10 Novo                   12\n",
       "Name: model, dtype: int64"
      ]
     },
     "execution_count": 77,
     "metadata": {},
     "output_type": "execute_result"
    }
   ],
   "source": [
    "lead_per_model = eventos_lead.model.value_counts().head(10)\n",
    "lead_per_model"
   ]
  },
  {
   "cell_type": "code",
   "execution_count": 78,
   "metadata": {},
   "outputs": [
    {
     "data": {
      "text/plain": [
       "<matplotlib.text.Text at 0x7f29ea51d208>"
      ]
     },
     "execution_count": 78,
     "metadata": {},
     "output_type": "execute_result"
    },
    {
     "data": {
      "image/png": "[encoded data removed]",
      "text/plain": [
       "<matplotlib.figure.Figure at 0x7f29f032e8d0>"
      ]
     },
     "metadata": {},
     "output_type": "display_data"
    }
   ],
   "source": [
    "g = sns.barplot(x=lead_per_model.values, y=lead_per_model.index, orient='h')\n",
    "g.set_title(\"Lead per model (10 best)\", fontsize=15)\n",
    "g.set_xlabel(\"Number of lead\", fontsize=12)\n",
    "g.set_ylabel(\"Model\", fontsize=12)"
   ]
  },
  {
   "cell_type": "markdown",
   "metadata": {},
   "source": [
    "- Las conclusiones que podemos sacar de ver el evento lead no son fiables, ya que podemos llegar a comparar la\n",
    "  cantidad de leads por modelo y compararlo con la cantidad de conversiones o checkouts, para ver que tanto\n",
    "  sobrepasa la demanda a la oferta. Pero la verdad es que este dato no sabemos si tiene una concordancia\n",
    "  confiable con la realidad, ya que generalmente la mayor parte de la gente que encuentra que el \n",
    "  producto que buscó no está en la página se va a buscarlo a otros lados, no se preocupa por pedir un lead.\n",
    "- Sí se puede ver relación entre la cantidad de leads que se hacen de la cantidad de checkouts sin \n",
    "  que se efectue realmente la conversión. Aunque devuelta no confiaría mucho en lo que nos diga esto."
   ]
  },
  {
   "cell_type": "code",
   "execution_count": 79,
   "metadata": {},
   "outputs": [
    {
     "data": {
      "text/html": [
       "<div>\n",
       "<style scoped>\n",
       "    .dataframe tbody tr th:only-of-type {\n",
       "        vertical-align: middle;\n",
       "    }\n",
       "\n",
       "    .dataframe tbody tr th {\n",
       "        vertical-align: top;\n",
       "    }\n",
       "\n",
       "    .dataframe thead th {\n",
       "        text-align: right;\n",
       "    }\n",
       "</style>\n",
       "<table border=\"1\" class=\"dataframe\">\n",
       "  <thead>\n",
       "    <tr style=\"text-align: right;\">\n",
       "      <th></th>\n",
       "      <th>timestamp</th>\n",
       "      <th>event</th>\n",
       "      <th>person</th>\n",
       "      <th>url</th>\n",
       "      <th>sku</th>\n",
       "      <th>model</th>\n",
       "      <th>condition</th>\n",
       "      <th>storage</th>\n",
       "      <th>color</th>\n",
       "      <th>skus</th>\n",
       "      <th>...</th>\n",
       "      <th>country</th>\n",
       "      <th>device_type</th>\n",
       "      <th>screen_resolution</th>\n",
       "      <th>operating_system_version</th>\n",
       "      <th>browser_version</th>\n",
       "      <th>year</th>\n",
       "      <th>month</th>\n",
       "      <th>day</th>\n",
       "      <th>weekday</th>\n",
       "      <th>hour</th>\n",
       "    </tr>\n",
       "  </thead>\n",
       "  <tbody>\n",
       "    <tr>\n",
       "      <th>157</th>\n",
       "      <td>2018-02-06 02:29:49</td>\n",
       "      <td>searched products</td>\n",
       "      <td>00204059</td>\n",
       "      <td>NaN</td>\n",
       "      <td>NaN</td>\n",
       "      <td>NaN</td>\n",
       "      <td>NaN</td>\n",
       "      <td>NaN</td>\n",
       "      <td>NaN</td>\n",
       "      <td>2692,6819,823,2779,13864,2784,8135,6805,2773,2...</td>\n",
       "      <td>...</td>\n",
       "      <td>NaN</td>\n",
       "      <td>NaN</td>\n",
       "      <td>NaN</td>\n",
       "      <td>NaN</td>\n",
       "      <td>NaN</td>\n",
       "      <td>2018</td>\n",
       "      <td>2</td>\n",
       "      <td>6</td>\n",
       "      <td>Tuesday</td>\n",
       "      <td>2</td>\n",
       "    </tr>\n",
       "    <tr>\n",
       "      <th>159</th>\n",
       "      <td>2018-02-06 02:32:41</td>\n",
       "      <td>searched products</td>\n",
       "      <td>00204059</td>\n",
       "      <td>NaN</td>\n",
       "      <td>NaN</td>\n",
       "      <td>NaN</td>\n",
       "      <td>NaN</td>\n",
       "      <td>NaN</td>\n",
       "      <td>NaN</td>\n",
       "      <td>2692,6819,823,2779,13864,2784,8135,6805,2773,2...</td>\n",
       "      <td>...</td>\n",
       "      <td>NaN</td>\n",
       "      <td>NaN</td>\n",
       "      <td>NaN</td>\n",
       "      <td>NaN</td>\n",
       "      <td>NaN</td>\n",
       "      <td>2018</td>\n",
       "      <td>2</td>\n",
       "      <td>6</td>\n",
       "      <td>Tuesday</td>\n",
       "      <td>2</td>\n",
       "    </tr>\n",
       "    <tr>\n",
       "      <th>238</th>\n",
       "      <td>2018-05-21 19:56:33</td>\n",
       "      <td>searched products</td>\n",
       "      <td>0024ad28</td>\n",
       "      <td>NaN</td>\n",
       "      <td>NaN</td>\n",
       "      <td>NaN</td>\n",
       "      <td>NaN</td>\n",
       "      <td>NaN</td>\n",
       "      <td>NaN</td>\n",
       "      <td>3371,6357,6371,10896,2718,2777,6001,2694,3191,...</td>\n",
       "      <td>...</td>\n",
       "      <td>NaN</td>\n",
       "      <td>NaN</td>\n",
       "      <td>NaN</td>\n",
       "      <td>NaN</td>\n",
       "      <td>NaN</td>\n",
       "      <td>2018</td>\n",
       "      <td>5</td>\n",
       "      <td>21</td>\n",
       "      <td>Monday</td>\n",
       "      <td>19</td>\n",
       "    </tr>\n",
       "    <tr>\n",
       "      <th>239</th>\n",
       "      <td>2018-05-21 19:57:28</td>\n",
       "      <td>searched products</td>\n",
       "      <td>0024ad28</td>\n",
       "      <td>NaN</td>\n",
       "      <td>NaN</td>\n",
       "      <td>NaN</td>\n",
       "      <td>NaN</td>\n",
       "      <td>NaN</td>\n",
       "      <td>NaN</td>\n",
       "      <td>3371,6357,6371,10896,2718,2777,6001,2694,3191,...</td>\n",
       "      <td>...</td>\n",
       "      <td>NaN</td>\n",
       "      <td>NaN</td>\n",
       "      <td>NaN</td>\n",
       "      <td>NaN</td>\n",
       "      <td>NaN</td>\n",
       "      <td>2018</td>\n",
       "      <td>5</td>\n",
       "      <td>21</td>\n",
       "      <td>Monday</td>\n",
       "      <td>19</td>\n",
       "    </tr>\n",
       "    <tr>\n",
       "      <th>240</th>\n",
       "      <td>2018-05-21 19:57:49</td>\n",
       "      <td>searched products</td>\n",
       "      <td>0024ad28</td>\n",
       "      <td>NaN</td>\n",
       "      <td>NaN</td>\n",
       "      <td>NaN</td>\n",
       "      <td>NaN</td>\n",
       "      <td>NaN</td>\n",
       "      <td>NaN</td>\n",
       "      <td>3371,6357,6371,10896,2718,2777,6001,2694,3191,...</td>\n",
       "      <td>...</td>\n",
       "      <td>NaN</td>\n",
       "      <td>NaN</td>\n",
       "      <td>NaN</td>\n",
       "      <td>NaN</td>\n",
       "      <td>NaN</td>\n",
       "      <td>2018</td>\n",
       "      <td>5</td>\n",
       "      <td>21</td>\n",
       "      <td>Monday</td>\n",
       "      <td>19</td>\n",
       "    </tr>\n",
       "  </tbody>\n",
       "</table>\n",
       "<p>5 rows × 28 columns</p>\n",
       "</div>"
      ],
      "text/plain": [
       "              timestamp              event    person  url  sku model  \\\n",
       "157 2018-02-06 02:29:49  searched products  00204059  NaN  NaN   NaN   \n",
       "159 2018-02-06 02:32:41  searched products  00204059  NaN  NaN   NaN   \n",
       "238 2018-05-21 19:56:33  searched products  0024ad28  NaN  NaN   NaN   \n",
       "239 2018-05-21 19:57:28  searched products  0024ad28  NaN  NaN   NaN   \n",
       "240 2018-05-21 19:57:49  searched products  0024ad28  NaN  NaN   NaN   \n",
       "\n",
       "    condition storage color  \\\n",
       "157       NaN     NaN   NaN   \n",
       "159       NaN     NaN   NaN   \n",
       "238       NaN     NaN   NaN   \n",
       "239       NaN     NaN   NaN   \n",
       "240       NaN     NaN   NaN   \n",
       "\n",
       "                                                  skus ...  country  \\\n",
       "157  2692,6819,823,2779,13864,2784,8135,6805,2773,2... ...      NaN   \n",
       "159  2692,6819,823,2779,13864,2784,8135,6805,2773,2... ...      NaN   \n",
       "238  3371,6357,6371,10896,2718,2777,6001,2694,3191,... ...      NaN   \n",
       "239  3371,6357,6371,10896,2718,2777,6001,2694,3191,... ...      NaN   \n",
       "240  3371,6357,6371,10896,2718,2777,6001,2694,3191,... ...      NaN   \n",
       "\n",
       "    device_type screen_resolution operating_system_version browser_version  \\\n",
       "157         NaN               NaN                      NaN             NaN   \n",
       "159         NaN               NaN                      NaN             NaN   \n",
       "238         NaN               NaN                      NaN             NaN   \n",
       "239         NaN               NaN                      NaN             NaN   \n",
       "240         NaN               NaN                      NaN             NaN   \n",
       "\n",
       "     year month day  weekday hour  \n",
       "157  2018     2   6  Tuesday    2  \n",
       "159  2018     2   6  Tuesday    2  \n",
       "238  2018     5  21   Monday   19  \n",
       "239  2018     5  21   Monday   19  \n",
       "240  2018     5  21   Monday   19  \n",
       "\n",
       "[5 rows x 28 columns]"
      ]
     },
     "execution_count": 79,
     "metadata": {},
     "output_type": "execute_result"
    }
   ],
   "source": [
    "eventos_searched_products = eventos_raw.loc[eventos_raw.event == 'searched products']\n",
    "eventos_searched_products.head()"
   ]
  },
  {
   "cell_type": "code",
   "execution_count": 80,
   "metadata": {},
   "outputs": [
    {
     "name": "stdout",
     "output_type": "stream",
     "text": [
      "<class 'pandas.core.frame.DataFrame'>\n",
      "Int64Index: 56073 entries, 157 to 1011280\n",
      "Data columns (total 28 columns):\n",
      "timestamp                   56073 non-null datetime64[ns]\n",
      "event                       56073 non-null object\n",
      "person                      56073 non-null object\n",
      "url                         0 non-null object\n",
      "sku                         0 non-null object\n",
      "model                       0 non-null object\n",
      "condition                   0 non-null object\n",
      "storage                     0 non-null object\n",
      "color                       0 non-null object\n",
      "skus                        55954 non-null object\n",
      "search_term                 48967 non-null object\n",
      "staticpage                  0 non-null object\n",
      "campaign_source             0 non-null object\n",
      "search_engine               0 non-null object\n",
      "channel                     0 non-null object\n",
      "new_vs_returning            0 non-null object\n",
      "city                        0 non-null object\n",
      "region                      0 non-null object\n",
      "country                     0 non-null object\n",
      "device_type                 0 non-null object\n",
      "screen_resolution           0 non-null object\n",
      "operating_system_version    0 non-null object\n",
      "browser_version             0 non-null object\n",
      "year                        56073 non-null int64\n",
      "month                       56073 non-null int64\n",
      "day                         56073 non-null int64\n",
      "weekday                     56073 non-null object\n",
      "hour                        56073 non-null int64\n",
      "dtypes: datetime64[ns](1), int64(4), object(23)\n",
      "memory usage: 12.4+ MB\n"
     ]
    }
   ],
   "source": [
    "eventos_searched_products.info()"
   ]
  },
  {
   "cell_type": "code",
   "execution_count": 81,
   "metadata": {},
   "outputs": [
    {
     "name": "stdout",
     "output_type": "stream",
     "text": [
      "<class 'pandas.core.frame.DataFrame'>\n",
      "Int64Index: 56073 entries, 157 to 1011280\n",
      "Data columns (total 10 columns):\n",
      "timestamp      56073 non-null datetime64[ns]\n",
      "event          56073 non-null object\n",
      "person         56073 non-null object\n",
      "skus           55954 non-null object\n",
      "search_term    48967 non-null object\n",
      "year           56073 non-null int64\n",
      "month          56073 non-null int64\n",
      "day            56073 non-null int64\n",
      "weekday        56073 non-null object\n",
      "hour           56073 non-null int64\n",
      "dtypes: datetime64[ns](1), int64(4), object(5)\n",
      "memory usage: 4.7+ MB\n"
     ]
    }
   ],
   "source": [
    "eventos_searched_products = eventos_searched_products.dropna(axis = 1, how = 'all')\n",
    "eventos_searched_products.info()"
   ]
  },
  {
   "cell_type": "code",
   "execution_count": 82,
   "metadata": {},
   "outputs": [
    {
     "data": {
      "text/plain": [
       "iphone 6     3347\n",
       "iphone       2968\n",
       "iphone 6s    2576\n",
       "iphone 7     1354\n",
       "iphone 5s    1101\n",
       "Name: search_term, dtype: int64"
      ]
     },
     "execution_count": 82,
     "metadata": {},
     "output_type": "execute_result"
    }
   ],
   "source": [
    "# Mando todo a minúsculas para juntar los mismos términos, sin distinción de case (no nos sirven separados)\n",
    "search_terms = eventos_searched_products.search_term.str.lower().value_counts()\n",
    "search_terms.head()"
   ]
  },
  {
   "cell_type": "code",
   "execution_count": 83,
   "metadata": {},
   "outputs": [
    {
     "data": {
      "text/plain": [
       "<matplotlib.text.Text at 0x7f29ea1a5fd0>"
      ]
     },
     "execution_count": 83,
     "metadata": {},
     "output_type": "execute_result"
    },
    {
     "data": {
      "image/png": "[encoded data removed]",
      "text/plain": [
       "<matplotlib.figure.Figure at 0x7f29ea1327f0>"
      ]
     },
     "metadata": {},
     "output_type": "display_data"
    }
   ],
   "source": [
    "g = sns.barplot(x=search_terms.head(10).values, y=search_terms.head(10).index, orient='h')\n",
    "g.set_title(\"Search terms\", fontsize=15)\n",
    "g.set_xlabel(\"Number of search\", fontsize=12)\n",
    "g.set_ylabel(\"Search term\", fontsize=12)"
   ]
  },
  {
   "cell_type": "markdown",
   "metadata": {},
   "source": [
    "- Todos los más buscados son de iphones, tiene sentido después de todo también fueron de los que más\n",
    "  de viewed product tuvieron. Aunque no son de los que más se compraron al final."
   ]
  },
  {
   "cell_type": "markdown",
   "metadata": {},
   "source": [
    "- [ ] TODO: podríamos tratar de filtrar algunos términos especiales que se repiten en la mayoría de las\n",
    "            busquedas. Como cuando buscan iphones, samsungs (por marca/modelo). También si se buscan\n",
    "            cosas específicas como la cantidad de almacenamiento, si buscan usados/seminovos\n",
    "            y demases características."
   ]
  },
  {
   "cell_type": "markdown",
   "metadata": {},
   "source": [
    "Quiero ver cuanta si hay una clase de \"perdida\" entre sku y skus (debería de ser igual) "
   ]
  },
  {
   "cell_type": "code",
   "execution_count": 84,
   "metadata": {},
   "outputs": [
    {
     "data": {
      "text/plain": [
       "array(['2694.0', '15338.0', '12661.0', ..., '8357', '893', '8372'], dtype=object)"
      ]
     },
     "execution_count": 84,
     "metadata": {},
     "output_type": "execute_result"
    }
   ],
   "source": [
    "sku = eventos_raw.sku.dropna().unique()\n",
    "sku"
   ]
  },
  {
   "cell_type": "code",
   "execution_count": 85,
   "metadata": {},
   "outputs": [
    {
     "data": {
      "text/html": [
       "<div>\n",
       "<style scoped>\n",
       "    .dataframe tbody tr th:only-of-type {\n",
       "        vertical-align: middle;\n",
       "    }\n",
       "\n",
       "    .dataframe tbody tr th {\n",
       "        vertical-align: top;\n",
       "    }\n",
       "\n",
       "    .dataframe thead th {\n",
       "        text-align: right;\n",
       "    }\n",
       "</style>\n",
       "<table border=\"1\" class=\"dataframe\">\n",
       "  <thead>\n",
       "    <tr style=\"text-align: right;\">\n",
       "      <th></th>\n",
       "      <th>0</th>\n",
       "      <th>1</th>\n",
       "      <th>2</th>\n",
       "      <th>3</th>\n",
       "      <th>4</th>\n",
       "      <th>5</th>\n",
       "      <th>6</th>\n",
       "      <th>7</th>\n",
       "      <th>8</th>\n",
       "      <th>9</th>\n",
       "      <th>10</th>\n",
       "      <th>11</th>\n",
       "    </tr>\n",
       "  </thead>\n",
       "  <tbody>\n",
       "    <tr>\n",
       "      <th>8</th>\n",
       "      <td>10310</td>\n",
       "      <td>13333</td>\n",
       "      <td>13347</td>\n",
       "      <td>9902</td>\n",
       "      <td>9944</td>\n",
       "      <td>12774</td>\n",
       "      <td>12801</td>\n",
       "      <td>12744</td>\n",
       "      <td>12732</td>\n",
       "      <td>12758</td>\n",
       "      <td>9022</td>\n",
       "      <td>4045</td>\n",
       "    </tr>\n",
       "    <tr>\n",
       "      <th>12</th>\n",
       "      <td>5075</td>\n",
       "      <td>12536</td>\n",
       "      <td>12520</td>\n",
       "      <td>12661</td>\n",
       "      <td>12506</td>\n",
       "      <td>12549</td>\n",
       "      <td>10449</td>\n",
       "      <td>9175</td>\n",
       "      <td>9218</td>\n",
       "      <td>7825</td>\n",
       "      <td>2929</td>\n",
       "      <td>8567</td>\n",
       "    </tr>\n",
       "    <tr>\n",
       "      <th>14</th>\n",
       "      <td>5075</td>\n",
       "      <td>12536</td>\n",
       "      <td>12520</td>\n",
       "      <td>12661</td>\n",
       "      <td>12506</td>\n",
       "      <td>12549</td>\n",
       "      <td>10449</td>\n",
       "      <td>9175</td>\n",
       "      <td>9218</td>\n",
       "      <td>7825</td>\n",
       "      <td>2929</td>\n",
       "      <td>8567</td>\n",
       "    </tr>\n",
       "    <tr>\n",
       "      <th>18</th>\n",
       "      <td>6649</td>\n",
       "      <td>7237</td>\n",
       "      <td>2820</td>\n",
       "      <td>2750</td>\n",
       "      <td>6707</td>\n",
       "      <td>6720</td>\n",
       "      <td>7224</td>\n",
       "      <td>12619</td>\n",
       "      <td>12605</td>\n",
       "      <td>2766</td>\n",
       "      <td>11346</td>\n",
       "      <td>2774</td>\n",
       "    </tr>\n",
       "    <tr>\n",
       "      <th>19</th>\n",
       "      <td>6649</td>\n",
       "      <td>7237</td>\n",
       "      <td>2820</td>\n",
       "      <td>2750</td>\n",
       "      <td>6707</td>\n",
       "      <td>6720</td>\n",
       "      <td>7224</td>\n",
       "      <td>12619</td>\n",
       "      <td>12605</td>\n",
       "      <td>2766</td>\n",
       "      <td>11346</td>\n",
       "      <td>2774</td>\n",
       "    </tr>\n",
       "  </tbody>\n",
       "</table>\n",
       "</div>"
      ],
      "text/plain": [
       "       0      1      2      3      4      5      6      7      8      9   \\\n",
       "8   10310  13333  13347   9902   9944  12774  12801  12744  12732  12758   \n",
       "12   5075  12536  12520  12661  12506  12549  10449   9175   9218   7825   \n",
       "14   5075  12536  12520  12661  12506  12549  10449   9175   9218   7825   \n",
       "18   6649   7237   2820   2750   6707   6720   7224  12619  12605   2766   \n",
       "19   6649   7237   2820   2750   6707   6720   7224  12619  12605   2766   \n",
       "\n",
       "       10    11  \n",
       "8    9022  4045  \n",
       "12   2929  8567  \n",
       "14   2929  8567  \n",
       "18  11346  2774  \n",
       "19  11346  2774  "
      ]
     },
     "execution_count": 85,
     "metadata": {},
     "output_type": "execute_result"
    }
   ],
   "source": [
    "skus = eventos_raw.skus.dropna().str.split(\",\", expand = True)\n",
    "skus.head()"
   ]
  },
  {
   "cell_type": "code",
   "execution_count": 86,
   "metadata": {},
   "outputs": [
    {
     "data": {
      "text/plain": [
       "Series([], dtype: float64)"
      ]
     },
     "execution_count": 86,
     "metadata": {},
     "output_type": "execute_result"
    }
   ],
   "source": [
    "skus_serie = pd.Series() \n",
    "skus_serie"
   ]
  },
  {
   "cell_type": "code",
   "execution_count": 87,
   "metadata": {},
   "outputs": [],
   "source": [
    "def append_all_columns(dataframe):\n",
    "    serie = pd.Series()\n",
    "    for n in dataframe.columns:\n",
    "        serie = serie.append(dataframe[n])\n",
    "    return serie\n",
    "\n",
    "skus_serie = append_all_columns(skus).dropna()"
   ]
  },
  {
   "cell_type": "code",
   "execution_count": 88,
   "metadata": {},
   "outputs": [
    {
     "data": {
      "text/plain": [
       "1821"
      ]
     },
     "execution_count": 88,
     "metadata": {},
     "output_type": "execute_result"
    }
   ],
   "source": [
    "pd.Series(skus_serie.dropna().unique()).count()"
   ]
  },
  {
   "cell_type": "code",
   "execution_count": 89,
   "metadata": {},
   "outputs": [],
   "source": [
    "sku_serie = pd.Series(sku)"
   ]
  },
  {
   "cell_type": "code",
   "execution_count": 90,
   "metadata": {},
   "outputs": [
    {
     "data": {
      "text/plain": [
       "3574"
      ]
     },
     "execution_count": 90,
     "metadata": {},
     "output_type": "execute_result"
    }
   ],
   "source": [
    "sku_serie.count()"
   ]
  },
  {
   "cell_type": "markdown",
   "metadata": {},
   "source": [
    "# Análisis por marca"
   ]
  },
  {
   "cell_type": "code",
   "execution_count": 153,
   "metadata": {},
   "outputs": [
    {
     "data": {
      "text/plain": [
       "array(['iPhone', 'Samsung', 'Motorola', 'Asus', 'Quantum', 'Lenovo',\n",
       "       'Sony', 'LG', 'iPad', 'Blackberry'], dtype=object)"
      ]
     },
     "execution_count": 153,
     "metadata": {},
     "output_type": "execute_result"
    }
   ],
   "source": [
    "marcas = eventos_raw.model.dropna().str.partition(' ')[0].unique()\n",
    "marcas"
   ]
  },
  {
   "cell_type": "code",
   "execution_count": null,
   "metadata": {},
   "outputs": [],
   "source": []
  }
 ],
 "metadata": {
  "kernelspec": {
   "display_name": "Python 3",
   "language": "python",
   "name": "python3"
  },
  "language_info": {
   "codemirror_mode": {
    "name": "ipython",
    "version": 3
   },
   "file_extension": ".py",
   "mimetype": "text/x-python",
   "name": "python",
   "nbconvert_exporter": "python",
   "pygments_lexer": "ipython3",
   "version": "3.5.2"
  }
 },
 "nbformat": 4,
 "nbformat_minor": 2
}
