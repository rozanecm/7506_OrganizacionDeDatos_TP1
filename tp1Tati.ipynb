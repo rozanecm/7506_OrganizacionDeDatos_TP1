{
 "cells": [
  {
   "cell_type": "code",
   "execution_count": null,
   "metadata": {},
   "outputs": [],
   "source": [
    "#Importamos las bibliotecas \n",
    "\n",
    "import pandas as pd\n",
    "import numpy as np\n",
    "import matplotlib.pyplot as plt\n",
    "import seaborn as sns\n",
    "import timeit"
   ]
  },
  {
   "cell_type": "code",
   "execution_count": null,
   "metadata": {},
   "outputs": [],
   "source": [
    "#Cargamos el archivo a utilizar \n",
    "data = pd.read_csv(\"data/events.csv\", low_memory=False)"
   ]
  },
  {
   "cell_type": "code",
   "execution_count": null,
   "metadata": {},
   "outputs": [],
   "source": [
    "data.info()"
   ]
  },
  {
   "cell_type": "markdown",
   "metadata": {},
   "source": [
    "Pasamos las fechas a formate Datetime para poder trabajar mejor con estas"
   ]
  },
  {
   "cell_type": "code",
   "execution_count": null,
   "metadata": {},
   "outputs": [],
   "source": [
    "import calendar\n",
    "\n",
    "data['timestamp'] = pd.to_datetime(data['timestamp'])\n",
    "data['anio'] = data['timestamp'].dt.year\n",
    "data['mes'] = data['timestamp'].dt.month\n",
    "data['mes_nombre'] = data['mes'].apply(lambda x: calendar.month_abbr[x])\n",
    "data['dia'] = data['timestamp'].dt.day\n",
    "data['hora'] = data['timestamp'].dt.hour\n",
    "data['date'] = data['timestamp'].dt.date\n",
    "data['dia del anio'] = data['timestamp'].dt.dayofyear"
   ]
  },
  {
   "cell_type": "code",
   "execution_count": null,
   "metadata": {},
   "outputs": [],
   "source": [
    "data.head(5)"
   ]
  },
  {
   "cell_type": "markdown",
   "metadata": {},
   "source": [
    "Dado que en el set de datos hay informacion del lugar geografico desde el cual se originan los eventos se  analiza esta informacion."
   ]
  },
  {
   "cell_type": "code",
   "execution_count": null,
   "metadata": {},
   "outputs": [],
   "source": [
    "#Se ve cuantas ciudades distintas hay en los datos\n",
    "len(data.city.dropna().unique())"
   ]
  },
  {
   "cell_type": "code",
   "execution_count": null,
   "metadata": {},
   "outputs": [],
   "source": [
    "#Se calcula la cantidad de NaNs para determinar si los datos tienen sentido\n",
    "cities = data.city.dropna().unique()\n",
    "cant_nans = len(data) - data['city'].count()\n",
    "print(\"cantidad nans: \" + str(cant_nans))\n",
    "print(\"porcentaje nans: \" + str(cant_nans/len(data)))"
   ]
  },
  {
   "cell_type": "markdown",
   "metadata": {},
   "source": [
    "A pesar de que haya mucha cantidad de Nans en los datos, esto no indica datos erroneos. Los NaN se deben a que no todos los eventos guardan la misma informacion. La informacion de la ciudad y pais solo se ve para el evento de 'visited site', y por esto el resto de los eventos no la contienen. Como se ve a continuacion, si se filtra por el evento en cuestion se ve que no hay valores nulos para las columnas 'city', 'region' y 'country'."
   ]
  },
  {
   "cell_type": "code",
   "execution_count": null,
   "metadata": {},
   "outputs": [],
   "source": [
    "data[ data['event'] == 'visited site' ].info()"
   ]
  },
  {
   "cell_type": "markdown",
   "metadata": {},
   "source": [
    "Se busca en que paises se genera mas actividad."
   ]
  },
  {
   "cell_type": "code",
   "execution_count": null,
   "metadata": {},
   "outputs": [],
   "source": [
    "data.country.value_counts(ascending=True).plot(kind='barh', figsize=(16,10))"
   ]
  },
  {
   "cell_type": "markdown",
   "metadata": {},
   "source": [
    "Como se ve en el grafico Brasil es el pais desde el cual se producen mas ingresos al sitio. Por lo cual decimos analizar los datos segun su horario. "
   ]
  },
  {
   "cell_type": "code",
   "execution_count": null,
   "metadata": {},
   "outputs": [],
   "source": [
    "data.country.value_counts(normalize = True).head()"
   ]
  },
  {
   "cell_type": "markdown",
   "metadata": {},
   "source": [
    "Como se puede ver el 96% de las entradas son desde Brasil, se considera que el timestamp está en zona horaria BRT/ART, por lo cual se manejan los horarios como están, sin verificar la zona horaria del evento . Los valores que presenten un dato erroneo en este caso son despreciables dado que representan un porcentaje bajo de los datos."
   ]
  },
  {
   "cell_type": "markdown",
   "metadata": {},
   "source": [
    "Hay una gran cantidad de datos con Country 'unknown', seria interesante analizar si estos se corresponden con city 'unknown' o si hay algun valor del cual se pueda inferir el pais de origen del evento."
   ]
  },
  {
   "cell_type": "code",
   "execution_count": null,
   "metadata": {},
   "outputs": [],
   "source": [
    "data.city.value_counts(normalize=True).head()"
   ]
  },
  {
   "cell_type": "code",
   "execution_count": null,
   "metadata": {},
   "outputs": [],
   "source": [
    "country_with_city_unknown = data.loc[data.city == 'Unknown']['country']\n",
    "print(\"Cantidad de citys unknown: \" + str(country_with_city_unknown.size))\n",
    "print(country_with_city_unknown.unique())"
   ]
  },
  {
   "cell_type": "code",
   "execution_count": null,
   "metadata": {},
   "outputs": [],
   "source": [
    "city_with_country_unknown = data.loc[data.country == 'Unknown']['city']\n",
    "print(\"Cantidad de countrys unknown: \" + str(city_with_country_unknown.size))\n",
    "print(city_with_country_unknown.unique())"
   ]
  },
  {
   "cell_type": "markdown",
   "metadata": {},
   "source": [
    "Se puede ver que los paises 'unknown' se corresponden con city 'unknown'."
   ]
  },
  {
   "cell_type": "code",
   "execution_count": null,
   "metadata": {},
   "outputs": [],
   "source": [
    "del(country_with_city_unknown)\n",
    "del(city_with_country_unknown)"
   ]
  },
  {
   "cell_type": "code",
   "execution_count": null,
   "metadata": {},
   "outputs": [],
   "source": []
  },
  {
   "cell_type": "markdown",
   "metadata": {},
   "source": [
    "Mapas\n",
    "Se buscan las coordenadas de las ciudades para poder graficarlas en un mapa y ver visualmente dónde están los clientes. Se podria dibujar círculos con radio en funcion de la cantidad de compras del lugar, para tener una idea de la importancia de cada lugar para el estudio de mercado.\n",
    "\n",
    "El df que se lee a continuacion tiene las coordenadas de las ciudades que aparecen en el set de datos. Leer directamente el nuevo dataset con la info guardada y seguir a partir de ahi. Para ver el procesamiento detalladamente, ver notebook correspondiente."
   ]
  },
  {
   "cell_type": "code",
   "execution_count": null,
   "metadata": {},
   "outputs": [],
   "source": [
    "cities_with_coordinates = pd.read_csv('/home/miki_mustard/Datosnot/7506_OrganizacionDeDatos_TP1/data/cities_w_coords_with_completed_nans.csv', index_col=False)"
   ]
  },
  {
   "cell_type": "code",
   "execution_count": null,
   "metadata": {},
   "outputs": [],
   "source": [
    "# create cities df\n",
    "cities_df = pd.DataFrame(cities, columns=['city'])"
   ]
  },
  {
   "cell_type": "code",
   "execution_count": null,
   "metadata": {},
   "outputs": [],
   "source": [
    "from geopy.geocoders import Nominatim\n",
    "geolocator = Nominatim(user_agent=\"oiudsf\")"
   ]
  },
  {
   "cell_type": "code",
   "execution_count": null,
   "metadata": {},
   "outputs": [],
   "source": [
    "from geopy.exc import GeocoderTimedOut\n",
    "import time\n",
    "\n",
    "def get_coords(index, x):\n",
    "    if index % 50 == 0:\n",
    "        time.sleep(60)\n",
    "    res = geolocator.geocode(x)\n",
    "    try:\n",
    "        return [res.latitude, res.longitude]\n",
    "    except GeocoderTimedOut:\n",
    "        return get_coords(x)\n",
    "    except:\n",
    "        return [None, None]"
   ]
  },
  {
   "cell_type": "code",
   "execution_count": null,
   "metadata": {},
   "outputs": [],
   "source": [
    "from geopy.extra.rate_limiter import RateLimiter\n",
    "geocode = RateLimiter(geolocator.geocode, min_delay_seconds=1)"
   ]
  },
  {
   "cell_type": "code",
   "execution_count": null,
   "metadata": {},
   "outputs": [],
   "source": [
    "cities_df.shape"
   ]
  },
  {
   "cell_type": "code",
   "execution_count": null,
   "metadata": {},
   "outputs": [],
   "source": []
  },
  {
   "cell_type": "code",
   "execution_count": null,
   "metadata": {},
   "outputs": [],
   "source": [
    "cities_with_coordinates = pd.read_csv('/home/miki_mustard/Datosnot/7506_OrganizacionDeDatos_TP1/data/cities_w_coords_with_completed_nans.csv', index_col=False)"
   ]
  },
  {
   "cell_type": "code",
   "execution_count": null,
   "metadata": {},
   "outputs": [],
   "source": []
  },
  {
   "cell_type": "code",
   "execution_count": null,
   "metadata": {},
   "outputs": [],
   "source": [
    "import folium"
   ]
  },
  {
   "cell_type": "code",
   "execution_count": null,
   "metadata": {},
   "outputs": [],
   "source": [
    "from folium.plugins import MarkerCluster\n",
    "\n",
    "avg_lat = cities_with_coordinates['city_lat'].mean()\n",
    "avg_long = cities_with_coordinates['city_long'].mean()\n",
    "\n",
    "m = folium.Map(location=[0, 0], zoom_start=2)\n",
    "\n",
    "marker_cluster = MarkerCluster().add_to(m)\n",
    "\n",
    "for lat, lon, city in zip(cities_with_coordinates.city_lat, cities_with_coordinates.city_long, cities_with_coordinates.city):\n",
    "    folium.Marker(location=[lat, lon]).add_to(marker_cluster)\n",
    "\n",
    "m"
   ]
  },
  {
   "cell_type": "code",
   "execution_count": null,
   "metadata": {},
   "outputs": [],
   "source": []
  },
  {
   "cell_type": "markdown",
   "metadata": {},
   "source": [
    "Como se dijo anteriormente hay informacion que se muestra solo en determinados eventos y no se repite en otros ingresos del mismo usuario. A continuacion se analiza este tema para poder determinar el estado de los datos."
   ]
  },
  {
   "cell_type": "code",
   "execution_count": null,
   "metadata": {},
   "outputs": [],
   "source": [
    "data.info()"
   ]
  },
  {
   "cell_type": "markdown",
   "metadata": {},
   "source": [
    "Con lo que obtenido mediante el uso de info() podemos ver que hay algunas columnas que no tienen ningún NAN, estas son:\n",
    "\n",
    "timestamp\n",
    "event\n",
    "person\n",
    "Tiene sentido que ninguna tenga NAN, ya que en todos los casos corresponde tener esa información.\n",
    "\n",
    "Ahora, veamos las columnas que tienen alguna densidad de NAN. En principio puede haber NANs porque esa información no corresponde, podemos pensar que el tipo de evento es el que define qué valores corresponden y cuales no. Recordemos los tipos de eventos que teníamos:"
   ]
  },
  {
   "cell_type": "code",
   "execution_count": null,
   "metadata": {},
   "outputs": [],
   "source": [
    "data['event'].value_counts()"
   ]
  },
  {
   "cell_type": "markdown",
   "metadata": {},
   "source": [
    "Por ejemplo, vemos que tenemos 50957 eventos que corresponden al search engine hit y viendo devuelta lo que obtuvimos con info() también podemos apreciar que hay en la columna de searchengine la misma cantidad de no NANs. Esto se corresponde con lo que habíamos pensado de que a determinados eventos le corresponden determinada información, y por eso en este caso en todas las demás entradas habría NANs, ya que realmente no corresponde.\n",
    "\n",
    "Estudiemos más a fondo esto. Primero veamos correspondencias entre event y la información en ciertas columnas."
   ]
  },
  {
   "cell_type": "markdown",
   "metadata": {},
   "source": [
    "Correspondencia event-informacion"
   ]
  },
  {
   "cell_type": "code",
   "execution_count": null,
   "metadata": {},
   "outputs": [],
   "source": [
    "# Saco las columnas que no me interesan.\n",
    "filtered = data.drop(['timestamp','person'], axis='columns')"
   ]
  },
  {
   "cell_type": "code",
   "execution_count": null,
   "metadata": {},
   "outputs": [],
   "source": [
    "def columnas_sin_nans_para_event(dataframe, event):\n",
    "    return dataframe.loc[dataframe.event == event].iloc[0].dropna().index"
   ]
  },
  {
   "cell_type": "code",
   "execution_count": null,
   "metadata": {},
   "outputs": [],
   "source": [
    "# Vemos las columnas que tienen información (ningún NAN) para cada tipo de evento\n",
    "\n",
    "for event in data.event.unique():\n",
    "    print(event + ': ' + str(list(columnas_sin_nans_para_event(filtered, event).drop('event'))) + '\\n')"
   ]
  },
  {
   "cell_type": "markdown",
   "metadata": {},
   "source": [
    "Se puede ver como para cada evento tenemos cierta información que tiene sentido tener y cierta que no. De ahí varios NANs que nos aparecen en algunas columnas.\n",
    "\n",
    "Pero ahora veamos si todos los NANs en las columnas son porque no corresponde tener esa info para el evento o si hay alguna clase de \"fuga\" de NANs donde sí corresponde tener la información."
   ]
  },
  {
   "cell_type": "code",
   "execution_count": null,
   "metadata": {},
   "outputs": [],
   "source": [
    "del(filtered)"
   ]
  },
  {
   "cell_type": "code",
   "execution_count": null,
   "metadata": {},
   "outputs": [],
   "source": []
  },
  {
   "cell_type": "markdown",
   "metadata": {},
   "source": [
    "# Analizamos la relacion general entre los eventos posibles. "
   ]
  },
  {
   "cell_type": "code",
   "execution_count": null,
   "metadata": {},
   "outputs": [],
   "source": [
    "cantidad_eventos = data['event'].value_counts(ascending=True)"
   ]
  },
  {
   "cell_type": "code",
   "execution_count": null,
   "metadata": {},
   "outputs": [],
   "source": [
    "cantidad_eventos.plot(kind='barh')"
   ]
  },
  {
   "cell_type": "markdown",
   "metadata": {},
   "source": [
    "Se puede ver como el evento viewed product es el mas frecuente, siendo este el evento que representa cuando un usuario ingresa a una pagina de producto. \n",
    "Tiene sentido que del evento Lead haya muy poca cantidad dado que representa cuando un usuario ingresa su mail para ser notificado en caso de renovar stock de cierto producto.  \n",
    "Un evento de particular interes es el de Conversion, dado que indica que se efectuo una compra. En el grafico se puede ver que hay muy pocas conversiones. El evento checkout tambien es importante dado que indica que el usuario selecciono un dispositivo para comprar. \n",
    "Se puede graficar la evolucion de los eventos a traves del tiempo."
   ]
  },
  {
   "cell_type": "code",
   "execution_count": null,
   "metadata": {},
   "outputs": [],
   "source": [
    "data.groupby('mes').count()['person'].plot(kind='barh')"
   ]
  },
  {
   "cell_type": "markdown",
   "metadata": {},
   "source": [
    "Hay significativamente mas datos del mes 5. Si los datos son representativos, se podria concluir que hubo mucho mas trafico durante el quinto mes (casi el doble que durante el sexto, que ademas tiene aproximadamente el doble que el cuarto, que es el que mas tiene entre los primeros cuatro.\n",
    "Surge asi el interrogante: que es lo que hizo que este mes haya tenido mas trafico?\n"
   ]
  },
  {
   "cell_type": "code",
   "execution_count": null,
   "metadata": {},
   "outputs": [],
   "source": [
    "# Se obtiene el día de la semana, se cuenta y se vuelca en un gráfico\n",
    "days = {6: \"Domingo\",0: \"Lunes\",1:\"Martes\",2: \"Miércoles\",3: \"Jueves\",4: \"Viernes\",5: \"Sábado\"}\n",
    "\n",
    "# Se guardan dias de la semana en el orden deseado\n",
    "sorter = [\"Domingo\", \"Sábado\", \"Viernes\", \"Jueves\", \"Miércoles\", \"Martes\", \"Lunes\"]\n",
    "sorterIndex = dict(zip(sorter,range(len(sorter))))\n",
    "\n",
    "# se crea columna con info del dia de la semana respetando el nombre\n",
    "data[\"dia_semana\"] = data[\"timestamp\"].dt.dayofweek\n",
    "data[\"dia_semana\"] = data[\"dia_semana\"].apply(lambda x: days[x])"
   ]
  },
  {
   "cell_type": "code",
   "execution_count": null,
   "metadata": {},
   "outputs": [],
   "source": []
  },
  {
   "cell_type": "code",
   "execution_count": null,
   "metadata": {},
   "outputs": [],
   "source": [
    "# Se crea df con cantidad de eventos agrupados por dia de la semana\n",
    "dfEventosAgrupado = data[['event','dia_semana']].groupby(\"dia_semana\").count()\n",
    "dfEventosAgrupado[\"dia\"] = dfEventosAgrupado.index\n",
    "\n",
    "# ordenamiento coherente para evitar el default (alfabetico)\n",
    "dfEventosAgrupado[\"dia\"] = dfEventosAgrupado[\"dia\"].map(sorterIndex)\n",
    "\n",
    "grafico = dfEventosAgrupado.sort_values(\"dia\").plot(kind = \"barh\", figsize=(12,5))\n",
    "grafico.legend_.remove()\n",
    "grafico.set_title(\"Cantidad de eventos por día de la semana\", fontsize=20)\n",
    "grafico.set_xlabel(\"Día de la semana\", fontsize=15)\n",
    "grafico.set_ylabel(\"Cantidad de eventos\", fontsize=15)"
   ]
  },
  {
   "cell_type": "markdown",
   "metadata": {},
   "source": [
    "Se puede observar que hay menos trafico los fines de semana. Fuera de eso, los niveles se mantienen similares. Se puede suponer que esto se debe a que los fines de semana los usuarios ocupan mas tiempo en actividades sociales y que durante la semana navegan en este tipo de sitios despues del trabajo (o durante? Seguro que no!)."
   ]
  },
  {
   "cell_type": "code",
   "execution_count": null,
   "metadata": {},
   "outputs": [],
   "source": [
    "# Se obtiene la hora, se cuenta y se vuelca en un gráfico\n",
    "grafico = data[\"timestamp\"].dt.hour.value_counts().sort_index().plot(figsize=(10,7))\n",
    "grafico.set_title(\"Cantidad de eventos por hora del día\", fontsize=20)\n",
    "grafico.set_xlabel(\"Hora del día\", fontsize = 15)\n",
    "grafico.set_ylabel(\"Cantidad de eventos\", fontsize = 15)"
   ]
  },
  {
   "cell_type": "markdown",
   "metadata": {},
   "source": [
    "Como era de esperar, durante la noche se registra una baja en la actividad del sitio."
   ]
  },
  {
   "cell_type": "code",
   "execution_count": null,
   "metadata": {},
   "outputs": [],
   "source": [
    "eventos_en_t  =  pd.DataFrame()\n",
    "eventos_en_t['date'] = data['timestamp'].dt.date\n",
    "eventos_en_t['checkout'] = data['event']\n",
    "eventos_en_t['conversion'] = eventos_en_t['checkout'].str.contains('conversion')\n",
    "eventos_en_t['ad campaign hit'] = eventos_en_t['checkout'].str.contains('ad campaign hit')\n",
    "eventos_en_t['viewed product'] = eventos_en_t['checkout'].str.contains('viewed product')\n",
    "eventos_en_t['visited site'] = eventos_en_t['checkout'].str.contains('visited site')\n",
    "\n",
    "eventos_en_t['checkout'] = eventos_en_t['checkout'].str.contains('checkout')\n",
    "grouped = eventos_en_t.groupby('date').sum()"
   ]
  },
  {
   "cell_type": "code",
   "execution_count": null,
   "metadata": {},
   "outputs": [],
   "source": [
    "ax = grouped.plot(figsize=(10,10))"
   ]
  },
  {
   "cell_type": "markdown",
   "metadata": {},
   "source": [
    "Se puede ver como el evento mas predominate es el de 'viewed product'. Analizamos el resto de los eventos sin tenerlo en cuenta."
   ]
  },
  {
   "cell_type": "code",
   "execution_count": null,
   "metadata": {},
   "outputs": [],
   "source": [
    "ax = grouped.plot(figsize=(10,10))"
   ]
  },
  {
   "cell_type": "markdown",
   "metadata": {},
   "source": [
    "Los eventos 'visited site' y 'ad campaign hit' se distribuyen a lo largo del tiempo de forma muy similar.  Mientras que 'checkout' es menos frecuente, y aun menos 'conversion'."
   ]
  },
  {
   "cell_type": "code",
   "execution_count": null,
   "metadata": {},
   "outputs": [],
   "source": [
    "#Si analizamos los mismos datos con un PairGrid\n",
    "from  pandas.plotting  import scatter_matrix\n",
    "#En general por fecha\n",
    "scatter_matrix(grouped, alpha=0.2, figsize=(15, 15), diagonal='kde')"
   ]
  },
  {
   "cell_type": "markdown",
   "metadata": {},
   "source": [
    "Se obtiene la misma relacion \"lineal\" entre los eventos 'ad campaign hit' y 'visited site', mientras que entre 'visited site' y 'checkouts' es mas frecuente el primero. Es de especial importancia la relacion entre 'choeckout' y 'conversion'. En este grafico se puede observar como los 'chekout' son mas frecuentes. esto se puede deber a que un usuario busca certo dispositivo y luego no efectua la compra, asi generando uno o mas eventos de 'checkout' y no un evento 'conversion'."
   ]
  },
  {
   "cell_type": "code",
   "execution_count": null,
   "metadata": {},
   "outputs": [],
   "source": []
  },
  {
   "cell_type": "markdown",
   "metadata": {},
   "source": [
    "## Analisis del evento 'conversion'"
   ]
  },
  {
   "cell_type": "code",
   "execution_count": null,
   "metadata": {},
   "outputs": [],
   "source": [
    "eventos_conversion = data.loc[data.event == 'conversion']\n",
    "eventos_conversion.shape"
   ]
  },
  {
   "cell_type": "markdown",
   "metadata": {},
   "source": [
    "Cantidad de conversiones durante el año"
   ]
  },
  {
   "cell_type": "code",
   "execution_count": null,
   "metadata": {},
   "outputs": [],
   "source": [
    "conversion_per_date = eventos_conversion.timestamp.dt.date.value_counts()"
   ]
  },
  {
   "cell_type": "code",
   "execution_count": null,
   "metadata": {},
   "outputs": [],
   "source": [
    "#g = plt.hist(x = conversion_per_date.index, weights = conversion_per_date.values)\n",
    "#me tira error"
   ]
  },
  {
   "cell_type": "markdown",
   "metadata": {},
   "source": [
    "Cantidad de conversiones por mes"
   ]
  },
  {
   "cell_type": "code",
   "execution_count": null,
   "metadata": {},
   "outputs": [],
   "source": [
    "conversion_per_month = eventos_conversion.mes.value_counts()\n",
    "conversion_per_month"
   ]
  },
  {
   "cell_type": "code",
   "execution_count": null,
   "metadata": {},
   "outputs": [],
   "source": [
    "g  =  sns.barplot(x=conversion_per_month.values, y=conversion_per_month.index, orient='h')\n",
    "g.set_title(\"Conversiones por mes\", fontsize=20)\n",
    "g.set_xlabel(\"Numero de conversiones\", fontsize=15)\n",
    "g.set_ylabel(\"Mes\", fontsize=15)"
   ]
  },
  {
   "cell_type": "markdown",
   "metadata": {},
   "source": [
    "Con lo anterior vemos que durante los meses 3-5 son los que se tuvo más eventos de conversion."
   ]
  },
  {
   "cell_type": "code",
   "execution_count": null,
   "metadata": {},
   "outputs": [],
   "source": [
    "del(conversion_per_month)"
   ]
  },
  {
   "cell_type": "markdown",
   "metadata": {},
   "source": [
    "Cantidad de conversiones según día de la semana y hora"
   ]
  },
  {
   "cell_type": "code",
   "execution_count": null,
   "metadata": {},
   "outputs": [],
   "source": [
    "table = eventos_conversion.pivot_table(index = 'hora', columns = 'dia_semana', values = 'dia', aggfunc = 'count')\n",
    "table"
   ]
  },
  {
   "cell_type": "code",
   "execution_count": null,
   "metadata": {},
   "outputs": [],
   "source": [
    "g = sns.heatmap(table,  cmap=\"YlGnBu\")\n",
    "g.set_title(\"Eventos de conversion (compra) por día de la semana y hora\", fontsize=22)\n",
    "g.set_xlabel(\"Día de la semana\",fontsize=18)\n",
    "g.set_ylabel(\"Hora del día\", fontsize=18)"
   ]
  },
  {
   "cell_type": "markdown",
   "metadata": {},
   "source": [
    "Esta informacion se corresponde con la obtenida anteriormente para los eventos en general. Mostrando nuevamente que dentro de las horas de la mañana 3-11 hay casi nada de actividad y los días de fin de semana hay menos actividad."
   ]
  },
  {
   "cell_type": "code",
   "execution_count": null,
   "metadata": {},
   "outputs": [],
   "source": [
    "del(table)\n",
    "del(g)"
   ]
  },
  {
   "cell_type": "code",
   "execution_count": null,
   "metadata": {},
   "outputs": [],
   "source": []
  },
  {
   "cell_type": "markdown",
   "metadata": {},
   "source": [
    "## Conversiones segun el modelo"
   ]
  },
  {
   "cell_type": "code",
   "execution_count": null,
   "metadata": {},
   "outputs": [],
   "source": [
    "# Vemos como se distribuyen los NaN\n",
    "print(\"Cantidad de nans para eventos de compra: \" + str(eventos_conversion.model.size - eventos_conversion.model.count()))"
   ]
  },
  {
   "cell_type": "markdown",
   "metadata": {},
   "source": [
    "No hay ningun NaN en los eventos de conversion para el modelo. Esto tiene sentido dado que el evento de conversion se genera al comprar un producto determinado, por lo cual se tiene que generar la informacion correspondiente a dicho dispositivo. \n",
    "\n",
    "Veamos los 10 modelos más comúnes en el evento conversion. Hay demasiados modelos como para enfocarnos en ver todos los modelos y las distribuciones de cantidad de veces que aparecen en el evento."
   ]
  },
  {
   "cell_type": "code",
   "execution_count": null,
   "metadata": {},
   "outputs": [],
   "source": [
    "conversion_per_model = eventos_conversion.model.str.lower().value_counts().head(10)\n",
    "conversion_per_model"
   ]
  },
  {
   "cell_type": "code",
   "execution_count": null,
   "metadata": {},
   "outputs": [],
   "source": [
    "eventos_conversion.model.str.lower().value_counts(normalize = True).head(10)"
   ]
  },
  {
   "cell_type": "code",
   "execution_count": null,
   "metadata": {},
   "outputs": [],
   "source": [
    "g = sns.barplot(x=conversion_per_model.values, y=conversion_per_model.index, orient='h')\n",
    "g.set_title(\"Conversiones por modelo (10 mas comprados)\", fontsize=15) # o mas vendidos?\n",
    "g.set_xlabel(\"Numero de conversiones\", fontsize=12)\n",
    "g.set_ylabel(\"Modelo\", fontsize=12) #o modelos??"
   ]
  },
  {
   "cell_type": "markdown",
   "metadata": {},
   "source": [
    "Se ve claramente como los primeros 3 modelos tienen un valor de conversiones considerablemente mayor al resto de los modelos. El Samsung Galaxy J5 representa mas de doble de los ultimos 7 modelos. "
   ]
  },
  {
   "cell_type": "code",
   "execution_count": null,
   "metadata": {},
   "outputs": [],
   "source": [
    "del(conversion_per_model)\n",
    "del(g)"
   ]
  },
  {
   "cell_type": "markdown",
   "metadata": {},
   "source": [
    "# Analisis por caracteristicas de celulares"
   ]
  },
  {
   "cell_type": "markdown",
   "metadata": {},
   "source": [
    "## Storage"
   ]
  },
  {
   "cell_type": "code",
   "execution_count": null,
   "metadata": {},
   "outputs": [],
   "source": [
    "eventos_check_out  = data.loc[data.event == 'checkout']\n",
    "eventos_check_out.head()"
   ]
  },
  {
   "cell_type": "code",
   "execution_count": null,
   "metadata": {},
   "outputs": [],
   "source": [
    "check_out_per_storage = eventos_check_out.storage.value_counts()\n",
    "check_out_per_storage"
   ]
  },
  {
   "cell_type": "code",
   "execution_count": null,
   "metadata": {},
   "outputs": [],
   "source": []
  },
  {
   "cell_type": "code",
   "execution_count": null,
   "metadata": {},
   "outputs": [],
   "source": []
  },
  {
   "cell_type": "code",
   "execution_count": null,
   "metadata": {},
   "outputs": [],
   "source": []
  },
  {
   "cell_type": "code",
   "execution_count": null,
   "metadata": {},
   "outputs": [],
   "source": []
  },
  {
   "cell_type": "code",
   "execution_count": null,
   "metadata": {},
   "outputs": [],
   "source": []
  },
  {
   "cell_type": "code",
   "execution_count": null,
   "metadata": {},
   "outputs": [],
   "source": []
  },
  {
   "cell_type": "code",
   "execution_count": null,
   "metadata": {},
   "outputs": [],
   "source": []
  },
  {
   "cell_type": "code",
   "execution_count": null,
   "metadata": {},
   "outputs": [],
   "source": [
    "mes = {1:\"Jan\",2: \"Feb\",3: \"Mar\",4: \"May\",5: \"Jun\"}\n",
    "\n",
    "# guardo meses en el orden deseado\n",
    "sorter = [\"Jan\", \"Feb\",\"Mar\", \"Apr\", \"May\", \"Jun\"]\n",
    "sorterIndex = dict(zip(sorter,range(len(sorter))))\n",
    "\n",
    "# creo df con cantidad de eventos agrupados por dia de la semana\n",
    "#dfEventosAgrupado = df[['event','dia_semana']].groupby(\"dia_semana\").count()\n",
    "#dfEventosAgrupado[\"day\"] = dfEventosAgrupado.index\n",
    "\n",
    "# ordenamiento coherente para evitar el default (alfabetico)\n",
    "#dfEventosAgrupado[\"day\"] = dfEventosAgrupado[\"day\"].map(sorterIndex)\n",
    "\n",
    "#grafico = dfEventosAgrupado.sort_values(\"day\").plot(kind = \"barh\")\n",
    "#grafico.legend_.remove()\n",
    "#grafico.set_title(\"Cantidad de eventos por día de la semana\", fontsize=18)\n",
    "#grafico.set_xlabel(\"Día de la semana\", fontsize=12)\n",
    "#grafico.set_ylabel(\"Cantidad de eventos\", fontsize=12)"
   ]
  },
  {
   "cell_type": "code",
   "execution_count": null,
   "metadata": {},
   "outputs": [],
   "source": []
  },
  {
   "cell_type": "code",
   "execution_count": null,
   "metadata": {},
   "outputs": [],
   "source": [
    "viewed_product_distribucion = data[ data['event'] == 'viewed product'].groupby(['dia', 'mes'])['mes_nombre']\n",
    "vpd = viewed_product_distribucion.agg('count').unstack()\n",
    "vpd.plot()"
   ]
  },
  {
   "cell_type": "code",
   "execution_count": null,
   "metadata": {},
   "outputs": [],
   "source": [
    "vp = data[ data['event'] == 'viewed product']"
   ]
  },
  {
   "cell_type": "code",
   "execution_count": null,
   "metadata": {},
   "outputs": [],
   "source": [
    "for_heatmap = vp.pivot_table(index='mes', columns='dia', values='timestamp', aggfunc='count')\n",
    "for_heatmap"
   ]
  },
  {
   "cell_type": "code",
   "execution_count": null,
   "metadata": {},
   "outputs": [],
   "source": [
    "plt.figure(figsize=(18, 5))\n",
    "g = sns.heatmap(for_heatmap,  cmap=\"YlGnBu\",square=True,  linewidths=.5)\n",
    "g.set_title(\"Cantidad de viewed product por dia segun el mes\", fontsize=22)\n",
    "g.set_xlabel(\"Dia del evento\",fontsize=18)\n",
    "g.set_ylabel(\"Mes del evento\", fontsize=18)"
   ]
  },
  {
   "cell_type": "markdown",
   "metadata": {},
   "source": [
    "Es importante comparar los eventos checkout y conversion"
   ]
  },
  {
   "cell_type": "code",
   "execution_count": null,
   "metadata": {},
   "outputs": [],
   "source": [
    "#Primero filtro los eventos que me interesan\n",
    "e = data[ (data['event'] != 'viewed product') & (data['event'] != 'lead')]\n",
    "#Group By mes y evento\n",
    "groupbymesyevento = e.groupby(['mes', 'event'])\n",
    "\n",
    "#Without the hierarchical indexing\n",
    "print (\"[Unstacking]\" )\n",
    "regimentbucketclicksum = groupbymesyevento['person'].agg('count').unstack()\n",
    "\n",
    "regimentbucketclicksum.plot(kind = 'bar', title = 'Frecuencia de los eventos por mes', figsize=(10,10))\n",
    "\n",
    "plt.ylabel('cantidad')\n",
    "plt.show()"
   ]
  },
  {
   "cell_type": "code",
   "execution_count": null,
   "metadata": {},
   "outputs": [],
   "source": [
    "p = pd.DataFrame(data[ ['person', 'event']])\n",
    "grouped = p.groupby('person')['event']\n"
   ]
  },
  {
   "cell_type": "code",
   "execution_count": null,
   "metadata": {},
   "outputs": [],
   "source": [
    "p['ad campaign hit'] = p['event'].str.contains('ad campaign hit')\n",
    "p"
   ]
  },
  {
   "cell_type": "code",
   "execution_count": null,
   "metadata": {},
   "outputs": [],
   "source": [
    "#data['event'] = data['event'].astype('category')"
   ]
  },
  {
   "cell_type": "code",
   "execution_count": null,
   "metadata": {},
   "outputs": [],
   "source": [
    "data.columns"
   ]
  },
  {
   "cell_type": "code",
   "execution_count": null,
   "metadata": {},
   "outputs": [],
   "source": [
    "ap = pd.crosstab(data['person'], data['event'])"
   ]
  },
  {
   "cell_type": "code",
   "execution_count": null,
   "metadata": {},
   "outputs": [],
   "source": [
    "ap.head()"
   ]
  },
  {
   "cell_type": "code",
   "execution_count": null,
   "metadata": {},
   "outputs": [],
   "source": [
    "ap.describe()"
   ]
  },
  {
   "cell_type": "code",
   "execution_count": null,
   "metadata": {},
   "outputs": [],
   "source": [
    "print( 'promedio: ', ap.mean() , \",desviacion estandar: \" , ap.std())"
   ]
  },
  {
   "cell_type": "code",
   "execution_count": null,
   "metadata": {},
   "outputs": [],
   "source": [
    "ap.agg(['mean', 'std'])"
   ]
  },
  {
   "cell_type": "code",
   "execution_count": null,
   "metadata": {},
   "outputs": [],
   "source": [
    "ap.mean().plot(kind='barh')"
   ]
  },
  {
   "cell_type": "code",
   "execution_count": null,
   "metadata": {},
   "outputs": [],
   "source": [
    "# Nos interesa ver si un usuario realizo o no un evento, no la cantidad de veces que los realiza.\n",
    "# Para ver esto los pasamos a formato de booleanos.\n",
    "ap = ap.astype('bool')\n",
    "ap.head()"
   ]
  },
  {
   "cell_type": "code",
   "execution_count": null,
   "metadata": {},
   "outputs": [],
   "source": [
    "from mlxtend.frequent_patterns import apriori\n",
    "\n",
    "apriori_result = apriori(ap, min_support=0.0, use_colnames=True, max_len=2)"
   ]
  },
  {
   "cell_type": "code",
   "execution_count": null,
   "metadata": {},
   "outputs": [],
   "source": [
    "apriori_result.head()"
   ]
  },
  {
   "cell_type": "code",
   "execution_count": null,
   "metadata": {},
   "outputs": [],
   "source": [
    "# Guardamos soportes para cada tipo de evento\n",
    "support_per_event = apriori_result[apriori_result['itemsets'].apply(lambda x: len(x) == 1)]\n",
    "\n",
    "support_per_event = support_per_event.rename(columns={'itemsets':'event'})\n",
    "support_per_event.head()"
   ]
  },
  {
   "cell_type": "code",
   "execution_count": null,
   "metadata": {},
   "outputs": [],
   "source": [
    "support_per_event['event'] = support_per_event['event'].apply(lambda x: x[0])"
   ]
  },
  {
   "cell_type": "code",
   "execution_count": null,
   "metadata": {},
   "outputs": [],
   "source": [
    "support_per_event.head()"
   ]
  },
  {
   "cell_type": "code",
   "execution_count": null,
   "metadata": {},
   "outputs": [],
   "source": [
    "support_per_event = support_per_event.set_index('event').T"
   ]
  },
  {
   "cell_type": "code",
   "execution_count": null,
   "metadata": {},
   "outputs": [],
   "source": [
    "support_per_event.head()"
   ]
  },
  {
   "cell_type": "code",
   "execution_count": null,
   "metadata": {},
   "outputs": [],
   "source": [
    "apriori_result = apriori_result[apriori_result['itemsets'].apply(lambda x: len(x) == 2)]"
   ]
  },
  {
   "cell_type": "code",
   "execution_count": null,
   "metadata": {},
   "outputs": [],
   "source": [
    "apriori_result.head(50)"
   ]
  },
  {
   "cell_type": "code",
   "execution_count": null,
   "metadata": {},
   "outputs": [],
   "source": [
    "apriori_result = apriori_result.sort_values('support',ascending=False)\n",
    "apriori_result.head()"
   ]
  },
  {
   "cell_type": "code",
   "execution_count": null,
   "metadata": {},
   "outputs": [],
   "source": [
    "apriori_result = apriori_result.reset_index(drop=True)\n",
    "apriori_result.head()"
   ]
  },
  {
   "cell_type": "code",
   "execution_count": null,
   "metadata": {},
   "outputs": [],
   "source": [
    "apriori_result.count()"
   ]
  },
  {
   "cell_type": "code",
   "execution_count": null,
   "metadata": {},
   "outputs": [],
   "source": [
    "# Borramos rows con soporte = 0 (es decir, duplas que no se hayan dado en nuestros datos)\n",
    "apriori_result = apriori_result[apriori_result['support'] > 0.0]"
   ]
  },
  {
   "cell_type": "code",
   "execution_count": null,
   "metadata": {},
   "outputs": [],
   "source": [
    "apriori_result.count()"
   ]
  },
  {
   "cell_type": "code",
   "execution_count": null,
   "metadata": {},
   "outputs": [],
   "source": [
    "# Vamos a analizar las 20 duplas con mayor soporte (frecuencia de aparicion en los datos analizados)\n",
    "apriori_result.nlargest(20,'support')"
   ]
  },
  {
   "cell_type": "code",
   "execution_count": null,
   "metadata": {},
   "outputs": [],
   "source": [
    "apriori_result[ apriori_result['itemsets'] == {'checkout', 'conversion'} ]"
   ]
  },
  {
   "cell_type": "code",
   "execution_count": null,
   "metadata": {},
   "outputs": [],
   "source": [
    "apriori_result.plot()"
   ]
  },
  {
   "cell_type": "code",
   "execution_count": null,
   "metadata": {},
   "outputs": [],
   "source": [
    "working_data = apriori_result.rename(columns={'itemsets':'event1'})\n",
    "working_data.head()"
   ]
  },
  {
   "cell_type": "code",
   "execution_count": null,
   "metadata": {},
   "outputs": [],
   "source": [
    "df2 = pd.DataFrame(list(working_data['event1']), columns = ['event1', 'event2'])\n",
    "df2.head()"
   ]
  },
  {
   "cell_type": "code",
   "execution_count": null,
   "metadata": {},
   "outputs": [],
   "source": [
    "df2['support'] = working_data['support']\n",
    "df2.head()"
   ]
  },
  {
   "cell_type": "code",
   "execution_count": null,
   "metadata": {},
   "outputs": [],
   "source": [
    "df1 = pd.DataFrame(list(working_data['event1']), columns = ['event2', 'event1'])\n",
    "df1.head()"
   ]
  },
  {
   "cell_type": "code",
   "execution_count": null,
   "metadata": {},
   "outputs": [],
   "source": [
    "df1['support'] = working_data['support']\n",
    "df1.head()"
   ]
  },
  {
   "cell_type": "code",
   "execution_count": null,
   "metadata": {},
   "outputs": [],
   "source": [
    "df1.info()"
   ]
  },
  {
   "cell_type": "code",
   "execution_count": null,
   "metadata": {},
   "outputs": [],
   "source": [
    "# Uno los 2 DF:\n",
    "apriori_result = pd.concat([df1, df2]).reset_index(drop=True)\n",
    "apriori_result.head()"
   ]
  },
  {
   "cell_type": "code",
   "execution_count": null,
   "metadata": {},
   "outputs": [],
   "source": [
    "apriori_result.info()"
   ]
  },
  {
   "cell_type": "code",
   "execution_count": null,
   "metadata": {},
   "outputs": [],
   "source": [
    "support_per_event"
   ]
  },
  {
   "cell_type": "code",
   "execution_count": null,
   "metadata": {},
   "outputs": [],
   "source": [
    "#Calculo de la confianza (la calculamos RESPECTO AL EVENTO EVENT1). Esto es support de la dupla dividido support individual de una de las 2 categorias de \n",
    "# dicha dupla. Es decir, de los usuarios que realizaron el evento individual, cuantos realizaron tambien el otro evento de la dupla. \n",
    "#(vamos a buscar el support individual al DF que teniamos dedicado para eso -support_per_event-)\n",
    "for index, row in apriori_result.iterrows():\n",
    "    apriori_result.at[index, 'confidence'] = apriori_result.at[index, 'support'] / support_per_event.at['support', frozenset({row['event1']})]"
   ]
  },
  {
   "cell_type": "code",
   "execution_count": null,
   "metadata": {},
   "outputs": [],
   "source": [
    "apriori_result.head()"
   ]
  },
  {
   "cell_type": "code",
   "execution_count": null,
   "metadata": {},
   "outputs": [],
   "source": [
    "# Ordenamos para ver cuales son los eventos más \"conectados/relacionados\" (duplas de mayor confianza)\n",
    "apriori_result = apriori_result.sort_values('confidence', ascending=False)\n",
    "apriori_result.head()"
   ]
  },
  {
   "cell_type": "code",
   "execution_count": null,
   "metadata": {},
   "outputs": [],
   "source": [
    "# Hay varios con una confianza del 100%, esto se debe a que el soporte del la dupla y el del individual \n",
    "# son iguales, y esto se da para cada tipo de evento con el que se relaciona el checkout (por como se manejaron\n",
    "# los datos, no son casos verídicos). Vamos a sacar estos casos.\n",
    "apriori_result = apriori_result[apriori_result['confidence'] < 1.0]\n",
    "apriori_result.head()"
   ]
  },
  {
   "cell_type": "code",
   "execution_count": null,
   "metadata": {},
   "outputs": [],
   "source": [
    "# Vamos a analizar las 20 duplas con la mayor confianza (de la dupla respecto a category1)\n",
    "apriori_result.nlargest(20, 'confidence')"
   ]
  },
  {
   "cell_type": "code",
   "execution_count": null,
   "metadata": {},
   "outputs": [],
   "source": [
    "apriori_result['tuple'] = apriori_result['event1'] + ' -> ' + apriori_result['event2']"
   ]
  },
  {
   "cell_type": "code",
   "execution_count": null,
   "metadata": {},
   "outputs": [],
   "source": [
    "apriori_result.head()"
   ]
  },
  {
   "cell_type": "code",
   "execution_count": null,
   "metadata": {},
   "outputs": [],
   "source": [
    "working_data = apriori_result[['tuple','confidence']].nlargest(20,'confidence')\n",
    "\n",
    "fig, ax = plt.subplots(figsize=(20,15))\n",
    "\n",
    "ax = sns.barplot(x=working_data['confidence'], y=working_data['tuple'], orient='h', edgecolor=\"black\", linewidth=0.5)\n",
    "ax.set_title('Cercanía de eventos: usuarios de 1er evento, que % realizó también el 2do evento', fontsize=25)\n",
    "ax.set_xlabel('%', labelpad=15, size=20)\n",
    "ax.set_ylabel('Eventos (1ro -> 2do)', labelpad=25, size=20)\n",
    "ax.set_yticklabels(ax.get_yticklabels(), size=13)\n",
    "ax.grid(axis='x')\n",
    "ax.set_xbound(0.7, 1.0)\n",
    "ax.set_xticklabels(['65','70','75','80','85','90','95','100'], size=13)\n",
    "\n",
    "ax.title.set_position([0.3, 1.05])"
   ]
  },
  {
   "cell_type": "code",
   "execution_count": null,
   "metadata": {},
   "outputs": [],
   "source": [
    "# Ahora analicemos por truplas\n",
    "apriori_result = apriori(ap, min_support=0.0, use_colnames=True, max_len=3)"
   ]
  },
  {
   "cell_type": "code",
   "execution_count": null,
   "metadata": {},
   "outputs": [],
   "source": [
    "apriori_result = apriori_result[apriori_result['itemsets'].apply(lambda x: len(x) == 3)]\n",
    "apriori_result.head()"
   ]
  },
  {
   "cell_type": "code",
   "execution_count": null,
   "metadata": {},
   "outputs": [],
   "source": [
    "apriori_result = apriori_result.sort_values('support',ascending=False)\n",
    "apriori_result.head()"
   ]
  },
  {
   "cell_type": "code",
   "execution_count": null,
   "metadata": {},
   "outputs": [],
   "source": [
    "apriori_result = apriori_result.reset_index(drop=True)\n",
    "apriori_result.head()"
   ]
  },
  {
   "cell_type": "code",
   "execution_count": null,
   "metadata": {},
   "outputs": [],
   "source": [
    "# Hacemos un dataframe con columnas por los eventos, para facilidad del manejo de los datos\n",
    "df = pd.DataFrame(list(apriori_result['itemsets']), columns = ['event1', 'event2', 'event3'])\n",
    "df.head(20)"
   ]
  },
  {
   "cell_type": "code",
   "execution_count": null,
   "metadata": {},
   "outputs": [],
   "source": [
    "# Le agregamos la columna con el support\n",
    "df['support'] = apriori_result['support']\n",
    "df"
   ]
  },
  {
   "cell_type": "code",
   "execution_count": null,
   "metadata": {},
   "outputs": [],
   "source": [
    "df = df.sort_values('support', ascending=False)\n",
    "df.head(10)"
   ]
  },
  {
   "cell_type": "code",
   "execution_count": null,
   "metadata": {},
   "outputs": [],
   "source": [
    "# Vamos a estudiar las truplas que contienen el evento conversion, ya que nos interesa\n",
    "# ver el movimiento de los usuarios que llegaron a comprar algo.\n",
    "df = df.loc[(df.event2 == 'conversion') | (df.event1 == 'conversion') | (df.event3 == 'conversion')]\n",
    "df"
   ]
  },
  {
   "cell_type": "code",
   "execution_count": null,
   "metadata": {},
   "outputs": [],
   "source": [
    "# Como a cada conversion siempre va a estar asociado un checkout, descartamos las truplas\n",
    "# con este evento.\n",
    "df = df.loc[(df.event2 != 'checkout') & (df.event1 != 'checkout') & (df.event3 != 'checkout')]\n",
    "df.head()"
   ]
  },
  {
   "cell_type": "code",
   "execution_count": null,
   "metadata": {},
   "outputs": [],
   "source": [
    "df = df.sort_values('support', ascending=False)\n",
    "df.head(10)"
   ]
  },
  {
   "cell_type": "code",
   "execution_count": null,
   "metadata": {},
   "outputs": [],
   "source": [
    "df['tuple'] = df['event1'] + ',' + df['event2']+ ',' + df['event3']"
   ]
  },
  {
   "cell_type": "code",
   "execution_count": null,
   "metadata": {},
   "outputs": [],
   "source": [
    "working_data = df.nlargest(20,'support')\n",
    "\n",
    "fig, ax = plt.subplots(figsize=(15,20))\n",
    "\n",
    "ax = sns.barplot(x=working_data['support'], y=working_data['tuple'], orient='h', edgecolor=\"black\", linewidth=0.5)\n",
    "ax.set_title('Truplas de eventos conteniendo conversion (ventas) con mayor soporte', fontsize=25)\n",
    "ax.set_xlabel('Soporte', labelpad=15, size=20)\n",
    "ax.set_ylabel('Truplas', rotation=0, labelpad=15, size=20)\n",
    "ax.set_yticklabels(ax.get_yticklabels(), size=25)\n",
    "ax.set_xticklabels(['0', '5', '10', '15', '20', '25'], size=20)\n",
    "ax.grid(axis='x')\n",
    "\n",
    "ax.title.set_position([0.35, 1.05])"
   ]
  },
  {
   "cell_type": "code",
   "execution_count": null,
   "metadata": {},
   "outputs": [],
   "source": [
    "ap.plot()"
   ]
  },
  {
   "cell_type": "code",
   "execution_count": null,
   "metadata": {},
   "outputs": [],
   "source": [
    "# Saco las columnas que no me interesan.\n",
    "filtered = data.drop(['timestamp','person'], axis='columns')"
   ]
  },
  {
   "cell_type": "code",
   "execution_count": null,
   "metadata": {},
   "outputs": [],
   "source": [
    "def columnas_sin_nans_para_event(dataframe, event):\n",
    "    return dataframe.loc[dataframe.event == event].iloc[0].dropna().index"
   ]
  },
  {
   "cell_type": "code",
   "execution_count": null,
   "metadata": {},
   "outputs": [],
   "source": [
    "for event in data.event.unique():\n",
    "    print(event + ': ' + str(list(columnas_sin_nans_para_event(filtered, event).drop('event'))))"
   ]
  },
  {
   "cell_type": "code",
   "execution_count": null,
   "metadata": {},
   "outputs": [],
   "source": [
    "ind = data.columns.drop(['timestamp', 'person','event'])\n",
    "ind"
   ]
  },
  {
   "cell_type": "code",
   "execution_count": null,
   "metadata": {},
   "outputs": [],
   "source": [
    "d = {'ad campaign hit' : pd.Series([1,0,0,0,0,0,0,0,0,1,0,0,0,0,0,0,0,0,0,0], index=ind),\n",
    "     'visited site' : pd.Series([0,0,0,0,0,0,0,0,0,0,0,1,1,1,1,1,1,1,1,1], index= ind),\n",
    "     'viewed product' : pd.Series([0,1,1,1,1,1,0,0,0,0,0,0,0,0,0,0,0,0,0,0], index= ind),\n",
    "     'checkout' : pd.Series([0,1,1,1,1,1,0,0,0,0,0,0,0,0,0,0,0,0,0,0], index= ind),\n",
    "     'generic listing' : pd.Series([0,0,0,0,0,0,1,0,0,0,0,0,0,0,0,0,0,0,0,0], index= ind),\n",
    "      'searched engine hit' : pd.Series([0,0,0,0,0,0,0,0,0,0,1,0,0,0,0,0,0,0,0,0], index= ind),\n",
    "      'brand listing' : pd.Series([0,0,0,0,0,0,1,0,0,0,0,0,0,0,0,0,0,0,0,0], index= ind),\n",
    "      'searched products' : pd.Series([0,0,0,0,0,0,1,1,0,0,0,0,0,0,0,0,0,0,0,0], index= ind),\n",
    "      'conversion' : pd.Series([0,1,1,1,1,1,0,0,0,0,0,0,0,0,0,0,0,0,0,0], index= ind),\n",
    "      'staticpage' : pd.Series([0,0,0,0,0,0,0,0,1,0,0,0,0,0,0,0,0,0,0,0], index= ind),\n",
    "      'lead' : pd.Series([0,0,1,0,0,0,0,0,0,0,0,0,0,0,0,0,0,0,0,0], index= ind)}"
   ]
  },
  {
   "cell_type": "code",
   "execution_count": null,
   "metadata": {},
   "outputs": [],
   "source": [
    "df = pd.DataFrame(d)\n",
    "df\n"
   ]
  },
  {
   "cell_type": "code",
   "execution_count": null,
   "metadata": {},
   "outputs": [],
   "source": [
    "plt.figure(figsize=(18, 5))\n",
    "g = sns.heatmap(df.T,linewidths=0.5, linecolor='white', square=True,cmap=\"Greens\",cbar=False)\n",
    "g.set_title(\"Columnas con datos no nulos segun evento\", fontsize=22)\n",
    "g.set_xlabel(\"Columnas con datos no nulos\",fontsize=18)\n",
    "g.set_ylabel(\"Eventos\", fontsize=18)"
   ]
  },
  {
   "cell_type": "code",
   "execution_count": null,
   "metadata": {},
   "outputs": [],
   "source": [
    "usuarios_nuevos = data[ data['new_vs_returning'] == 'New']"
   ]
  },
  {
   "cell_type": "code",
   "execution_count": null,
   "metadata": {},
   "outputs": [],
   "source": [
    "data['new_vs_returning'].value_counts()"
   ]
  },
  {
   "cell_type": "code",
   "execution_count": null,
   "metadata": {},
   "outputs": [],
   "source": [
    "a = data[['person', 'timestamp','city','event','new_vs_returning']].dropna()\n",
    "a"
   ]
  },
  {
   "cell_type": "code",
   "execution_count": null,
   "metadata": {},
   "outputs": [],
   "source": []
  },
  {
   "cell_type": "code",
   "execution_count": null,
   "metadata": {},
   "outputs": [],
   "source": []
  },
  {
   "cell_type": "code",
   "execution_count": null,
   "metadata": {},
   "outputs": [],
   "source": []
  },
  {
   "cell_type": "code",
   "execution_count": null,
   "metadata": {},
   "outputs": [],
   "source": []
  },
  {
   "cell_type": "code",
   "execution_count": null,
   "metadata": {},
   "outputs": [],
   "source": []
  },
  {
   "cell_type": "code",
   "execution_count": null,
   "metadata": {},
   "outputs": [],
   "source": []
  },
  {
   "cell_type": "code",
   "execution_count": null,
   "metadata": {},
   "outputs": [],
   "source": []
  }
 ],
 "metadata": {
  "kernelspec": {
   "display_name": "Python 3",
   "language": "python",
   "name": "python3"
  },
  "language_info": {
   "codemirror_mode": {
    "name": "ipython",
    "version": 3
   },
   "file_extension": ".py",
   "mimetype": "text/x-python",
   "name": "python",
   "nbconvert_exporter": "python",
   "pygments_lexer": "ipython3",
   "version": "3.5.2"
  }
 },
 "nbformat": 4,
 "nbformat_minor": 2
}
