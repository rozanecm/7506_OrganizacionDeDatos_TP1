{
 "cells": [
  {
   "cell_type": "code",
   "execution_count": 2,
   "metadata": {},
   "outputs": [],
   "source": [
    "import pandas as pd"
   ]
  },
  {
   "cell_type": "code",
   "execution_count": 17,
   "metadata": {},
   "outputs": [
    {
     "name": "stderr",
     "output_type": "stream",
     "text": [
      "/home/rozanecm/Documents/Univerza/UBA/7506 Organizacion de Datos/2018/tp/venv/lib/python3.5/site-packages/IPython/core/interactiveshell.py:2785: DtypeWarning: Columns (4) have mixed types. Specify dtype option on import or set low_memory=False.\n",
      "  interactivity=interactivity, compiler=compiler, result=result)\n"
     ]
    }
   ],
   "source": [
    "df = pd.read_csv('data/events.csv')"
   ]
  },
  {
   "cell_type": "code",
   "execution_count": 12,
   "metadata": {},
   "outputs": [
    {
     "data": {
      "text/plain": [
       "timestamp                   object\n",
       "event                       object\n",
       "person                      object\n",
       "url                         object\n",
       "sku                         object\n",
       "model                       object\n",
       "condition                   object\n",
       "storage                     object\n",
       "color                       object\n",
       "skus                        object\n",
       "search_term                 object\n",
       "staticpage                  object\n",
       "campaign_source             object\n",
       "search_engine               object\n",
       "channel                     object\n",
       "new_vs_returning            object\n",
       "city                        object\n",
       "region                      object\n",
       "country                     object\n",
       "device_type                 object\n",
       "screen_resolution           object\n",
       "operating_system_version    object\n",
       "browser_version             object\n",
       "dtype: object"
      ]
     },
     "execution_count": 12,
     "metadata": {},
     "output_type": "execute_result"
    }
   ],
   "source": [
    "df.dtypes"
   ]
  },
  {
   "cell_type": "markdown",
   "metadata": {},
   "source": [
    "Empecemos por convertir los timestamps en algo legible"
   ]
  },
  {
   "cell_type": "code",
   "execution_count": 18,
   "metadata": {},
   "outputs": [
    {
     "data": {
      "text/plain": [
       "0    2018-05-31 23:38:05\n",
       "1    2018-05-31 23:38:05\n",
       "2    2018-05-31 23:38:09\n",
       "3    2018-05-31 23:38:40\n",
       "4    2018-05-29 13:29:25\n",
       "Name: timestamp, dtype: object"
      ]
     },
     "execution_count": 18,
     "metadata": {},
     "output_type": "execute_result"
    }
   ],
   "source": [
    "df['timestamp'].head()"
   ]
  },
  {
   "cell_type": "code",
   "execution_count": 20,
   "metadata": {},
   "outputs": [],
   "source": [
    "df['timestamp'] = pd.to_datetime(df['timestamp'])"
   ]
  },
  {
   "cell_type": "code",
   "execution_count": 21,
   "metadata": {},
   "outputs": [
    {
     "data": {
      "text/plain": [
       "0   2018-05-31 23:38:05\n",
       "1   2018-05-31 23:38:05\n",
       "2   2018-05-31 23:38:09\n",
       "3   2018-05-31 23:38:40\n",
       "4   2018-05-29 13:29:25\n",
       "Name: timestamp, dtype: datetime64[ns]"
      ]
     },
     "execution_count": 21,
     "metadata": {},
     "output_type": "execute_result"
    }
   ],
   "source": [
    "df['timestamp'].head()"
   ]
  },
  {
   "cell_type": "code",
   "execution_count": 31,
   "metadata": {},
   "outputs": [
    {
     "data": {
      "text/plain": [
       "0          23\n",
       "1          23\n",
       "2          23\n",
       "3          23\n",
       "4          13\n",
       "5          13\n",
       "6          13\n",
       "7          13\n",
       "8          20\n",
       "9          20\n",
       "10         20\n",
       "11         20\n",
       "12         20\n",
       "13         20\n",
       "14         20\n",
       "15         11\n",
       "16         11\n",
       "17         11\n",
       "18         11\n",
       "19         11\n",
       "20         11\n",
       "21         11\n",
       "22         11\n",
       "23         11\n",
       "24         11\n",
       "25         11\n",
       "26         11\n",
       "27         11\n",
       "28         11\n",
       "29         11\n",
       "           ..\n",
       "1011258    13\n",
       "1011259    13\n",
       "1011260    13\n",
       "1011261    13\n",
       "1011262    13\n",
       "1011263    13\n",
       "1011264    15\n",
       "1011265    15\n",
       "1011266    15\n",
       "1011267    15\n",
       "1011268    15\n",
       "1011269    15\n",
       "1011270    15\n",
       "1011271    15\n",
       "1011272    15\n",
       "1011273    15\n",
       "1011274    15\n",
       "1011275    15\n",
       "1011276    12\n",
       "1011277    12\n",
       "1011278    12\n",
       "1011279    12\n",
       "1011280    12\n",
       "1011281    12\n",
       "1011282    12\n",
       "1011283    12\n",
       "1011284    23\n",
       "1011285    23\n",
       "1011286    23\n",
       "1011287    23\n",
       "Name: timestamp, Length: 1011288, dtype: int64"
      ]
     },
     "execution_count": 31,
     "metadata": {},
     "output_type": "execute_result"
    }
   ],
   "source": [
    "# separemos las cosas para que quede algo manejable; no tiene sentido tener el timestamp todo junto\n",
    "# df['timestamp'].dt.hour\n",
    "df['year'] = df['timestamp'].date.year\n",
    "df['month'] = df['timestamp'].dt.month\n",
    "# df['weekday'] = df['timestamp'].dt.day\n",
    "# df['hour'] = df['timestamp'].dt.hour\n",
    "# df['minute'] = df['timestamp'].dt.year"
   ]
  }
 ],
 "metadata": {
  "kernelspec": {
   "display_name": "Python 3",
   "language": "python",
   "name": "python3"
  },
  "language_info": {
   "codemirror_mode": {
    "name": "ipython",
    "version": 3
   },
   "file_extension": ".py",
   "mimetype": "text/x-python",
   "name": "python",
   "nbconvert_exporter": "python",
   "pygments_lexer": "ipython3",
   "version": "3.5.2"
  }
 },
 "nbformat": 4,
 "nbformat_minor": 2
}
